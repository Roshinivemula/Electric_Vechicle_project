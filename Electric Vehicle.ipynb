{
 "cells": [
  {
   "cell_type": "code",
   "execution_count": 1,
   "id": "eced4669",
   "metadata": {},
   "outputs": [],
   "source": [
    "import pandas as pd\n",
    "import numpy as np\n",
    "import matplotlib.pyplot as plt\n",
    "import seaborn as sns"
   ]
  },
  {
   "cell_type": "code",
   "execution_count": 2,
   "id": "d7c61923",
   "metadata": {},
   "outputs": [],
   "source": [
    "df = pd.read_csv(\"dataset.csv\")"
   ]
  },
  {
   "cell_type": "code",
   "execution_count": 3,
   "id": "5b4eccce",
   "metadata": {},
   "outputs": [
    {
     "data": {
      "text/html": [
       "<div>\n",
       "<style scoped>\n",
       "    .dataframe tbody tr th:only-of-type {\n",
       "        vertical-align: middle;\n",
       "    }\n",
       "\n",
       "    .dataframe tbody tr th {\n",
       "        vertical-align: top;\n",
       "    }\n",
       "\n",
       "    .dataframe thead th {\n",
       "        text-align: right;\n",
       "    }\n",
       "</style>\n",
       "<table border=\"1\" class=\"dataframe\">\n",
       "  <thead>\n",
       "    <tr style=\"text-align: right;\">\n",
       "      <th></th>\n",
       "      <th>VIN (1-10)</th>\n",
       "      <th>County</th>\n",
       "      <th>City</th>\n",
       "      <th>State</th>\n",
       "      <th>Postal Code</th>\n",
       "      <th>Model Year</th>\n",
       "      <th>Make</th>\n",
       "      <th>Model</th>\n",
       "      <th>Electric Vehicle Type</th>\n",
       "      <th>Clean Alternative Fuel Vehicle (CAFV) Eligibility</th>\n",
       "      <th>Electric Range</th>\n",
       "      <th>Base MSRP</th>\n",
       "      <th>Legislative District</th>\n",
       "      <th>DOL Vehicle ID</th>\n",
       "      <th>Vehicle Location</th>\n",
       "      <th>Electric Utility</th>\n",
       "      <th>2020 Census Tract</th>\n",
       "    </tr>\n",
       "  </thead>\n",
       "  <tbody>\n",
       "    <tr>\n",
       "      <th>0</th>\n",
       "      <td>JTMEB3FV6N</td>\n",
       "      <td>Monroe</td>\n",
       "      <td>Key West</td>\n",
       "      <td>FL</td>\n",
       "      <td>33040</td>\n",
       "      <td>2022</td>\n",
       "      <td>TOYOTA</td>\n",
       "      <td>RAV4 PRIME</td>\n",
       "      <td>Plug-in Hybrid Electric Vehicle (PHEV)</td>\n",
       "      <td>Clean Alternative Fuel Vehicle Eligible</td>\n",
       "      <td>42</td>\n",
       "      <td>0</td>\n",
       "      <td>NaN</td>\n",
       "      <td>198968248</td>\n",
       "      <td>POINT (-81.80023 24.5545)</td>\n",
       "      <td>NaN</td>\n",
       "      <td>12087972100</td>\n",
       "    </tr>\n",
       "    <tr>\n",
       "      <th>1</th>\n",
       "      <td>1G1RD6E45D</td>\n",
       "      <td>Clark</td>\n",
       "      <td>Laughlin</td>\n",
       "      <td>NV</td>\n",
       "      <td>89029</td>\n",
       "      <td>2013</td>\n",
       "      <td>CHEVROLET</td>\n",
       "      <td>VOLT</td>\n",
       "      <td>Plug-in Hybrid Electric Vehicle (PHEV)</td>\n",
       "      <td>Clean Alternative Fuel Vehicle Eligible</td>\n",
       "      <td>38</td>\n",
       "      <td>0</td>\n",
       "      <td>NaN</td>\n",
       "      <td>5204412</td>\n",
       "      <td>POINT (-114.57245 35.16815)</td>\n",
       "      <td>NaN</td>\n",
       "      <td>32003005702</td>\n",
       "    </tr>\n",
       "    <tr>\n",
       "      <th>2</th>\n",
       "      <td>JN1AZ0CP8B</td>\n",
       "      <td>Yakima</td>\n",
       "      <td>Yakima</td>\n",
       "      <td>WA</td>\n",
       "      <td>98901</td>\n",
       "      <td>2011</td>\n",
       "      <td>NISSAN</td>\n",
       "      <td>LEAF</td>\n",
       "      <td>Battery Electric Vehicle (BEV)</td>\n",
       "      <td>Clean Alternative Fuel Vehicle Eligible</td>\n",
       "      <td>73</td>\n",
       "      <td>0</td>\n",
       "      <td>15.0</td>\n",
       "      <td>218972519</td>\n",
       "      <td>POINT (-120.50721 46.60448)</td>\n",
       "      <td>PACIFICORP</td>\n",
       "      <td>53077001602</td>\n",
       "    </tr>\n",
       "    <tr>\n",
       "      <th>3</th>\n",
       "      <td>1G1FW6S08H</td>\n",
       "      <td>Skagit</td>\n",
       "      <td>Concrete</td>\n",
       "      <td>WA</td>\n",
       "      <td>98237</td>\n",
       "      <td>2017</td>\n",
       "      <td>CHEVROLET</td>\n",
       "      <td>BOLT EV</td>\n",
       "      <td>Battery Electric Vehicle (BEV)</td>\n",
       "      <td>Clean Alternative Fuel Vehicle Eligible</td>\n",
       "      <td>238</td>\n",
       "      <td>0</td>\n",
       "      <td>39.0</td>\n",
       "      <td>186750406</td>\n",
       "      <td>POINT (-121.7515 48.53892)</td>\n",
       "      <td>PUGET SOUND ENERGY INC</td>\n",
       "      <td>53057951101</td>\n",
       "    </tr>\n",
       "    <tr>\n",
       "      <th>4</th>\n",
       "      <td>3FA6P0SU1K</td>\n",
       "      <td>Snohomish</td>\n",
       "      <td>Everett</td>\n",
       "      <td>WA</td>\n",
       "      <td>98201</td>\n",
       "      <td>2019</td>\n",
       "      <td>FORD</td>\n",
       "      <td>FUSION</td>\n",
       "      <td>Plug-in Hybrid Electric Vehicle (PHEV)</td>\n",
       "      <td>Not eligible due to low battery range</td>\n",
       "      <td>26</td>\n",
       "      <td>0</td>\n",
       "      <td>38.0</td>\n",
       "      <td>2006714</td>\n",
       "      <td>POINT (-122.20596 47.97659)</td>\n",
       "      <td>PUGET SOUND ENERGY INC</td>\n",
       "      <td>53061041500</td>\n",
       "    </tr>\n",
       "  </tbody>\n",
       "</table>\n",
       "</div>"
      ],
      "text/plain": [
       "   VIN (1-10)     County      City State  Postal Code  Model Year       Make  \\\n",
       "0  JTMEB3FV6N     Monroe  Key West    FL        33040        2022     TOYOTA   \n",
       "1  1G1RD6E45D      Clark  Laughlin    NV        89029        2013  CHEVROLET   \n",
       "2  JN1AZ0CP8B     Yakima    Yakima    WA        98901        2011     NISSAN   \n",
       "3  1G1FW6S08H     Skagit  Concrete    WA        98237        2017  CHEVROLET   \n",
       "4  3FA6P0SU1K  Snohomish   Everett    WA        98201        2019       FORD   \n",
       "\n",
       "        Model                   Electric Vehicle Type  \\\n",
       "0  RAV4 PRIME  Plug-in Hybrid Electric Vehicle (PHEV)   \n",
       "1        VOLT  Plug-in Hybrid Electric Vehicle (PHEV)   \n",
       "2        LEAF          Battery Electric Vehicle (BEV)   \n",
       "3     BOLT EV          Battery Electric Vehicle (BEV)   \n",
       "4      FUSION  Plug-in Hybrid Electric Vehicle (PHEV)   \n",
       "\n",
       "  Clean Alternative Fuel Vehicle (CAFV) Eligibility  Electric Range  \\\n",
       "0           Clean Alternative Fuel Vehicle Eligible              42   \n",
       "1           Clean Alternative Fuel Vehicle Eligible              38   \n",
       "2           Clean Alternative Fuel Vehicle Eligible              73   \n",
       "3           Clean Alternative Fuel Vehicle Eligible             238   \n",
       "4             Not eligible due to low battery range              26   \n",
       "\n",
       "   Base MSRP  Legislative District  DOL Vehicle ID  \\\n",
       "0          0                   NaN       198968248   \n",
       "1          0                   NaN         5204412   \n",
       "2          0                  15.0       218972519   \n",
       "3          0                  39.0       186750406   \n",
       "4          0                  38.0         2006714   \n",
       "\n",
       "              Vehicle Location        Electric Utility  2020 Census Tract  \n",
       "0    POINT (-81.80023 24.5545)                     NaN        12087972100  \n",
       "1  POINT (-114.57245 35.16815)                     NaN        32003005702  \n",
       "2  POINT (-120.50721 46.60448)              PACIFICORP        53077001602  \n",
       "3   POINT (-121.7515 48.53892)  PUGET SOUND ENERGY INC        53057951101  \n",
       "4  POINT (-122.20596 47.97659)  PUGET SOUND ENERGY INC        53061041500  "
      ]
     },
     "execution_count": 3,
     "metadata": {},
     "output_type": "execute_result"
    }
   ],
   "source": [
    "df.head()"
   ]
  },
  {
   "cell_type": "code",
   "execution_count": 4,
   "id": "712d822d",
   "metadata": {},
   "outputs": [
    {
     "name": "stdout",
     "output_type": "stream",
     "text": [
      "<class 'pandas.core.frame.DataFrame'>\n",
      "RangeIndex: 112634 entries, 0 to 112633\n",
      "Data columns (total 17 columns):\n",
      " #   Column                                             Non-Null Count   Dtype  \n",
      "---  ------                                             --------------   -----  \n",
      " 0   VIN (1-10)                                         112634 non-null  object \n",
      " 1   County                                             112634 non-null  object \n",
      " 2   City                                               112634 non-null  object \n",
      " 3   State                                              112634 non-null  object \n",
      " 4   Postal Code                                        112634 non-null  int64  \n",
      " 5   Model Year                                         112634 non-null  int64  \n",
      " 6   Make                                               112634 non-null  object \n",
      " 7   Model                                              112614 non-null  object \n",
      " 8   Electric Vehicle Type                              112634 non-null  object \n",
      " 9   Clean Alternative Fuel Vehicle (CAFV) Eligibility  112634 non-null  object \n",
      " 10  Electric Range                                     112634 non-null  int64  \n",
      " 11  Base MSRP                                          112634 non-null  int64  \n",
      " 12  Legislative District                               112348 non-null  float64\n",
      " 13  DOL Vehicle ID                                     112634 non-null  int64  \n",
      " 14  Vehicle Location                                   112610 non-null  object \n",
      " 15  Electric Utility                                   112191 non-null  object \n",
      " 16  2020 Census Tract                                  112634 non-null  int64  \n",
      "dtypes: float64(1), int64(6), object(10)\n",
      "memory usage: 14.6+ MB\n"
     ]
    }
   ],
   "source": [
    "df.info()"
   ]
  },
  {
   "cell_type": "code",
   "execution_count": 5,
   "id": "b3bfc3e4",
   "metadata": {},
   "outputs": [
    {
     "data": {
      "text/html": [
       "<div>\n",
       "<style scoped>\n",
       "    .dataframe tbody tr th:only-of-type {\n",
       "        vertical-align: middle;\n",
       "    }\n",
       "\n",
       "    .dataframe tbody tr th {\n",
       "        vertical-align: top;\n",
       "    }\n",
       "\n",
       "    .dataframe thead th {\n",
       "        text-align: right;\n",
       "    }\n",
       "</style>\n",
       "<table border=\"1\" class=\"dataframe\">\n",
       "  <thead>\n",
       "    <tr style=\"text-align: right;\">\n",
       "      <th></th>\n",
       "      <th>Postal Code</th>\n",
       "      <th>Model Year</th>\n",
       "      <th>Electric Range</th>\n",
       "      <th>Base MSRP</th>\n",
       "      <th>Legislative District</th>\n",
       "      <th>DOL Vehicle ID</th>\n",
       "      <th>2020 Census Tract</th>\n",
       "    </tr>\n",
       "  </thead>\n",
       "  <tbody>\n",
       "    <tr>\n",
       "      <th>count</th>\n",
       "      <td>112634.000000</td>\n",
       "      <td>112634.000000</td>\n",
       "      <td>112634.000000</td>\n",
       "      <td>112634.000000</td>\n",
       "      <td>112348.000000</td>\n",
       "      <td>1.126340e+05</td>\n",
       "      <td>1.126340e+05</td>\n",
       "    </tr>\n",
       "    <tr>\n",
       "      <th>mean</th>\n",
       "      <td>98156.226850</td>\n",
       "      <td>2019.003365</td>\n",
       "      <td>87.812987</td>\n",
       "      <td>1793.439681</td>\n",
       "      <td>29.805604</td>\n",
       "      <td>1.994567e+08</td>\n",
       "      <td>5.296650e+10</td>\n",
       "    </tr>\n",
       "    <tr>\n",
       "      <th>std</th>\n",
       "      <td>2648.733064</td>\n",
       "      <td>2.892364</td>\n",
       "      <td>102.334216</td>\n",
       "      <td>10783.753486</td>\n",
       "      <td>14.700545</td>\n",
       "      <td>9.398427e+07</td>\n",
       "      <td>1.699104e+09</td>\n",
       "    </tr>\n",
       "    <tr>\n",
       "      <th>min</th>\n",
       "      <td>1730.000000</td>\n",
       "      <td>1997.000000</td>\n",
       "      <td>0.000000</td>\n",
       "      <td>0.000000</td>\n",
       "      <td>1.000000</td>\n",
       "      <td>4.777000e+03</td>\n",
       "      <td>1.101001e+09</td>\n",
       "    </tr>\n",
       "    <tr>\n",
       "      <th>25%</th>\n",
       "      <td>98052.000000</td>\n",
       "      <td>2017.000000</td>\n",
       "      <td>0.000000</td>\n",
       "      <td>0.000000</td>\n",
       "      <td>18.000000</td>\n",
       "      <td>1.484142e+08</td>\n",
       "      <td>5.303301e+10</td>\n",
       "    </tr>\n",
       "    <tr>\n",
       "      <th>50%</th>\n",
       "      <td>98119.000000</td>\n",
       "      <td>2020.000000</td>\n",
       "      <td>32.000000</td>\n",
       "      <td>0.000000</td>\n",
       "      <td>34.000000</td>\n",
       "      <td>1.923896e+08</td>\n",
       "      <td>5.303303e+10</td>\n",
       "    </tr>\n",
       "    <tr>\n",
       "      <th>75%</th>\n",
       "      <td>98370.000000</td>\n",
       "      <td>2022.000000</td>\n",
       "      <td>208.000000</td>\n",
       "      <td>0.000000</td>\n",
       "      <td>43.000000</td>\n",
       "      <td>2.191899e+08</td>\n",
       "      <td>5.305307e+10</td>\n",
       "    </tr>\n",
       "    <tr>\n",
       "      <th>max</th>\n",
       "      <td>99701.000000</td>\n",
       "      <td>2023.000000</td>\n",
       "      <td>337.000000</td>\n",
       "      <td>845000.000000</td>\n",
       "      <td>49.000000</td>\n",
       "      <td>4.792548e+08</td>\n",
       "      <td>5.603300e+10</td>\n",
       "    </tr>\n",
       "  </tbody>\n",
       "</table>\n",
       "</div>"
      ],
      "text/plain": [
       "         Postal Code     Model Year  Electric Range      Base MSRP  \\\n",
       "count  112634.000000  112634.000000   112634.000000  112634.000000   \n",
       "mean    98156.226850    2019.003365       87.812987    1793.439681   \n",
       "std      2648.733064       2.892364      102.334216   10783.753486   \n",
       "min      1730.000000    1997.000000        0.000000       0.000000   \n",
       "25%     98052.000000    2017.000000        0.000000       0.000000   \n",
       "50%     98119.000000    2020.000000       32.000000       0.000000   \n",
       "75%     98370.000000    2022.000000      208.000000       0.000000   \n",
       "max     99701.000000    2023.000000      337.000000  845000.000000   \n",
       "\n",
       "       Legislative District  DOL Vehicle ID  2020 Census Tract  \n",
       "count         112348.000000    1.126340e+05       1.126340e+05  \n",
       "mean              29.805604    1.994567e+08       5.296650e+10  \n",
       "std               14.700545    9.398427e+07       1.699104e+09  \n",
       "min                1.000000    4.777000e+03       1.101001e+09  \n",
       "25%               18.000000    1.484142e+08       5.303301e+10  \n",
       "50%               34.000000    1.923896e+08       5.303303e+10  \n",
       "75%               43.000000    2.191899e+08       5.305307e+10  \n",
       "max               49.000000    4.792548e+08       5.603300e+10  "
      ]
     },
     "execution_count": 5,
     "metadata": {},
     "output_type": "execute_result"
    }
   ],
   "source": [
    "df.describe()"
   ]
  },
  {
   "cell_type": "code",
   "execution_count": 6,
   "id": "be38c30d",
   "metadata": {},
   "outputs": [
    {
     "data": {
      "text/plain": [
       "VIN (1-10)                                             0\n",
       "County                                                 0\n",
       "City                                                   0\n",
       "State                                                  0\n",
       "Postal Code                                            0\n",
       "Model Year                                             0\n",
       "Make                                                   0\n",
       "Model                                                 20\n",
       "Electric Vehicle Type                                  0\n",
       "Clean Alternative Fuel Vehicle (CAFV) Eligibility      0\n",
       "Electric Range                                         0\n",
       "Base MSRP                                              0\n",
       "Legislative District                                 286\n",
       "DOL Vehicle ID                                         0\n",
       "Vehicle Location                                      24\n",
       "Electric Utility                                     443\n",
       "2020 Census Tract                                      0\n",
       "dtype: int64"
      ]
     },
     "execution_count": 6,
     "metadata": {},
     "output_type": "execute_result"
    }
   ],
   "source": [
    "df.isnull().sum()"
   ]
  },
  {
   "cell_type": "code",
   "execution_count": 7,
   "id": "b7a9e3fc",
   "metadata": {},
   "outputs": [
    {
     "data": {
      "text/plain": [
       "(112634, 17)"
      ]
     },
     "execution_count": 7,
     "metadata": {},
     "output_type": "execute_result"
    }
   ],
   "source": [
    "df.shape"
   ]
  },
  {
   "cell_type": "code",
   "execution_count": 8,
   "id": "507e8c5b",
   "metadata": {},
   "outputs": [
    {
     "data": {
      "text/plain": [
       "VIN (1-10)                                            object\n",
       "County                                                object\n",
       "City                                                  object\n",
       "State                                                 object\n",
       "Postal Code                                            int64\n",
       "Model Year                                             int64\n",
       "Make                                                  object\n",
       "Model                                                 object\n",
       "Electric Vehicle Type                                 object\n",
       "Clean Alternative Fuel Vehicle (CAFV) Eligibility     object\n",
       "Electric Range                                         int64\n",
       "Base MSRP                                              int64\n",
       "Legislative District                                 float64\n",
       "DOL Vehicle ID                                         int64\n",
       "Vehicle Location                                      object\n",
       "Electric Utility                                      object\n",
       "2020 Census Tract                                      int64\n",
       "dtype: object"
      ]
     },
     "execution_count": 8,
     "metadata": {},
     "output_type": "execute_result"
    }
   ],
   "source": [
    "df.dtypes"
   ]
  },
  {
   "cell_type": "code",
   "execution_count": 9,
   "id": "f0bf5e9d",
   "metadata": {},
   "outputs": [
    {
     "data": {
      "text/plain": [
       "Index(['VIN (1-10)', 'County', 'City', 'State', 'Postal Code', 'Model Year',\n",
       "       'Make', 'Model', 'Electric Vehicle Type',\n",
       "       'Clean Alternative Fuel Vehicle (CAFV) Eligibility', 'Electric Range',\n",
       "       'Base MSRP', 'Legislative District', 'DOL Vehicle ID',\n",
       "       'Vehicle Location', 'Electric Utility', '2020 Census Tract'],\n",
       "      dtype='object')"
      ]
     },
     "execution_count": 9,
     "metadata": {},
     "output_type": "execute_result"
    }
   ],
   "source": [
    "df.columns"
   ]
  },
  {
   "cell_type": "code",
   "execution_count": 10,
   "id": "d759d3dd",
   "metadata": {},
   "outputs": [
    {
     "name": "stdout",
     "output_type": "stream",
     "text": [
      "******************** VIN (1-10) ********************\n",
      "['JTMEB3FV6N' '1G1RD6E45D' 'JN1AZ0CP8B' ... 'KMHE14L25K' 'WA1LAAGE5M'\n",
      " 'YV4ED3GM0P']\n",
      "******************** County ********************\n",
      "['Monroe' 'Clark' 'Yakima' 'Skagit' 'Snohomish' 'Island' 'Thurston'\n",
      " 'Grant' 'St. Clair' 'Pierce' 'Saratoga' 'Stevens' 'King' 'Kitsap'\n",
      " 'Newport News' 'Jackson' 'Whitman' 'Lake' 'Spokane' 'Clallam' 'Cowlitz'\n",
      " 'Kittitas' 'Grays Harbor' 'Chelan' 'Whatcom' 'Benton' 'Walla Walla'\n",
      " 'Mason' 'San Juan' 'Lewis' 'Jefferson' 'Douglas' 'Klickitat' 'Geary'\n",
      " 'Skamania' 'Fairfax' 'Adams' 'Franklin' 'Okanogan' 'Sonoma' 'Asotin'\n",
      " 'Ferry' 'Pacific' 'Riverside' 'Orange' 'Columbia' 'Wahkiakum'\n",
      " 'Leavenworth' 'Contra Costa' 'Howard' 'Larimer' 'District of Columbia'\n",
      " 'Washington' 'Tipton' 'San Diego' 'Sumter' \"Prince George's\" 'New Haven'\n",
      " 'Lincoln' 'Las Animas' 'Frederick' 'Hidalgo' 'Pend Oreille' 'Bexar'\n",
      " 'Garfield' 'Pennington' 'Honolulu' 'Anne Arundel' 'Montgomery' 'Houston'\n",
      " 'Charleston' 'Monterey' 'Kern' 'Napa' 'Loudoun' 'Harrison' 'Pulaski'\n",
      " 'Cumberland' 'Los Angeles' 'Ray' 'Salt Lake' 'Solano' 'Allegheny'\n",
      " 'Carroll' 'Clackamas' 'Kent' 'Harris' 'Ventura' 'Hamilton' 'Polk'\n",
      " 'Placer' 'Calvert' 'Sheridan' 'Kings' 'El Paso' 'Portsmouth' 'Elmore'\n",
      " 'Santa Clara' 'Pinal' 'Wayne' 'Alameda' 'Maricopa' 'Stafford'\n",
      " 'Santa Barbara' 'Fairbanks North Star' 'Plaquemines' 'Rock Island'\n",
      " 'Chaves' 'Palm Beach' 'Danville' 'Galveston' 'Virginia Beach' 'Suffolk'\n",
      " 'Louisa' 'Hillsborough' 'Denton' 'Bell' 'Norfolk' 'Okaloosa' 'Rockdale'\n",
      " 'Cook' 'Chesapeake' 'Alexandria' 'Charles' 'Boulder' 'Beaufort'\n",
      " 'St. Louis' \"St. Mary's\" 'Marin' 'Arapahoe' 'Laramie' 'Multnomah' 'Hoke'\n",
      " 'Sarasota' 'Santa Cruz' 'Queens' 'Wichita' 'San Bernardino' 'Oldham'\n",
      " 'Onslow' 'Arlington' 'Sarpy' 'Moore' 'Sevier' 'Bartow' 'Sacramento'\n",
      " 'Camden' 'Hennepin' 'Middlesex' 'New London' 'Platte' 'Penobscot'\n",
      " 'Nassau' 'Richmond' 'Newport' 'Rockingham' 'San Mateo' 'DeKalb' 'Kauai'\n",
      " 'Burlington' 'St. Tammany' 'Bryan' 'Dorchester' 'Williams' 'Kootenai']\n",
      "******************** City ********************\n",
      "['Key West' 'Laughlin' 'Yakima' 'Concrete' 'Everett' 'Bothell' 'Mukilteo'\n",
      " 'Clinton' 'Anacortes' 'Lacey' 'Moses Lake' 'Mascoutah' 'Rochester'\n",
      " 'Burlington' 'Kapowsin' 'Marysville' 'Lynnwood' 'Greenfield Center'\n",
      " 'Edmonds' 'Nine Mile Falls' 'Olympia' 'Seattle' 'Auburn' 'Langley'\n",
      " 'Snohomish' 'Bremerton' 'Newport News' 'Altus' 'Pullman' 'Highland Park'\n",
      " 'Spokane' 'Suquamish' 'Monroe' 'Sequim' 'Keyport' 'Gurnee' 'Maple Valley'\n",
      " 'Kent' 'Lake Forest Park' 'Poulsbo' 'Redmond' 'Issaquah' 'Longview'\n",
      " 'Tacoma' 'Ellensburg' 'Burien' 'Gig Harbor' 'South Hill' 'Sammamish'\n",
      " 'Westport' 'Vancouver' 'Airway Heights' 'Mercer Island' 'Stanwood'\n",
      " 'Tumwater' 'Bainbridge Island' 'Entiat' 'Lakewood' 'Lake Tapps'\n",
      " 'Bellevue' 'Kirkland' 'Newcastle' 'Port Orchard' 'Bellingham' 'Richland'\n",
      " 'Camano Island' 'Wenatchee' 'Lake Stevens' 'Roy' 'Des Moines' 'Renton'\n",
      " 'Camas' 'Kennewick' 'Battle Ground' 'Bonney Lake' 'Walla Walla'\n",
      " 'North Bend' 'Mount Vernon' 'Woodland' 'Woodinville' 'Allyn' 'Brier'\n",
      " 'Snoqualmie' 'Fall City' 'Puyallup' 'Friday Harbor' 'Point Roberts'\n",
      " 'Dupont' 'Castle Rock' 'Blaine' 'Morton' 'Port Townsend' 'Roslyn'\n",
      " 'Kenmore' 'Covington' 'Federal Way' 'Silverdale' 'Medina' 'Shoreline'\n",
      " 'Enumclaw' 'Orondo' 'Grandview' 'Mill Creek' 'Zillah' 'Edgewood' 'Vashon'\n",
      " 'White Salmon' 'Normandy Park' 'Fircrest' 'East Wenatchee' 'Peshastin'\n",
      " 'Grapeview' 'Steilacoom' 'Sumner' 'Junction City' 'Greenacres' 'Shelton'\n",
      " 'Chehalis' 'Pacific Beach' 'Everson' 'Black Diamond' 'North Bonneville'\n",
      " 'Coupeville' 'Seabeck' 'Arlington' 'Alexandria' 'Palouse' 'Bow' 'Lakebay'\n",
      " 'University Place' 'Clyde Hill' 'Cle Elum' 'Yacolt' 'Oak Harbor'\n",
      " 'Goldendale' 'Port Hadlock' 'Acme' 'Ritzville' 'Union' 'Orting' 'Tahuya'\n",
      " 'Fox Island' 'Moxee' 'Port Angeles' 'Spanaway' 'Lopez Island'\n",
      " 'Hunts Point' 'Leavenworth' 'Seatac' 'Stevenson' 'Pasco' 'Yelm'\n",
      " 'Tonasket' 'Liberty Lake' 'Hansville' 'Eastsound' 'Nordland' 'Touchet'\n",
      " 'Spokane Valley' 'Tukwila' 'Selah' 'Fife' 'Lynden' 'Aberdeen'\n",
      " 'Anderson Island' 'Orcas Is' 'Kingston' 'Randle' 'Sedro-Woolley'\n",
      " 'Carnation' 'Belfair' 'Cheney' 'Elma' 'Olalla' 'Granite Falls' 'Ephrata'\n",
      " 'Preston' 'Ridgefield' 'Mccleary' 'Ferndale' 'Mountlake Terrace'\n",
      " 'Freeland' 'Sonoma' 'Yarrow Point' 'Rainier' 'Sunnyside' 'Salkum'\n",
      " 'Colville' 'Duvall' 'Otis Orchards' 'Twisp' 'Eatonville' 'Chattaroy'\n",
      " 'Ocean Shores' 'Washougal' 'Port Ludlow' 'Benton City' 'Clarkston'\n",
      " 'Ravensdale' 'Kelso' 'Curlew' 'Deming' 'Prosser' 'Milton' 'Artondale'\n",
      " 'Hoodsport' 'West Richland' 'Parkland' 'Chelan' 'Graham' 'Raymond'\n",
      " 'Brush Prairie' 'Rock Island' 'La Conner' 'St John' 'Mead' 'Hoquiam'\n",
      " 'Deer Park' 'Electric City' 'Chimacum' 'Burbank' 'Quincy' 'Omaha'\n",
      " 'La Center' 'Ronald' 'Long Beach' 'Valley' 'Beaux Arts' 'Kalama'\n",
      " 'Indianola' 'Winthrop' 'Wildomar' 'Aliso Viejo' 'Woodway' 'Buckley'\n",
      " 'Montesano' 'Las Vegas' 'Dayton' 'Vaughn' 'Onalaska' 'Medical Lake'\n",
      " 'Nooksack' 'Centralia' 'Sultan' 'Trout Lake' 'Seaview' 'Carson' 'Colbert'\n",
      " 'Lummi Island' 'Newman Lake' 'Cathlamet' 'Veradale' 'Valleyford'\n",
      " 'Cashmere' 'Ariel' 'Cosmopolis' 'Bz Corner' 'Ilwaco' 'Oakville' 'Algona'\n",
      " 'Silverlake' 'Lopez Is' 'Winlock' 'Greenbank' 'Tenino' 'Royal City'\n",
      " 'Tulalip' 'Fort Leavenworth' 'Custer' 'Moraga' 'College Place'\n",
      " 'Underwood' 'Amboy' 'Bingen' 'Ryderwood' 'Clearlake' 'Naches' 'Surfside'\n",
      " 'Olga' 'Ocean Park' 'Othello' 'Rosalia' 'Snoqualmie Pass' 'Timnath'\n",
      " 'Republic' 'Washington' 'Keedysville' 'Atoka' 'San Diego' 'Sumter'\n",
      " 'Upper Marlboro' 'Madison' 'Lincoln City' 'Grand Coulee' 'Trinidad'\n",
      " 'Chewelah' 'Packwood' 'Thorp' 'Frederick' 'Malaga' 'Lind'\n",
      " 'Joint Base Lewis Mcchord' 'Granger' 'Wilbur' 'Toledo' 'Pacific'\n",
      " 'Toppenish' 'Eltopia' 'Sekiu' 'Sedro Woolley' 'Garfield' 'Lincoln'\n",
      " 'Mcallen' 'Newport' 'Harrington' 'San Antonio' 'Ethel' 'Pomeroy'\n",
      " 'Longbranch' 'Connell' 'Brinnon' 'Skykomish' 'Reardan' 'Maple Falls'\n",
      " 'Rapid City' 'Coulee City' 'Dallesport' 'Vantage' 'Oroville' 'Manson'\n",
      " 'Honolulu' 'Omak' 'Bridgeport Bar' 'Mesa' 'Odenton' 'Waterville'\n",
      " 'Chinook' 'Gold Bar' 'Soap Lake' 'Nahcotta' 'Tieton' 'Silver Spring'\n",
      " 'Warner Robins' 'Mattawa' 'Addy' 'Ruston' 'Loon Lake' 'Charleston Afb'\n",
      " 'Forks' 'Wapato' 'Naselle' 'Quilcene' 'Asotin' 'Monterey' 'Easton'\n",
      " 'Fairchild Air Force Base' 'Ridgecrest' 'Skamokawa' 'Lilliwaup' 'Napa'\n",
      " 'Aldie' 'Marlin' 'Warden' 'Biloxi' 'Seven Bays' 'Chula Vista'\n",
      " 'Little Rock' 'Fayetteville' 'Kettle Falls' 'South Bend' 'Rayville'\n",
      " 'Okanogan' 'Mansfield' 'Pateros' 'Sumas' 'Salt Lake City' 'McCleary'\n",
      " 'North Las Vegas' 'Cusick' 'Vacaville' 'Fort Campbell' 'Wexford'\n",
      " 'Ashford' 'Elk' 'Carbonado' 'Rockford' 'Lyle' 'Latah' 'Westminster'\n",
      " 'Carlton' 'Darrington' 'West Linn' 'Mossyrock' 'Dover' 'Tumtum' 'Arnold'\n",
      " 'Tavares' 'Houston' 'Ventura' 'Riverside' 'North Cove' 'Bay Center'\n",
      " 'Brewster' 'Springdale' 'Cougar' 'Endicott' 'Inchelium' 'Wilkeson'\n",
      " 'Cincinnati' 'Salem' 'Roseville' 'Chesapeake Beach' 'Frances' 'Colfax'\n",
      " 'White Swan' 'Grayland' 'Rice' 'Sheridan' 'Neah Bay' 'Lemoore'\n",
      " 'Montgomery' 'Colorado Springs' 'Davenport' 'Portsmouth' 'Lancaster'\n",
      " 'Coulee Dam' 'Union Gap' 'Menifee' 'Shaw Island' 'Mountain Home Afb'\n",
      " 'Marblemount' 'Santa Clara' 'Baring' 'Spangle' 'Glacier' 'Maricopa'\n",
      " 'Carmel By The Sea' 'Deer Meadows' 'Silver Creek' 'Goldsboro' 'Menlo'\n",
      " 'Tokeland' 'Berkeley' 'Phoenix' 'Stafford' 'Roosevelt' 'Chandler'\n",
      " 'Wahkiacus' 'Lompoc' 'Alhambra' 'Buena Park' 'Snowden' 'Walla Walla Co'\n",
      " 'Outlook' 'Vader' 'Fairbanks' 'Cupertino' 'Kittitas' 'Mica'\n",
      " 'Indian Wells' 'Mazama' 'Hunters' 'Camarillo' 'Belle Chasse' 'Evans'\n",
      " 'Beaver' 'Grays River' 'West Valley City' 'Oceanside' 'Odessa' 'Usk'\n",
      " 'Roswell' 'Gambrills' 'Oysterville' 'Potomac' 'Mineral' 'Amanda Park'\n",
      " 'Toutle' 'Curtis' 'Cinebar' 'Hartline' 'Waitsburg' 'Gaithersburg' 'Husum'\n",
      " 'El Paso' 'Klickitat' 'Elkton' 'Edwall' 'Sprague' 'West Palm Beach'\n",
      " 'Tekoa' 'Coronado' 'Pe Ell' 'Methow' 'Danville' 'Annapolis' 'Murdock'\n",
      " 'Mechanicsburg' 'Ford' 'Dickinson' 'Virginia Beach' 'Benicia' 'Moclips'\n",
      " 'Suffolk' 'Holden Village' 'Bumpass' 'Lithia' 'Felts Mills' 'Little Elm'\n",
      " 'Andrews Air Force Base' 'Lyman' 'Harker Heights' 'Pittsburg'\n",
      " 'Norristown' 'Mcchord Afb' 'Norfolk' 'Valparaiso' 'Conyers' 'Skokie'\n",
      " 'Glenwood' 'Chesapeake' 'Fpo' 'Hughesville' 'Belleville' 'Colton'\n",
      " 'South Prairie' 'Clallam Bay' 'Longmont' 'Malott' 'Okatie' 'Saint Louis'\n",
      " 'Lexington Park' 'Rockport' 'San Rafael' 'Bucoda' 'Germantown'\n",
      " 'Smith Creek' 'Englewood' 'Lebam' 'South Range' 'Tempe' 'Fort Bragg'\n",
      " 'Ewa Beach' 'Glenoma' 'Cheyenne' 'Portland' 'Burke' 'Hawthorne'\n",
      " 'Copalis Beach' 'Satsop' 'Palisades' 'Goodyear' 'Gardena' 'Southworth'\n",
      " 'Raeford' 'Rosamond' 'Clayton' 'Quinault' 'Sarasota' 'Santa Cruz'\n",
      " 'Jamaica' 'Wichita Falls' 'Maryhill' 'Yermo' 'Vienna' 'Waldron'\n",
      " 'Clarksville' 'Goshen' 'Herndon' 'Fruitland' 'Mccutcheon Field'\n",
      " 'South Cle Elum' 'Irvine' 'Centerville' 'Fairfield' 'Lamont' 'Santa Rosa'\n",
      " 'Southern Pines' 'Copalis Crossing' 'De Queen' 'Taholah' 'Mountain View'\n",
      " 'Adairsville' 'Sacramento' 'Port Gamble' 'Apple Valley' 'Rosburg'\n",
      " 'Stratford' 'Haddonfield' 'Minneapolis' 'Chelmsford' 'Old Lyme'\n",
      " 'Platte City' 'Hanscom Afb' 'Fort George G Meade' 'Bangor' 'Matlock'\n",
      " 'Canoga Park' 'Jericho' 'Gifford' 'Santa Ana' 'Augusta' 'San Clemente'\n",
      " 'Middletown' 'Prescott' 'San Mateo' 'Aurora' 'Bedford' 'Carrolls'\n",
      " 'Fredericksburg' 'Waterford' 'Decatur' 'Mililani' 'Kekaha' 'Medford'\n",
      " 'Edgewater' 'Slidell' 'Pawcatuck' 'Groton' 'Richmond Hill' 'Mabton'\n",
      " 'Joint Base Mdl' 'Uniontown' 'Palo Alto' 'North Conway' 'Summerville'\n",
      " 'Lansing' 'Williston' 'Worley']\n",
      "******************** State ********************\n",
      "['FL' 'NV' 'WA' 'IL' 'NY' 'VA' 'OK' 'KS' 'CA' 'NE' 'MD' 'CO' 'DC' 'TN'\n",
      " 'SC' 'CT' 'OR' 'TX' 'SD' 'HI' 'GA' 'MS' 'AR' 'NC' 'MO' 'UT' 'PA' 'DE'\n",
      " 'OH' 'WY' 'AL' 'ID' 'AZ' 'AK' 'LA' 'NM' 'WI' 'KY' 'NJ' 'MN' 'MA' 'ME'\n",
      " 'RI' 'NH' 'ND']\n",
      "******************** Postal Code ********************\n",
      "[33040 89029 98901 98237 98201 98021 98203 98275 98236 98221 98516 98837\n",
      " 62258 98579 98233 98344 98271 98037 12833 98026 99026 98502 98087 98125\n",
      " 98001 98115 98020 98260 98503 98501 98208 98296 98312 98036 98204 23602\n",
      " 98902 98908 73521 99163 60035 99205 98392 98272 98382 98345 98513 60031\n",
      " 98038 98270 98031 98155 98370 98290 98052 98029 98632 98406 98926 98168\n",
      " 98329 98373 98074 98102 98595 98683 98011 99001 98075 98040 98292 98053\n",
      " 98110 98032 98112 98122 98116 98002 98822 98498 98391 98106 98402 98008\n",
      " 98663 99212 98033 98144 98446 98107 98059 98367 98225 98661 99354 98004\n",
      " 98282 98801 98103 98178 98258 98684 98686 98229 98580 98332 98101 98198\n",
      " 98177 98607 99338 98136 98366 98105 98058 98012 98166 99352 98118 98604\n",
      " 98685 98121 99362 98045 98006 98034 98056 98506 98030 98274 98335 98005\n",
      " 98674 98072 98524 98119 98065 98024 98374 98250 98117 98281 98327 98109\n",
      " 98077 98611 98230 98682 99336 98027 99208 98108 99202 98356 98368 98941\n",
      " 98028 98042 98003 98383 98133 98199 98039 98055 98022 98273 98843 98930\n",
      " 98953 98372 98070 98465 98672 98662 98104 98466 98126 98802 98847 98546\n",
      " 98388 99224 98390 66441 99337 99016 98584 98404 98532 99223 98444 98571\n",
      " 98247 98443 98010 98407 98639 98665 98007 98239 98380 98223 98512 22308\n",
      " 99161 98232 98023 98092 98310 98349 98467 98311 98226 98922 98675 98277\n",
      " 98445 98620 98339 98220 99169 98592 98360 98588 98333 98422 98936 98363\n",
      " 98146 98387 98664 99218 98261 98826 98158 98648 99301 98408 98597 98855\n",
      " 99019 98340 98245 99204 98358 99360 99216 98942 99217 98424 98264 98520\n",
      " 98303 98243 98346 98377 98405 99201 98284 98014 98418 98371 98528 99004\n",
      " 98541 98403 98359 98252 98823 98642 98557 98248 98375 98148 98188 98043\n",
      " 98409 98660 98362 98249 95476 98576 98944 98582 99114 98019 99207 99027\n",
      " 98856 98328 99003 98569 98671 98365 99320 99403 98051 98626 99118 99203\n",
      " 98244 99350 98354 98548 99353 98057 98504 98816 98338 98577 98606 98850\n",
      " 98499 98257 99171 99021 98550 99006 99123 98325 99323 98848 68110 98629\n",
      " 98940 98631 99181 98625 98337 98342 98862 92595 92656 98321 98563 89147\n",
      " 99206 98206 99328 98394 98570 99022 98276 98531 98294 98650 98644 98610\n",
      " 99005 98262 99025 98612 99037 99036 98815 98603 98537 98624 98568 98315\n",
      " 98645 98596 98253 98589 99357 98134 66027 98240 94556 98433 99324 21036\n",
      " 98651 98601 98605 98581 98235 98937 98050 98640 98279 99344 99170 98068\n",
      " 80547 99166 20009 21756 38004 92124 29153 20774  6443 97367 99133 81082\n",
      " 99109 98361 98946 98903 21704 98828 99341 98932 99185 98591 98948 99330\n",
      " 98381 99130 99147 78501 99156 99134 98047 98164 78258 98542 99347 98351\n",
      " 99326 98320 98288 99029 98266 57701 99115 98617 98950 98844 98831 96818\n",
      " 98841 98812 99343 21113 98858 68135 98614 98251 98851 98947 20906 31088\n",
      " 99349 99101 99148 29404 98331 98951 98638 98376 99402 93940 98925 99011\n",
      " 98438 93555 98647 98555 92102 94559 92111 20105 98832 98857 39531 99122\n",
      " 92103 91913 72205 98635 28305 90713 99141 98586 64084 98421 98840 98830\n",
      " 98846 98295 92107 84115 89084 89118 99119 95688 42223 15090 98304 99009\n",
      " 98323 20002 99030 99018 21157 98834 98241 97068 98564 19901 84129 99034\n",
      " 21012 32778 77042 98439 93001 98849 98547 99173 98616 99125 99138 98814\n",
      " 98396 45243 97304 95747 20732 89146 99111 89115 98952 98634 99167 82801\n",
      " 98357 93245 36106 80923 23707 93536 29154 99116 92584 98286 83648 98267\n",
      " 95054 78251 98224 99031 92101 68102 85138 93921 80919 98585 27534 98590\n",
      " 94710 85086 22554 80925 85248 98670 93436 91801 78250 90620 92585 98938\n",
      " 98593 99701 95014 98934 99023 92210 98833 99137 93010 70037 61201 99126\n",
      " 98305 21701 98621 84128 92051 99159 99180 92131 88201 21054 20854 98314\n",
      " 98355 98526 98649 98538 98533 99135 99361 20878 79911 97436 99008 99032\n",
      " 33415 99033 92118 98572 24541 21401 92154 17050 99013 77539 23464 94510\n",
      " 98562 23435 98507 23024 33547 13638 75068 20762 98263 76548 94565 89166\n",
      " 19403 20003 23503 98124 32580 30013 60077 98619 68130 23518 23321 90621\n",
      " 96349 22314 20637 22304 62220 22301 99113 98385 98326 80501 84121 29909\n",
      " 63137 23462 20653 98283 94901 98530 20876 80111 54874 85281 23517 28307\n",
      " 96706 82001 97214 22015 90250 98535 98583 98417 98845 92109 85395 90249\n",
      " 90802 98386 92123 28376 99121 93560 99110 22307 98575 34242 99356 95062\n",
      " 92106 11436 76310 92398 22180 98297 37042 40026 20171 99129 28545 98227\n",
      " 30809 98943 22203 72207 92602 98613 68123 99012 99017 92058 95401 98641\n",
      " 28387 98536 71832 98587 94040 30103 95817 92308 98643 98853  8033 20024\n",
      " 94707 89138 92620 55408 92618  1824 98509  6371 64079  1731 98527 20755\n",
      "  4401 98560 91304 11753 99131 92056 92703 30905 92672  2842 92057  3804\n",
      " 99348 94403 80019  1730 98609 22405  6385 30030 96789 96752 20007  8055\n",
      " 21037 70461 28312 98401  6379 98336  6340 31324 98935  8641 99179 94303\n",
      "  3860 29483 66043 58802 83876]\n",
      "******************** Model Year ********************\n",
      "[2022 2013 2011 2017 2019 2018 2016 2020 2021 2015 2014 2012 2023 2010\n",
      " 2008 2000 1997 1999 1998 2002]\n",
      "******************** Make ********************\n",
      "['TOYOTA' 'CHEVROLET' 'NISSAN' 'FORD' 'TESLA' 'KIA' 'AUDI' 'FIAT' 'BMW'\n",
      " 'PORSCHE' 'CADILLAC' 'HONDA' 'MITSUBISHI' 'CHRYSLER' 'RIVIAN' 'HYUNDAI'\n",
      " 'VOLVO' 'VOLKSWAGEN' 'MERCEDES-BENZ' 'JEEP' 'MINI' 'SMART' 'SUBARU'\n",
      " 'POLESTAR' 'LUCID MOTORS' 'LINCOLN' 'JAGUAR' 'FISKER' 'LAND ROVER'\n",
      " 'LEXUS' 'TH!NK' 'GENESIS' 'BENTLEY' 'AZURE DYNAMICS']\n",
      "******************** Model ********************\n",
      "['RAV4 PRIME' 'VOLT' 'LEAF' 'BOLT EV' 'FUSION' 'MODEL 3' 'SOUL' 'Q5 E'\n",
      " 'MODEL X' '500' 'X5' '530E' 'TAYCAN' 'X3' 'A3' 'SOUL EV' 'C-MAX'\n",
      " 'MODEL S' 'F-150' 'CT6' 'I3' 'CLARITY' 'MODEL Y' 'NIRO' 'OUTLANDER'\n",
      " 'PACIFICA' 'R1T' 'KONA ELECTRIC' 'XC40' 'ID.4' 'PRIUS PLUG-IN'\n",
      " 'MUSTANG MACH-E' 'EQB-CLASS' 'E-GOLF' 'PRIUS PRIME' 'C40' 'SORENTO'\n",
      " 'XC60' 'CAYENNE' 'WRANGLER' 'COUNTRYMAN' 'S60' 'EV6'\n",
      " 'FORTWO ELECTRIC DRIVE' 'GRAND CHEROKEE' '330E' 'CROSSTREK' 'IONIQ 5'\n",
      " 'IONIQ' 'E-TRON' 'ROADSTER' 'KONA' 'XC90' 'SPARK' 'PS2' 'A7' 'HARDTOP'\n",
      " 'ESCAPE' 'LUCID AIR' 'E-TRON SPORTBACK' 'Q5' 'RAV4' 'AVIATOR' 'E-TRON GT'\n",
      " 'EDV' 'IX' 'FORTWO' 'I-PACE' 'SANTA FE' 'B-CLASS' 'KARMA' 'I4' 'OPTIMA'\n",
      " 'GLC-CLASS' 'Q4' 'SONATA' 'EQ FORTWO' 'FOCUS' 'RANGE ROVER SPORT'\n",
      " 'TRANSIT' 'PANAMERA' 'I8' 'BOLT EUV' 'CORSAIR' 'ELR' 'GLE-CLASS' 'V60'\n",
      " 'EQS-CLASS SEDAN' 'R1S' 'I-MIEV' 'NX' '740E' 'SPORTAGE' 'C-CLASS'\n",
      " 'S-CLASS' 'CITY' 'S90' 'TUCSON' 'GV60' 'EQS-CLASS SUV' 'A8 E'\n",
      " 'RANGE ROVER' nan 'RS E-TRON GT' 'RANGER' 'BENTAYGA' '745E'\n",
      " 'TRANSIT CONNECT ELECTRIC' 'ACCORD' 'S-10 PICKUP' 'SOLTERRA' 'G80' '918'\n",
      " 'FLYING SPUR' '745LE']\n",
      "******************** Electric Vehicle Type ********************\n",
      "['Plug-in Hybrid Electric Vehicle (PHEV)' 'Battery Electric Vehicle (BEV)']\n",
      "******************** Clean Alternative Fuel Vehicle (CAFV) Eligibility ********************\n",
      "['Clean Alternative Fuel Vehicle Eligible'\n",
      " 'Not eligible due to low battery range'\n",
      " 'Eligibility unknown as battery range has not been researched']\n",
      "******************** Electric Range ********************\n",
      "[ 42  38  73 238  26 215  75  84  93  20 293  53 150 107  14 200   0  15\n",
      " 151 266 192  17  16 220 111  19  87 249 210  31 208  72 259  47 291 239\n",
      "  22 322  32   6 203  83  25 125  21 149  97 289  18  13  12  68  30 308\n",
      " 170 204 245 258 126  82  29  24 110 218  41 265 330 222  23 103 270  35\n",
      "  58  33 234  81 153 114  10  27  76  28  40   8 337  37  62  34 233   9\n",
      " 124 100  57  56  39  48  74  36  11  59  95]\n",
      "******************** Base MSRP ********************\n",
      "[     0  31950  55700  33950  69900  36900  43700  34995  39995  32250\n",
      "  44100 110950  59900  52900  54950 102000  45600  53400  64950 184400\n",
      "  90700  36800  81100  75095  52650  91250 109000  98950  89100 845000]\n",
      "******************** Legislative District ********************\n",
      "[nan 15. 39. 38.  1. 21. 10. 40. 22. 13. 20.  2. 32.  7. 46. 30. 35. 44.\n",
      " 14.  9.  3. 23. 24.  5. 33. 45. 19. 27. 26. 25. 43. 17.  6. 41. 37. 34.\n",
      " 31. 12. 28. 48. 49.  4. 29. 36. 42.  8. 18. 11. 16. 47.]\n",
      "******************** DOL Vehicle ID ********************\n",
      "[198968248   5204412 218972519 ... 193878387 125039043 194673692]\n",
      "******************** Vehicle Location ********************\n",
      "['POINT (-81.80023 24.5545)' 'POINT (-114.57245 35.16815)'\n",
      " 'POINT (-120.50721 46.60448)' 'POINT (-121.7515 48.53892)'\n",
      " 'POINT (-122.20596 47.97659)' 'POINT (-122.18384 47.8031)'\n",
      " 'POINT (-122.23019 47.94949)' 'POINT (-122.29196 47.89908)'\n",
      " 'POINT (-122.35803 47.9796)' 'POINT (-122.61214 48.51748)'\n",
      " 'POINT (-122.75379 47.06316)' 'POINT (-119.2771 47.13196)'\n",
      " 'POINT (-89.79939 38.49028)' 'POINT (-123.08743 46.82175)'\n",
      " 'POINT (-122.33029 48.46846)' nan 'POINT (-122.19388 48.15353)'\n",
      " 'POINT (-122.27734 47.83785)' 'POINT (-73.84643 43.1284)'\n",
      " 'POINT (-122.31768 47.87166)' 'POINT (-117.54392 47.77676)'\n",
      " 'POINT (-122.92333 47.03779)' 'POINT (-122.27981 47.85727)'\n",
      " 'POINT (-122.3026 47.72656)' 'POINT (-122.23035 47.3074)'\n",
      " 'POINT (-122.31765 47.70013)' 'POINT (-122.37689 47.81116)'\n",
      " 'POINT (-122.40618 48.0399)' 'POINT (-122.82324 47.04437)'\n",
      " 'POINT (-122.89166 47.03956)' 'POINT (-122.18637 47.89252)'\n",
      " 'POINT (-122.1389 47.87115)' 'POINT (-122.66122 47.56573)'\n",
      " 'POINT (-122.29245 47.82557)' 'POINT (-122.25527 47.90456)'\n",
      " 'POINT (-76.53585 37.10499)' 'POINT (-120.52301 46.60138)'\n",
      " 'POINT (-120.56916 46.58514)' 'POINT (-99.33374 34.63783)'\n",
      " 'POINT (-117.18147 46.73015)' 'POINT (-87.7992 42.18569)'\n",
      " 'POINT (-117.45674 47.69963)' 'POINT (-122.55242 47.73162)'\n",
      " 'POINT (-121.98087 47.8526)' 'POINT (-123.10367 48.07965)'\n",
      " 'POINT (-122.62316 47.70251)' 'POINT (-122.80277 46.99409)'\n",
      " 'POINT (-87.91441 42.36495)' 'POINT (-122.04526 47.39394)'\n",
      " 'POINT (-122.1769 48.06114)' 'POINT (-122.17743 47.41185)'\n",
      " 'POINT (-122.31327 47.75736)' 'POINT (-122.64681 47.73689)'\n",
      " 'POINT (-122.09305 47.91265)' 'POINT (-122.13158 47.67858)'\n",
      " 'POINT (-122.00292 47.54748)' 'POINT (-122.95058 46.14681)'\n",
      " 'POINT (-122.52054 47.26887)' 'POINT (-120.54872 46.99703)'\n",
      " 'POINT (-122.3317 47.50314)' 'POINT (-122.72457 47.38165)'\n",
      " 'POINT (-122.35051 47.15252)' 'POINT (-122.02054 47.60326)'\n",
      " 'POINT (-122.32427 47.63433)' 'POINT (-124.10424 46.89078)'\n",
      " 'POINT (-122.49212 45.60365)' 'POINT (-122.20563 47.76144)'\n",
      " 'POINT (-117.59311 47.6443)' 'POINT (-122.03539 47.61344)'\n",
      " 'POINT (-122.21238 47.57816)' 'POINT (-122.37265 48.24159)'\n",
      " 'POINT (-122.03287 47.68555)' 'POINT (-122.521 47.62728)'\n",
      " 'POINT (-122.23741 47.3807)' 'POINT (-122.30716 47.62687)'\n",
      " 'POINT (-122.31009 47.60803)' 'POINT (-122.41067 47.57894)'\n",
      " 'POINT (-122.21698 47.28317)' 'POINT (-120.20831 47.67562)'\n",
      " 'POINT (-122.54795 47.17997)' 'POINT (-122.17144 47.19175)'\n",
      " 'POINT (-122.35186 47.54286)' 'POINT (-122.44164 47.25517)'\n",
      " 'POINT (-122.11867 47.63131)' 'POINT (-122.64695 45.65675)'\n",
      " 'POINT (-117.3186 47.6505)' 'POINT (-122.2066 47.67887)'\n",
      " 'POINT (-122.30866 47.57874)' 'POINT (-122.37571 47.16104)'\n",
      " 'POINT (-122.38591 47.67597)' 'POINT (-122.15771 47.50549)'\n",
      " 'POINT (-122.65745 47.4916)' 'POINT (-122.47122 48.75235)'\n",
      " 'POINT (-122.62934 45.63201)' 'POINT (-119.26844 46.31484)'\n",
      " 'POINT (-122.1872 47.61001)' 'POINT (-122.40049 48.23986)'\n",
      " 'POINT (-120.30522 47.41494)' 'POINT (-122.35436 47.67596)'\n",
      " 'POINT (-122.23825 47.49461)' 'POINT (-122.06402 48.01497)'\n",
      " 'POINT (-122.5476 45.62832)' 'POINT (-122.62731 45.71668)'\n",
      " 'POINT (-122.45516 48.74487)' 'POINT (-122.54332 47.00328)'\n",
      " 'POINT (-122.60302 47.36223)' 'POINT (-122.34223 47.61085)'\n",
      " 'POINT (-122.29592 47.40139)' 'POINT (-122.36498 47.72238)'\n",
      " 'POINT (-122.40199 45.58694)' 'POINT (-119.3118 46.20664)'\n",
      " 'POINT (-122.38415 47.53755)' 'POINT (-122.63847 47.54103)'\n",
      " 'POINT (-122.31307 47.66127)' 'POINT (-122.08747 47.4466)'\n",
      " 'POINT (-122.21061 47.83448)' 'POINT (-122.34118 47.46665)'\n",
      " 'POINT (-119.27372 46.27391)' 'POINT (-122.2668 47.55115)'\n",
      " 'POINT (-122.5331 45.78092)' 'POINT (-122.70303 45.70954)'\n",
      " 'POINT (-122.34468 47.61578)' 'POINT (-118.34261 46.07068)'\n",
      " 'POINT (-121.7831 47.49348)' 'POINT (-122.12096 47.55584)'\n",
      " 'POINT (-122.22901 47.72201)' 'POINT (-122.18463 47.49929)'\n",
      " 'POINT (-122.87741 47.05997)' 'POINT (-122.19564 47.37271)'\n",
      " 'POINT (-122.32267 48.41626)' 'POINT (-122.58009 47.328)'\n",
      " 'POINT (-122.1621 47.64441)' 'POINT (-122.74017 45.9094)'\n",
      " 'POINT (-122.15545 47.75448)' 'POINT (-122.82983 47.38174)'\n",
      " 'POINT (-122.3684 47.64586)' 'POINT (-121.82432 47.52716)'\n",
      " 'POINT (-121.89086 47.56812)' 'POINT (-122.28449 47.146)'\n",
      " 'POINT (-123.01648 48.53448)' 'POINT (-122.38418 47.70044)'\n",
      " 'POINT (-123.05688 48.98867)' 'POINT (-122.62954 47.09583)'\n",
      " 'POINT (-122.346385 47.630685)' 'POINT (-122.07479 47.75264)'\n",
      " 'POINT (-122.90724 46.27509)' 'POINT (-122.74888 48.99404)'\n",
      " 'POINT (-122.55149 45.69345)' 'POINT (-119.11698 46.20804)'\n",
      " 'POINT (-122.03439 47.5301)' 'POINT (-117.45005 47.7333)'\n",
      " 'POINT (-122.30346 47.55379)' 'POINT (-117.3797 47.65548)'\n",
      " 'POINT (-122.27511 46.55465)' 'POINT (-122.77263 48.1212)'\n",
      " 'POINT (-120.99607 47.22593)' 'POINT (-122.24369 47.75892)'\n",
      " 'POINT (-122.09124 47.33778)' 'POINT (-122.3303 47.30151)'\n",
      " 'POINT (-122.69275 47.65171)' 'POINT (-122.3503 47.71868)'\n",
      " 'POINT (-122.40092 47.65908)' 'POINT (-122.23892 47.61613)'\n",
      " 'POINT (-122.21152 47.43954)' 'POINT (-121.99136 47.20433)'\n",
      " 'POINT (-122.33891 48.41644)' 'POINT (-120.22795 47.62352)'\n",
      " 'POINT (-119.90123 46.25606)' 'POINT (-120.26186 46.40186)'\n",
      " 'POINT (-122.28556 47.18709)' 'POINT (-122.4573 47.44929)'\n",
      " 'POINT (-122.52886 47.24977)' 'POINT (-121.48704 45.72776)'\n",
      " 'POINT (-122.57722 45.64251)' 'POINT (-122.32945 47.60357)'\n",
      " 'POINT (-122.5338 47.23594)' 'POINT (-121.97745 47.53433)'\n",
      " 'POINT (-120.29473 47.41515)' 'POINT (-120.60364 47.56805)'\n",
      " 'POINT (-122.82364 47.32767)' 'POINT (-122.59802 47.17303)'\n",
      " 'POINT (-117.46996 47.59431)' 'POINT (-122.23972 47.2022)'\n",
      " 'POINT (-96.83046 39.02826)' 'POINT (-119.141 46.19162)'\n",
      " 'POINT (-117.1748 47.65699)' 'POINT (-123.10565 47.21248)'\n",
      " 'POINT (-122.41249 47.21584)' 'POINT (-122.96462 46.6621)'\n",
      " 'POINT (-117.36043 47.63396)' 'POINT (-122.46495 47.16778)'\n",
      " 'POINT (-124.20177 47.20886)' 'POINT (-122.34536 48.92009)'\n",
      " 'POINT (-122.36646 47.19269)' 'POINT (-122.00143 47.30893)'\n",
      " 'POINT (-122.51766 47.27779)' 'POINT (-121.97 45.64119)'\n",
      " 'POINT (-122.64443 45.67871)' 'POINT (-122.12053 47.61334)'\n",
      " 'POINT (-122.68558 48.21857)' 'POINT (-122.81585 47.64509)'\n",
      " 'POINT (-122.1264 48.19471)' 'POINT (-122.92057 47.0031)'\n",
      " 'POINT (-77.05745 38.74002)' 'POINT (-117.0768 46.9101)'\n",
      " 'POINT (-122.397 48.56045)' 'POINT (-122.35206 47.30297)'\n",
      " 'POINT (-122.17663 47.32326)' 'POINT (-122.61624 47.57772)'\n",
      " 'POINT (-122.75493 47.25035)' 'POINT (-122.53691 47.20606)'\n",
      " 'POINT (-122.6462 47.63132)' 'POINT (-122.49756 48.7999)'\n",
      " 'POINT (-120.93943 47.195)' 'POINT (-122.40908 45.86679)'\n",
      " 'POINT (-122.64682 48.29077)' 'POINT (-122.41894 47.15806)'\n",
      " 'POINT (-120.82548 45.823)' 'POINT (-122.75878 48.03591)'\n",
      " 'POINT (-122.20348 48.71768)' 'POINT (-118.37977 47.1274)'\n",
      " 'POINT (-123.09944 47.35689)' 'POINT (-122.20166 47.09596)'\n",
      " 'POINT (-123.04061 47.37733)' 'POINT (-122.65107 47.27375)'\n",
      " 'POINT (-122.41666 47.30682)' 'POINT (-120.39197 46.55621)'\n",
      " 'POINT (-123.46296 48.11653)' 'POINT (-122.36178 47.49408)'\n",
      " 'POINT (-122.41046 47.06512)' 'POINT (-122.59219 45.62158)'\n",
      " 'POINT (-117.4077 47.74527)' 'POINT (-122.91395 48.52342)'\n",
      " 'POINT (-120.65754 47.5982)' 'POINT (-122.30164 47.45775)'\n",
      " 'POINT (-121.88258 45.69417)' 'POINT (-119.09467 46.23542)'\n",
      " 'POINT (-122.44718 47.20144)' 'POINT (-122.60735 46.94239)'\n",
      " 'POINT (-119.43683 48.70854)' 'POINT (-117.1015 47.66829)'\n",
      " 'POINT (-122.54758 47.91795)' 'POINT (-122.91109 48.69389)'\n",
      " 'POINT (-117.42571 47.64779)' 'POINT (-122.69107 48.05105)'\n",
      " 'POINT (-118.66919 46.04238)' 'POINT (-117.2335 47.67666)'\n",
      " 'POINT (-120.53113 46.65404)' 'POINT (-117.37056 47.70402)'\n",
      " 'POINT (-122.35686 47.23679)' 'POINT (-122.45079 48.9429)'\n",
      " 'POINT (-123.81619 46.97606)' 'POINT (-122.67876 47.17794)'\n",
      " 'POINT (-123.00026 48.61989)' 'POINT (-122.49771 47.79803)'\n",
      " 'POINT (-121.95585 46.53534)' 'POINT (-122.48271 47.24737)'\n",
      " 'POINT (-117.41162 47.65726)' 'POINT (-122.23857 48.50858)'\n",
      " 'POINT (-121.91353 47.64901)' 'POINT (-122.43874 47.22448)'\n",
      " 'POINT (-122.29537 47.19044)' 'POINT (-122.82764 47.45054)'\n",
      " 'POINT (-117.57445 47.48928)' 'POINT (-123.40382 47.00379)'\n",
      " 'POINT (-122.45691 47.26496)' 'POINT (-122.54729 47.42602)'\n",
      " 'POINT (-121.96931 48.08157)' 'POINT (-119.55125 47.31867)'\n",
      " 'POINT (-122.74595 45.81539)' 'POINT (-123.26405 47.04946)'\n",
      " 'POINT (-122.59351 48.84756)' 'POINT (-122.30116 47.1165)'\n",
      " 'POINT (-122.32806 47.46155)' 'POINT (-122.28879 47.44538)'\n",
      " 'POINT (-122.31111 47.78803)' 'POINT (-122.47554 47.21835)'\n",
      " 'POINT (-122.67156 45.63248)' 'POINT (-123.4313 48.11872)'\n",
      " 'POINT (-122.52664 48.00956)' 'POINT (-122.45728 38.29188)'\n",
      " 'POINT (-122.68993 46.88897)' 'POINT (-120.00949 46.32379)'\n",
      " 'POINT (-122.6306 46.53186)' 'POINT (-117.90454 48.54657)'\n",
      " 'POINT (-121.98609 47.74068)' 'POINT (-117.3973 47.67573)'\n",
      " 'POINT (-117.11195 47.70763)' 'POINT (-120.1231 48.3652)'\n",
      " 'POINT (-122.26832 46.86733)' 'POINT (-117.35237 47.89594)'\n",
      " 'POINT (-124.16408 47.01156)' 'POINT (-122.35341 45.57923)'\n",
      " 'POINT (-122.68475 47.92989)' 'POINT (-119.48756 46.26543)'\n",
      " 'POINT (-117.04556 46.41402)' 'POINT (-121.98233 47.35298)'\n",
      " 'POINT (-122.89868 46.14425)' 'POINT (-118.60061 48.88101)'\n",
      " 'POINT (-117.39322 47.63374)' 'POINT (-122.21766 48.8268)'\n",
      " 'POINT (-119.76877 46.20645)' 'POINT (-122.32172 47.24898)'\n",
      " 'POINT (-123.14135 47.40639)' 'POINT (-119.33788 46.2969)'\n",
      " 'POINT (114.32466 4.17756)' 'POINT (-102.69968 22.95716)'\n",
      " 'POINT (-120.01454 47.83985)' 'POINT (-122.29477 47.05703)'\n",
      " 'POINT (-123.72994 46.68867)' 'POINT (-122.54578 45.73473)'\n",
      " 'POINT (-120.14545 47.37163)' 'POINT (-122.51495 47.16195)'\n",
      " 'POINT (-122.49724 48.38874)' 'POINT (-117.5821 47.09185)'\n",
      " 'POINT (-117.35586 47.7628)' 'POINT (-123.88689 46.97982)'\n",
      " 'POINT (-117.47154 47.95431)' 'POINT (-119.03591 47.93348)'\n",
      " 'POINT (-122.77295 48.01182)' 'POINT (-119.01561 46.1992)'\n",
      " 'POINT (-119.85338 47.23748)' 'POINT (-95.94513 41.30481)'\n",
      " 'POINT (-122.67244 45.86161)' 'POINT (-121.02627 47.23781)'\n",
      " 'POINT (-124.05439 46.35232)' 'POINT (-117.72555 48.17623)'\n",
      " 'POINT (-122.84226 46.00813)' 'POINT (-122.62749 47.565)'\n",
      " 'POINT (-122.51843 47.7487)' 'POINT (-120.17739 48.47396)'\n",
      " 'POINT (-117.26237 33.61236)' 'POINT (-117.72682 33.56964)'\n",
      " 'POINT (-122.02523 47.16299)' 'POINT (-123.60076 46.98384)'\n",
      " 'POINT (-115.29715 36.11477)' 'POINT (-117.2718 47.65388)'\n",
      " 'POINT (-122.31902 48.01306)' 'POINT (-117.97577 46.32189)'\n",
      " 'POINT (-122.76355 47.34347)' 'POINT (-122.69891 46.57613)'\n",
      " 'POINT (-117.68269 47.57261)' 'POINT (-122.32181 48.92857)'\n",
      " 'POINT (-122.95298 46.72894)' 'POINT (-121.81688 47.8623)'\n",
      " 'POINT (-121.52529 45.99588)' 'POINT (-124.05475 46.3354)'\n",
      " 'POINT (-121.82048 45.72558)' 'POINT (-117.35414 47.83743)'\n",
      " 'POINT (-122.68321 48.72043)' 'POINT (-117.06882 47.7251)'\n",
      " 'POINT (-123.38568 46.20728)' 'POINT (-117.19631 47.65706)'\n",
      " 'POINT (-117.23995 47.5353)' 'POINT (-120.47005 47.5224)'\n",
      " 'POINT (-122.53658 45.98974)' 'POINT (-123.76901 46.95413)'\n",
      " 'POINT (-124.03547 46.3088)' 'POINT (-123.23286 46.84077)'\n",
      " 'POINT (-122.70639 47.68732)' 'POINT (-122.8112 46.29694)'\n",
      " 'POINT (-122.93881 46.49114)' 'POINT (-122.56821 48.08844)'\n",
      " 'POINT (-122.85135 46.85752)' 'POINT (-119.63136 46.90248)'\n",
      " 'POINT (-122.32738 47.58616)' 'POINT (-94.93427 39.34433)'\n",
      " 'POINT (-122.64219 48.91865)' 'POINT (-122.12775 37.85356)'\n",
      " 'POINT (-122.57908 47.10349)' 'POINT (-118.38864 46.03456)'\n",
      " 'POINT (-76.99179 39.2416)' 'POINT (-121.52357 45.72902)'\n",
      " 'POINT (-122.42148 45.91958)' 'POINT (-121.46623 45.71513)'\n",
      " 'POINT (-123.04373 46.37331)' 'POINT (-122.23452 48.46376)'\n",
      " 'POINT (-120.69972 46.7309)' 'POINT (-121.93654 47.54371)'\n",
      " 'POINT (-124.0495 46.49147)' 'POINT (-122.8357 48.62356)'\n",
      " 'POINT (-119.1742 46.82616)' 'POINT (-117.37047 47.23428)'\n",
      " 'POINT (-121.41201 47.41873)' 'POINT (-104.98231 40.52978)'\n",
      " 'POINT (-118.73748 48.64426)' 'POINT (-77.04405 38.92033)'\n",
      " 'POINT (-77.69839 39.48824)' 'POINT (-89.77858 35.44156)'\n",
      " 'POINT (-117.07993 32.8347)' 'POINT (-80.34689 33.95059)'\n",
      " 'POINT (-76.84002 38.90272)' 'POINT (-72.59507 41.27973)'\n",
      " 'POINT (-124.01768 44.93009)' 'POINT (-119.00041 47.94283)'\n",
      " 'POINT (-104.50818 37.16772)' 'POINT (-117.71555 48.28136)'\n",
      " 'POINT (-121.66939 46.61019)' 'POINT (-120.66621 47.05139)'\n",
      " 'POINT (-120.47794 46.55282)' 'POINT (-77.38938 39.40161)'\n",
      " 'POINT (-120.20227 47.37238)' 'POINT (-118.61566 46.97135)'\n",
      " 'POINT (-120.18721 46.33937)' 'POINT (-118.70912 47.75942)'\n",
      " 'POINT (-122.84784 46.44067)' 'POINT (-120.31298 46.37508)'\n",
      " 'POINT (-119.01647 46.45698)' 'POINT (-124.30041 48.25978)'\n",
      " 'POINT (-117.13359 47.00706)' 'POINT (-118.41899 47.82937)'\n",
      " 'POINT (-117.04398 48.18285)' 'POINT (-118.25682 47.4829)'\n",
      " 'POINT (-122.24692 47.26465)' 'POINT (-122.33145 47.60622)'\n",
      " 'POINT (-98.52212 29.61445)' 'POINT (-122.7478 46.53239)'\n",
      " 'POINT (-117.58937 46.47398)' 'POINT (-122.75905 47.21454)'\n",
      " 'POINT (-118.86063 46.66146)' 'POINT (-122.89646 47.69838)'\n",
      " 'POINT (-121.35912 47.71192)' 'POINT (-117.87704 47.66951)'\n",
      " 'POINT (-122.07728 48.92369)' 'POINT (-103.2308 44.08146)'\n",
      " 'POINT (-119.28816 47.61233)' 'POINT (-121.14532 45.61623)'\n",
      " 'POINT (-119.9899 46.94468)' 'POINT (-119.43558 48.93881)'\n",
      " 'POINT (-120.16034 47.8854)' 'POINT (-157.94001 21.34183)'\n",
      " 'POINT (-119.52724 48.41078)' 'POINT (-119.78093 48.09967)'\n",
      " 'POINT (-119.00503 46.57833)' 'POINT (-76.69505 39.0814)'\n",
      " 'POINT (-120.07145 47.64963)' 'POINT (-96.16579 41.20002)'\n",
      " 'POINT (-123.94534 46.27264)' 'POINT (-121.69743 47.85565)'\n",
      " 'POINT (-119.48323 47.38898)' 'POINT (-120.75541 46.70257)'\n",
      " 'POINT (-77.07354 39.09303)' 'POINT (-83.66512 32.60833)'\n",
      " 'POINT (-119.9 46.73777)' 'POINT (-117.8379 48.35609)'\n",
      " 'POINT (-117.63731 48.06288)' 'POINT (-80.066 32.89244)'\n",
      " 'POINT (-124.38543 47.95014)' 'POINT (-120.42051 46.44779)'\n",
      " 'POINT (-123.81154 46.36545)' 'POINT (-122.8775 47.82642)'\n",
      " 'POINT (-117.04784 46.34056)' 'POINT (-121.89647 36.5982)'\n",
      " 'POINT (-121.17954 47.2378)' 'POINT (-117.64458 47.64046)'\n",
      " 'POINT (-122.50156 47.13872)' 'POINT (-117.66798 35.62248)'\n",
      " 'POINT (-123.45797 46.2716)' 'POINT (-123.0921 47.47203)'\n",
      " 'POINT (-117.10893 32.71148)' 'POINT (-122.28541 38.29911)'\n",
      " 'POINT (-117.17188 32.81936)' 'POINT (-77.6513 38.97842)'\n",
      " 'POINT (-118.98504 47.40718)' 'POINT (-119.04573 46.96971)'\n",
      " 'POINT (-88.9941 30.39451)' 'POINT (-118.14913 47.65405)'\n",
      " 'POINT (-117.17592 32.73722)' 'POINT (-116.97437 32.61628)'\n",
      " 'POINT (-92.32538 34.75693)' 'POINT (-121.28544 45.6939)'\n",
      " 'POINT (-78.90159 35.05792)' 'POINT (-118.11725 33.861)'\n",
      " 'POINT (-118.06211 48.61053)' 'POINT (-123.81481 46.66382)'\n",
      " 'POINT (-94.06331 39.34793)' 'POINT (-122.40527 47.2556)'\n",
      " 'POINT (-119.57959 48.3654)' 'POINT (-119.63759 47.8118)'\n",
      " 'POINT (-119.89975 48.05502)' 'POINT (-122.26496 48.99956)'\n",
      " 'POINT (-117.24736 32.74626)' 'POINT (-111.89452 40.73992)'\n",
      " 'POINT (-115.20278 36.29143)' 'POINT (-115.21837 36.09378)'\n",
      " 'POINT (-117.30443 48.33866)' 'POINT (-121.99263 38.35218)'\n",
      " 'POINT (-87.43844 36.64424)' 'POINT (-122.03243 46.75908)'\n",
      " 'POINT (-117.27816 48.01723)' 'POINT (-122.04735 47.08015)'\n",
      " 'POINT (-76.988642 38.904734)' 'POINT (-117.13261 47.45227)'\n",
      " 'POINT (-117.15511 47.27966)' 'POINT (-76.99225 39.57467)'\n",
      " 'POINT (-120.0051 48.12868)' 'POINT (-121.60421 48.25431)'\n",
      " 'POINT (-122.64782 45.36625)' 'POINT (-122.48446 46.52948)'\n",
      " 'POINT (-75.50358 39.10597)' 'POINT (-111.94855 40.6527)'\n",
      " 'POINT (-117.67024 47.8927)' 'POINT (-76.50718 39.0329)'\n",
      " 'POINT (-81.73215 28.80419)' 'POINT (-95.57424 29.74768)'\n",
      " 'POINT (-122.53087 47.12729)' 'POINT (-119.29232 34.28082)'\n",
      " 'POINT (-119.50853 48.5012)' 'POINT (-124.09366 46.80933)'\n",
      " 'POINT (-117.74137 48.05738)' 'POINT (-122.30857 46.04647)'\n",
      " 'POINT (-117.68485 46.92752)' 'POINT (-118.19657 48.29812)'\n",
      " 'POINT (-120.10803 48.25448)' 'POINT (-84.36724 39.19105)'\n",
      " 'POINT (-123.05598 44.94796)' 'POINT (-121.33747 38.80276)'\n",
      " 'POINT (-76.53375 38.69549)' 'POINT (-115.20881 36.15352)'\n",
      " 'POINT (-117.36477 46.87965)' 'POINT (-115.05535 36.24407)'\n",
      " 'POINT (-120.73063 46.38287)' 'POINT (-118.16165 48.42934)'\n",
      " 'POINT (-106.95587 44.79792)' 'POINT (-124.62735 48.36778)'\n",
      " 'POINT (-119.78637 36.30101)' 'POINT (-86.27374 32.3611)'\n",
      " 'POINT (-104.70202 38.91191)' 'POINT (-76.3379 36.83436)'\n",
      " 'POINT (-118.24538 34.65105)' 'POINT (-80.37 33.89648)'\n",
      " 'POINT (-118.97669 47.9708)' 'POINT (-117.15392 33.685)'\n",
      " 'POINT (-122.92991 48.58348)' 'POINT (-115.85601 43.05683)'\n",
      " 'POINT (-121.41604 48.52739)' 'POINT (-121.95011 37.39684)'\n",
      " 'POINT (-98.65734 29.46536)' 'POINT (-121.48491 47.77193)'\n",
      " 'POINT (-117.38035 47.42909)' 'POINT (-117.16171 32.71568)'\n",
      " 'POINT (-95.94026 41.26068)' 'POINT (-112.02436 33.05319)'\n",
      " 'POINT (-121.92442 36.55443)' 'POINT (-104.83531 38.9291)'\n",
      " 'POINT (-122.60209 46.52793)' 'POINT (-77.95024 35.37084)'\n",
      " 'POINT (-123.99814 46.71227)' 'POINT (-122.2962 37.85103)'\n",
      " 'POINT (-112.14075 33.86739)' 'POINT (-77.40815 38.42366)'\n",
      " 'POINT (-104.63826 38.74006)' 'POINT (-111.85047 33.25707)'\n",
      " 'POINT (-121.10717 45.84657)' 'POINT (-120.45788 34.64048)'\n",
      " 'POINT (-118.12778 34.09442)' 'POINT (-98.67331 29.49379)'\n",
      " 'POINT (-118.01268 33.83899)' 'POINT (-117.17638 33.71394)'\n",
      " 'POINT (-120.08512 46.3294)' 'POINT (-122.95015 46.40201)'\n",
      " 'POINT (-147.72213 64.84527)' 'POINT (-122.02929 37.31913)'\n",
      " 'POINT (-120.41752 46.98472)' 'POINT (-117.21611 47.56436)'\n",
      " 'POINT (-116.33881 33.72413)' 'POINT (-120.4072 48.59369)'\n",
      " 'POINT (-118.20299 48.11777)' 'POINT (-119.05072 34.2234)'\n",
      " 'POINT (-89.9878 29.85069)' 'POINT (-90.57607 41.51196)'\n",
      " 'POINT (-118.02345 48.71331)' 'POINT (-124.33152 48.05431)'\n",
      " 'POINT (-77.41203 39.41574)' 'POINT (-123.61022 46.35588)'\n",
      " 'POINT (-112.04165 40.68741)' 'POINT (-118.68999 47.33323)'\n",
      " 'POINT (-117.28054 48.31375)' 'POINT (-117.06451 32.90323)'\n",
      " 'POINT (-104.52275 33.39509)' 'POINT (-76.6969 39.0606)'\n",
      " 'POINT (-77.20884 39.01796)' 'POINT (-122.64751 47.55671)'\n",
      " 'POINT (-122.18768 46.71902)' 'POINT (-123.89691 47.45917)'\n",
      " 'POINT (-122.73237 46.32447)' 'POINT (-123.13056 46.56094)'\n",
      " 'POINT (-122.49165 46.60409)' 'POINT (-119.10557 47.69015)'\n",
      " 'POINT (-118.15448 46.27013)' 'POINT (-77.22708 39.14162)'\n",
      " 'POINT (-106.55656 31.88532)' 'POINT (-123.56707 43.63677)'\n",
      " 'POINT (-117.95109 47.50524)' 'POINT (-117.97378 47.30036)'\n",
      " 'POINT (-80.13342 26.64804)' 'POINT (-117.07351 47.22679)'\n",
      " 'POINT (-117.17089 32.67619)' 'POINT (-123.29831 46.57001)'\n",
      " 'POINT (-79.4172 36.58598)' 'POINT (-76.49014 38.97678)'\n",
      " 'POINT (-117.05805 32.57923)' 'POINT (-76.96675 40.23089)'\n",
      " 'POINT (-117.80582 47.90886)' 'POINT (-95.05026 29.4608)'\n",
      " 'POINT (-76.20908 36.80823)' 'POINT (-122.15351 38.05285)'\n",
      " 'POINT (-124.21349 47.23932)' 'POINT (-76.42443 36.8752)'\n",
      " 'POINT (-77.73727 37.96459)' 'POINT (-82.17029 27.86266)'\n",
      " 'POINT (-75.75904 44.0205)' 'POINT (-96.9387 33.15985)'\n",
      " 'POINT (-76.8907 38.81605)' 'POINT (-122.05976 48.52525)'\n",
      " 'POINT (-97.66091 31.08871)' 'POINT (-121.88851 38.01946)'\n",
      " 'POINT (-115.32375 36.29409)' 'POINT (-75.40705 40.15076)'\n",
      " 'POINT (-76.99953 38.88594)' 'POINT (-76.23458 36.93595)'\n",
      " 'POINT (-86.49296 30.51166)' 'POINT (-83.97862 33.61951)'\n",
      " 'POINT (-87.75545 42.02634)' 'POINT (-121.29272 46.01842)'\n",
      " 'POINT (-96.18046 41.23687)' 'POINT (-76.21549 36.92478)'\n",
      " 'POINT (-76.40587 36.84526)' 'POINT (-117.99804 33.8652)'\n",
      " 'POINT (-77.04341 38.8046)' 'POINT (-76.78372 38.53236)'\n",
      " 'POINT (-77.10727 38.81797)' 'POINT (-89.98423 38.5124)'\n",
      " 'POINT (-77.05604 38.82399)' 'POINT (-117.12984 46.56801)'\n",
      " 'POINT (-122.09624 47.13954)' 'POINT (-124.26015 48.25371)'\n",
      " 'POINT (-105.10015 40.16394)' 'POINT (-111.83173 40.6253)'\n",
      " 'POINT (-80.95653 32.30585)' 'POINT (-90.21137 38.7483)'\n",
      " 'POINT (-76.13652 36.84315)' 'POINT (-76.45275 38.26564)'\n",
      " 'POINT (-121.59274 48.48758)' 'POINT (-122.53288 37.97461)'\n",
      " 'POINT (27.25316 67.01865)' 'POINT (-77.23717 39.17915)'\n",
      " 'POINT (-104.89239 39.61914)' 'POINT (-91.98379 46.60774)'\n",
      " 'POINT (-111.93722 33.42554)' 'POINT (-76.29676 36.86523)'\n",
      " 'POINT (-78.9973 35.13558)' 'POINT (-158.00833 21.31431)'\n",
      " 'POINT (-104.82154 41.13481)' 'POINT (-122.64942 45.50606)'\n",
      " 'POINT (-77.27191 38.79355)' 'POINT (-118.35273 33.91822)'\n",
      " 'POINT (-124.16705 47.11487)' 'POINT (-123.48162 47.00236)'\n",
      " 'POINT (-119.9176 47.41492)' 'POINT (-117.25255 32.77752)'\n",
      " 'POINT (-112.44862 33.49778)' 'POINT (-118.32472 33.89612)'\n",
      " 'POINT (-118.1924 33.76672)' 'POINT (-117.15432 32.79315)'\n",
      " 'POINT (-79.22405 34.9786)' 'POINT (-118.50797 48.99237)'\n",
      " 'POINT (-118.16344 34.86438)' 'POINT (-117.57228 47.99685)'\n",
      " 'POINT (-77.05942 38.7748)' 'POINT (-123.84618 47.46807)'\n",
      " 'POINT (-82.559 27.27335)' 'POINT (-120.20117 45.74956)'\n",
      " 'POINT (-122.01027 36.97542)' 'POINT (-117.23769 32.7263)'\n",
      " 'POINT (-73.7959 40.67448)' 'POINT (-98.57603 33.86725)'\n",
      " 'POINT (-116.83609 34.90718)' 'POINT (-77.26399 38.90063)'\n",
      " 'POINT (-123.03598 48.68843)' 'POINT (-87.37923 36.54824)'\n",
      " 'POINT (-85.57785 38.40025)' 'POINT (-77.4108 38.94955)'\n",
      " 'POINT (-118.19894 48.0784)' 'POINT (-77.47087 34.72943)'\n",
      " 'POINT (-82.13029 33.53342)' 'POINT (-120.94822 47.18891)'\n",
      " 'POINT (-77.13581 38.86995)' 'POINT (-92.33405 34.77306)'\n",
      " 'POINT (-117.77144 33.73287)' 'POINT (-120.903 45.75198)'\n",
      " 'POINT (-95.95882 41.13181)' 'POINT (-117.17125 47.38522)'\n",
      " 'POINT (-117.90629 47.20139)' 'POINT (-117.37445 33.21097)'\n",
      " 'POINT (-122.72292 38.45663)' 'POINT (-124.02697 46.54905)'\n",
      " 'POINT (-79.39147 35.17441)' 'POINT (-124.07463 47.11059)'\n",
      " 'POINT (-94.33945 34.03674)' 'POINT (-124.28628 47.34257)'\n",
      " 'POINT (-122.07056 37.36769)' 'POINT (-84.92804 34.37047)'\n",
      " 'POINT (-121.46547 38.55173)' 'POINT (-117.20243 34.48186)'\n",
      " 'POINT (-123.6386 46.33397)' 'POINT (-119.27844 47.4263)'\n",
      " 'POINT (-75.03015 39.89896)' 'POINT (-77.015 38.87754)'\n",
      " 'POINT (-122.27026 37.90054)' 'POINT (-115.34614 36.17207)'\n",
      " 'POINT (-117.76724 33.70884)' 'POINT (-93.28272 44.94292)'\n",
      " 'POINT (-117.71277 33.67538)' 'POINT (-71.34587 42.59853)'\n",
      " 'POINT (-72.33425 41.32392)' 'POINT (-94.77998 39.37027)'\n",
      " 'POINT (-71.28309 42.45982)' 'POINT (-123.95518 46.63188)'\n",
      " 'POINT (-76.73517 39.10852)' 'POINT (-68.77077 44.80171)'\n",
      " 'POINT (-123.40727 47.23519)' 'POINT (-118.59524 34.2271)'\n",
      " 'POINT (-73.53813 40.791)' 'POINT (-118.13633 48.31085)'\n",
      " 'POINT (-117.29317 33.21394)' 'POINT (-117.8943 33.75341)'\n",
      " 'POINT (-82.1221 33.39842)' 'POINT (-117.60698 33.43024)'\n",
      " 'POINT (-71.29923 41.51624)' 'POINT (-117.30761 33.25426)'\n",
      " 'POINT (-118.31243 46.29961)' 'POINT (-122.31485 37.54704)'\n",
      " 'POINT (-104.758 39.80523)' 'POINT (-71.28305 42.49301)'\n",
      " 'POINT (-122.86239 46.07142)' 'POINT (-77.44058 38.33761)'\n",
      " 'POINT (-72.13852 41.34593)' 'POINT (-84.29658 33.77437)'\n",
      " 'POINT (-158.00759 21.45509)' 'POINT (-159.71288 21.96605)'\n",
      " 'POINT (-77.0745 38.92255)' 'POINT (-74.82236 39.88938)'\n",
      " 'POINT (-76.56552 38.92607)' 'POINT (-89.72188 30.29146)'\n",
      " 'POINT (-78.84846 35.0396)' 'POINT (-71.84172 41.37642)'\n",
      " 'POINT (-122.13017 46.53072)' 'POINT (-72.07145 41.35486)'\n",
      " 'POINT (-81.31202 31.94967)' 'POINT (-119.99854 46.21092)'\n",
      " 'POINT (-74.58482 40.05056)' 'POINT (-117.08742 46.53906)'\n",
      " 'POINT (-122.12576 37.44719)' 'POINT (-71.12513 44.04945)'\n",
      " 'POINT (-80.17601 33.01897)' 'POINT (-94.89874 39.23762)'\n",
      " 'POINT (7.86484 51.32975)' 'POINT (-116.91895 47.40077)']\n",
      "******************** Electric Utility ********************\n",
      "[nan 'PACIFICORP' 'PUGET SOUND ENERGY INC' 'PUD NO 2 OF GRANT COUNTY'\n",
      " 'PUGET SOUND ENERGY INC||CITY OF TACOMA - (WA)'\n",
      " 'CITY OF SEATTLE - (WA)|CITY OF TACOMA - (WA)' 'AVISTA CORP'\n",
      " 'MODERN ELECTRIC WATER COMPANY'\n",
      " 'BONNEVILLE POWER ADMINISTRATION||PUD NO 1 OF COWLITZ COUNTY'\n",
      " 'BONNEVILLE POWER ADMINISTRATION||CITY OF TACOMA - (WA)||PENINSULA LIGHT COMPANY'\n",
      " 'BONNEVILLE POWER ADMINISTRATION||CITY OF ELLENSBURG - (WA)'\n",
      " 'BONNEVILLE POWER ADMINISTRATION||PUD NO 1 OF GRAYS HARBOR COUNTY'\n",
      " 'BONNEVILLE POWER ADMINISTRATION||PUD NO 1 OF CLARK COUNTY - (WA)'\n",
      " 'BONNEVILLE POWER ADMINISTRATION||AVISTA CORP||INLAND POWER & LIGHT COMPANY'\n",
      " 'BONNEVILLE POWER ADMINISTRATION||PUD 1 OF SNOHOMISH COUNTY'\n",
      " 'PUD NO 1 OF CHELAN COUNTY'\n",
      " 'BONNEVILLE POWER ADMINISTRATION||VERA IRRIGATION DISTRICT #15'\n",
      " 'BONNEVILLE POWER ADMINISTRATION||CITY OF TACOMA - (WA)||ELMHURST MUTUAL POWER & LIGHT CO|PENINSULA LIGHT COMPANY'\n",
      " 'PUGET SOUND ENERGY INC||PUD NO 1 OF WHATCOM COUNTY'\n",
      " 'BONNEVILLE POWER ADMINISTRATION||CITY OF RICHLAND - (WA)'\n",
      " 'BONNEVILLE POWER ADMINISTRATION||PUD NO 1 OF BENTON COUNTY'\n",
      " 'BONNEVILLE POWER ADMINISTRATION||CITY OF TACOMA - (WA)||PUD NO 3 OF MASON COUNTY'\n",
      " 'BONNEVILLE POWER ADMINISTRATION||ORCAS POWER & LIGHT COOP'\n",
      " 'BONNEVILLE POWER ADMINISTRATION||CITY OF TACOMA - (WA)||PUD NO 1 OF LEWIS COUNTY'\n",
      " 'BONNEVILLE POWER ADMINISTRATION||PUGET SOUND ENERGY INC||PUD NO 1 OF JEFFERSON COUNTY'\n",
      " 'BONNEVILLE POWER ADMINISTRATION||PUD NO 1 OF CLALLAM COUNTY'\n",
      " 'PUD NO 1 OF DOUGLAS COUNTY'\n",
      " 'BONNEVILLE POWER ADMINISTRATION||PUD NO 1 OF KLICKITAT COUNTY'\n",
      " 'BONNEVILLE POWER ADMINISTRATION||TOWN OF STEILACOOM|CITY OF TACOMA - (WA)||PENINSULA LIGHT COMPANY'\n",
      " 'BONNEVILLE POWER ADMINISTRATION||INLAND POWER & LIGHT COMPANY'\n",
      " 'BONNEVILLE POWER ADMINISTRATION||PUD NO 1 OF SKAMANIA CO'\n",
      " 'BONNEVILLE POWER ADMINISTRATION||CITY OF TACOMA - (WA)||LAKEVIEW LIGHT & POWER|PENINSULA LIGHT COMPANY'\n",
      " 'BONNEVILLE POWER ADMINISTRATION||AVISTA CORP||BIG BEND ELECTRIC COOP, INC'\n",
      " 'BONNEVILLE POWER ADMINISTRATION||CITY OF TACOMA - (WA)||PUD NO 1 OF MASON COUNTY'\n",
      " 'BONNEVILLE POWER ADMINISTRATION||PUD NO 1 OF FRANKLIN COUNTY'\n",
      " 'PUD NO 1 OF OKANOGAN COUNTY'\n",
      " 'BONNEVILLE POWER ADMINISTRATION||CITY OF MCCLEARY - (WA)'\n",
      " 'BONNEVILLE POWER ADMINISTRATION||PACIFICORP||BENTON RURAL ELECTRIC ASSN'\n",
      " 'BONNEVILLE POWER ADMINISTRATION||CITY OF PORT ANGELES - (WA)'\n",
      " 'OKANOGAN COUNTY ELEC COOP, INC'\n",
      " 'BONNEVILLE POWER ADMINISTRATION||CITY OF TACOMA - (WA)||OHOP MUTUAL LIGHT COMPANY, INC|PENINSULA LIGHT COMPANY'\n",
      " 'BONNEVILLE POWER ADMINISTRATION||AVISTA CORP||PUD NO 1 OF ASOTIN COUNTY'\n",
      " 'BONNEVILLE POWER ADMINISTRATION||PUD NO 1 OF FERRY COUNTY'\n",
      " 'BONNEVILLE POWER ADMINISTRATION||CITY OF MILTON - (WA)|CITY OF TACOMA - (WA)'\n",
      " 'BONNEVILLE POWER ADMINISTRATION||CITY OF TACOMA - (WA)||PARKLAND LIGHT & WATER COMPANY|PENINSULA LIGHT COMPANY'\n",
      " 'BONNEVILLE POWER ADMINISTRATION||PUD NO 2 OF PACIFIC COUNTY'\n",
      " 'CITY OF TACOMA - (WA)||TANNER ELECTRIC COOP'\n",
      " 'CITY OF BLAINE - (WA)||PUD NO 1 OF WHATCOM COUNTY'\n",
      " 'BONNEVILLE POWER ADMINISTRATION||PACIFICORP||PUD NO 1 OF CLARK COUNTY - (WA)'\n",
      " 'BONNEVILLE POWER ADMINISTRATION||COLUMBIA RURAL ELEC ASSN, INC'\n",
      " 'BONNEVILLE POWER ADMINISTRATION||PACIFICORP||COLUMBIA RURAL ELEC ASSN, INC'\n",
      " 'BONNEVILLE POWER ADMINISTRATION||CITY OF CENTRALIA - (WA)|CITY OF TACOMA - (WA)'\n",
      " 'PUD NO 1 OF WHATCOM COUNTY'\n",
      " 'BONNEVILLE POWER ADMINISTRATION||PUD NO 1 OF WAHKIAKUM COUNTY'\n",
      " 'CITY OF CHENEY - (WA)' 'CITY OF CHEWELAH'\n",
      " 'BONNEVILLE POWER ADMINISTRATION||BENTON RURAL ELECTRIC ASSN'\n",
      " 'PUD NO 1 OF PEND OREILLE COUNTY'\n",
      " 'BONNEVILLE POWER ADMINISTRATION||BIG BEND ELECTRIC COOP, INC'\n",
      " 'BONNEVILLE POWER ADMINISTRATION||PUD NO 1 OF MASON COUNTY|PUD NO 1 OF JEFFERSON COUNTY'\n",
      " 'BONNEVILLE POWER ADMINISTRATION||PUD NO 1 OF KITTITAS COUNTY'\n",
      " 'BONNEVILLE POWER ADMINISTRATION||TOWN OF EATONVILLE - (WA)|CITY OF TACOMA - (WA)'\n",
      " 'BONNEVILLE POWER ADMINISTRATION||TOWN OF RUSTON - (WA)|CITY OF TACOMA - (WA)||PENINSULA LIGHT COMPANY'\n",
      " 'BONNEVILLE POWER ADMINISTRATION||CITY OF TACOMA - (WA)||BENTON RURAL ELECTRIC ASSN|PENINSULA LIGHT COMPANY'\n",
      " 'CITY OF SEATTLE - (WA)'\n",
      " 'CITY OF SUMAS - (WA)||PUD NO 1 OF WHATCOM COUNTY'\n",
      " 'BONNEVILLE POWER ADMINISTRATION||CITY OF COULEE DAM - (WA)'\n",
      " 'BONNEVILLE POWER ADMINISTRATION||PENINSULA LIGHT COMPANY'\n",
      " 'CITY OF TACOMA - (WA)'\n",
      " 'BONNEVILLE POWER ADMINISTRATION||PUD NO 1 OF ASOTIN COUNTY'\n",
      " 'PORTLAND GENERAL ELECTRIC CO'\n",
      " 'BONNEVILLE POWER ADMINISTRATION||PUD NO 1 OF ASOTIN COUNTY||INLAND POWER & LIGHT COMPANY'\n",
      " 'BONNEVILLE POWER ADMINISTRATION||NESPELEM VALLEY ELEC COOP, INC'\n",
      " 'BONNEVILLE POWER ADMINISTRATION||PUD NO 1 OF CLALLAM COUNTY|PUD NO 1 OF JEFFERSON COUNTY']\n",
      "******************** 2020 Census Tract ********************\n",
      "[12087972100 32003005702 53077001602 ... 20103071104 38105954100\n",
      " 16055940000]\n"
     ]
    }
   ],
   "source": [
    "for i in df.columns:\n",
    "    print('*'*20,i,'*'*20)\n",
    "    print(df[i].unique())"
   ]
  },
  {
   "cell_type": "markdown",
   "id": "fe1e1bb0",
   "metadata": {},
   "source": [
    "We can see that we are having more than 400 Null values in column called \"Electric Utility\""
   ]
  },
  {
   "cell_type": "code",
   "execution_count": 11,
   "id": "dfd82b74",
   "metadata": {},
   "outputs": [
    {
     "data": {
      "text/html": [
       "<div>\n",
       "<style scoped>\n",
       "    .dataframe tbody tr th:only-of-type {\n",
       "        vertical-align: middle;\n",
       "    }\n",
       "\n",
       "    .dataframe tbody tr th {\n",
       "        vertical-align: top;\n",
       "    }\n",
       "\n",
       "    .dataframe thead th {\n",
       "        text-align: right;\n",
       "    }\n",
       "</style>\n",
       "<table border=\"1\" class=\"dataframe\">\n",
       "  <thead>\n",
       "    <tr style=\"text-align: right;\">\n",
       "      <th></th>\n",
       "      <th>VIN (1-10)</th>\n",
       "      <th>County</th>\n",
       "      <th>City</th>\n",
       "      <th>State</th>\n",
       "      <th>Postal Code</th>\n",
       "      <th>Model Year</th>\n",
       "      <th>Make</th>\n",
       "      <th>Model</th>\n",
       "      <th>Electric Vehicle Type</th>\n",
       "      <th>Clean Alternative Fuel Vehicle (CAFV) Eligibility</th>\n",
       "      <th>Electric Range</th>\n",
       "      <th>Base MSRP</th>\n",
       "      <th>Legislative District</th>\n",
       "      <th>DOL Vehicle ID</th>\n",
       "      <th>Vehicle Location</th>\n",
       "      <th>Electric Utility</th>\n",
       "      <th>2020 Census Tract</th>\n",
       "    </tr>\n",
       "  </thead>\n",
       "  <tbody>\n",
       "    <tr>\n",
       "      <th>0</th>\n",
       "      <td>JTMEB3FV6N</td>\n",
       "      <td>Monroe</td>\n",
       "      <td>Key West</td>\n",
       "      <td>FL</td>\n",
       "      <td>33040</td>\n",
       "      <td>2022</td>\n",
       "      <td>TOYOTA</td>\n",
       "      <td>RAV4 PRIME</td>\n",
       "      <td>Plug-in Hybrid Electric Vehicle (PHEV)</td>\n",
       "      <td>Clean Alternative Fuel Vehicle Eligible</td>\n",
       "      <td>42</td>\n",
       "      <td>0</td>\n",
       "      <td>NaN</td>\n",
       "      <td>198968248</td>\n",
       "      <td>POINT (-81.80023 24.5545)</td>\n",
       "      <td>NaN</td>\n",
       "      <td>12087972100</td>\n",
       "    </tr>\n",
       "    <tr>\n",
       "      <th>1</th>\n",
       "      <td>1G1RD6E45D</td>\n",
       "      <td>Clark</td>\n",
       "      <td>Laughlin</td>\n",
       "      <td>NV</td>\n",
       "      <td>89029</td>\n",
       "      <td>2013</td>\n",
       "      <td>CHEVROLET</td>\n",
       "      <td>VOLT</td>\n",
       "      <td>Plug-in Hybrid Electric Vehicle (PHEV)</td>\n",
       "      <td>Clean Alternative Fuel Vehicle Eligible</td>\n",
       "      <td>38</td>\n",
       "      <td>0</td>\n",
       "      <td>NaN</td>\n",
       "      <td>5204412</td>\n",
       "      <td>POINT (-114.57245 35.16815)</td>\n",
       "      <td>NaN</td>\n",
       "      <td>32003005702</td>\n",
       "    </tr>\n",
       "    <tr>\n",
       "      <th>12</th>\n",
       "      <td>3C3CFFGE3G</td>\n",
       "      <td>St. Clair</td>\n",
       "      <td>Mascoutah</td>\n",
       "      <td>IL</td>\n",
       "      <td>62258</td>\n",
       "      <td>2016</td>\n",
       "      <td>FIAT</td>\n",
       "      <td>500</td>\n",
       "      <td>Battery Electric Vehicle (BEV)</td>\n",
       "      <td>Clean Alternative Fuel Vehicle Eligible</td>\n",
       "      <td>84</td>\n",
       "      <td>0</td>\n",
       "      <td>NaN</td>\n",
       "      <td>153786167</td>\n",
       "      <td>POINT (-89.79939 38.49028)</td>\n",
       "      <td>NaN</td>\n",
       "      <td>17163504356</td>\n",
       "    </tr>\n",
       "    <tr>\n",
       "      <th>19</th>\n",
       "      <td>5YJXCAE28G</td>\n",
       "      <td>Saratoga</td>\n",
       "      <td>Greenfield Center</td>\n",
       "      <td>NY</td>\n",
       "      <td>12833</td>\n",
       "      <td>2016</td>\n",
       "      <td>TESLA</td>\n",
       "      <td>MODEL X</td>\n",
       "      <td>Battery Electric Vehicle (BEV)</td>\n",
       "      <td>Clean Alternative Fuel Vehicle Eligible</td>\n",
       "      <td>200</td>\n",
       "      <td>0</td>\n",
       "      <td>NaN</td>\n",
       "      <td>218050878</td>\n",
       "      <td>POINT (-73.84643 43.1284)</td>\n",
       "      <td>NaN</td>\n",
       "      <td>36091060601</td>\n",
       "    </tr>\n",
       "    <tr>\n",
       "      <th>21</th>\n",
       "      <td>1G1RD6S55H</td>\n",
       "      <td>Stevens</td>\n",
       "      <td>Nine Mile Falls</td>\n",
       "      <td>WA</td>\n",
       "      <td>99026</td>\n",
       "      <td>2017</td>\n",
       "      <td>CHEVROLET</td>\n",
       "      <td>VOLT</td>\n",
       "      <td>Plug-in Hybrid Electric Vehicle (PHEV)</td>\n",
       "      <td>Clean Alternative Fuel Vehicle Eligible</td>\n",
       "      <td>53</td>\n",
       "      <td>0</td>\n",
       "      <td>7.0</td>\n",
       "      <td>141964049</td>\n",
       "      <td>POINT (-117.54392 47.77676)</td>\n",
       "      <td>NaN</td>\n",
       "      <td>53065951402</td>\n",
       "    </tr>\n",
       "    <tr>\n",
       "      <th>...</th>\n",
       "      <td>...</td>\n",
       "      <td>...</td>\n",
       "      <td>...</td>\n",
       "      <td>...</td>\n",
       "      <td>...</td>\n",
       "      <td>...</td>\n",
       "      <td>...</td>\n",
       "      <td>...</td>\n",
       "      <td>...</td>\n",
       "      <td>...</td>\n",
       "      <td>...</td>\n",
       "      <td>...</td>\n",
       "      <td>...</td>\n",
       "      <td>...</td>\n",
       "      <td>...</td>\n",
       "      <td>...</td>\n",
       "      <td>...</td>\n",
       "    </tr>\n",
       "    <tr>\n",
       "      <th>112301</th>\n",
       "      <td>5YJ3E1EB9M</td>\n",
       "      <td>Dorchester</td>\n",
       "      <td>Summerville</td>\n",
       "      <td>SC</td>\n",
       "      <td>29483</td>\n",
       "      <td>2021</td>\n",
       "      <td>TESLA</td>\n",
       "      <td>MODEL 3</td>\n",
       "      <td>Battery Electric Vehicle (BEV)</td>\n",
       "      <td>Eligibility unknown as battery range has not b...</td>\n",
       "      <td>0</td>\n",
       "      <td>0</td>\n",
       "      <td>NaN</td>\n",
       "      <td>179604183</td>\n",
       "      <td>POINT (-80.17601 33.01897)</td>\n",
       "      <td>NaN</td>\n",
       "      <td>45035010506</td>\n",
       "    </tr>\n",
       "    <tr>\n",
       "      <th>112321</th>\n",
       "      <td>1N4BZ1CP7K</td>\n",
       "      <td>Thurston</td>\n",
       "      <td>Olympia</td>\n",
       "      <td>WA</td>\n",
       "      <td>98502</td>\n",
       "      <td>2019</td>\n",
       "      <td>NISSAN</td>\n",
       "      <td>LEAF</td>\n",
       "      <td>Battery Electric Vehicle (BEV)</td>\n",
       "      <td>Clean Alternative Fuel Vehicle Eligible</td>\n",
       "      <td>150</td>\n",
       "      <td>0</td>\n",
       "      <td>22.0</td>\n",
       "      <td>142814556</td>\n",
       "      <td>POINT (-122.92333 47.03779)</td>\n",
       "      <td>NaN</td>\n",
       "      <td>53067012002</td>\n",
       "    </tr>\n",
       "    <tr>\n",
       "      <th>112394</th>\n",
       "      <td>5UXKT0C36H</td>\n",
       "      <td>Leavenworth</td>\n",
       "      <td>Lansing</td>\n",
       "      <td>KS</td>\n",
       "      <td>66043</td>\n",
       "      <td>2017</td>\n",
       "      <td>BMW</td>\n",
       "      <td>X5</td>\n",
       "      <td>Plug-in Hybrid Electric Vehicle (PHEV)</td>\n",
       "      <td>Not eligible due to low battery range</td>\n",
       "      <td>14</td>\n",
       "      <td>0</td>\n",
       "      <td>NaN</td>\n",
       "      <td>122897484</td>\n",
       "      <td>POINT (-94.89874 39.23762)</td>\n",
       "      <td>NaN</td>\n",
       "      <td>20103071104</td>\n",
       "    </tr>\n",
       "    <tr>\n",
       "      <th>112541</th>\n",
       "      <td>JA4J24A50J</td>\n",
       "      <td>Williams</td>\n",
       "      <td>Williston</td>\n",
       "      <td>ND</td>\n",
       "      <td>58802</td>\n",
       "      <td>2018</td>\n",
       "      <td>MITSUBISHI</td>\n",
       "      <td>OUTLANDER</td>\n",
       "      <td>Plug-in Hybrid Electric Vehicle (PHEV)</td>\n",
       "      <td>Not eligible due to low battery range</td>\n",
       "      <td>22</td>\n",
       "      <td>0</td>\n",
       "      <td>NaN</td>\n",
       "      <td>2592005</td>\n",
       "      <td>POINT (7.86484 51.32975)</td>\n",
       "      <td>NaN</td>\n",
       "      <td>38105954100</td>\n",
       "    </tr>\n",
       "    <tr>\n",
       "      <th>112603</th>\n",
       "      <td>7FCTGAAL7N</td>\n",
       "      <td>Kootenai</td>\n",
       "      <td>Worley</td>\n",
       "      <td>ID</td>\n",
       "      <td>83876</td>\n",
       "      <td>2022</td>\n",
       "      <td>RIVIAN</td>\n",
       "      <td>R1T</td>\n",
       "      <td>Battery Electric Vehicle (BEV)</td>\n",
       "      <td>Eligibility unknown as battery range has not b...</td>\n",
       "      <td>0</td>\n",
       "      <td>0</td>\n",
       "      <td>NaN</td>\n",
       "      <td>211894693</td>\n",
       "      <td>POINT (-116.91895 47.40077)</td>\n",
       "      <td>NaN</td>\n",
       "      <td>16055940000</td>\n",
       "    </tr>\n",
       "  </tbody>\n",
       "</table>\n",
       "<p>443 rows × 17 columns</p>\n",
       "</div>"
      ],
      "text/plain": [
       "        VIN (1-10)       County               City State  Postal Code  \\\n",
       "0       JTMEB3FV6N       Monroe           Key West    FL        33040   \n",
       "1       1G1RD6E45D        Clark           Laughlin    NV        89029   \n",
       "12      3C3CFFGE3G    St. Clair          Mascoutah    IL        62258   \n",
       "19      5YJXCAE28G     Saratoga  Greenfield Center    NY        12833   \n",
       "21      1G1RD6S55H      Stevens    Nine Mile Falls    WA        99026   \n",
       "...            ...          ...                ...   ...          ...   \n",
       "112301  5YJ3E1EB9M   Dorchester        Summerville    SC        29483   \n",
       "112321  1N4BZ1CP7K     Thurston            Olympia    WA        98502   \n",
       "112394  5UXKT0C36H  Leavenworth            Lansing    KS        66043   \n",
       "112541  JA4J24A50J     Williams          Williston    ND        58802   \n",
       "112603  7FCTGAAL7N     Kootenai             Worley    ID        83876   \n",
       "\n",
       "        Model Year        Make       Model  \\\n",
       "0             2022      TOYOTA  RAV4 PRIME   \n",
       "1             2013   CHEVROLET        VOLT   \n",
       "12            2016        FIAT         500   \n",
       "19            2016       TESLA     MODEL X   \n",
       "21            2017   CHEVROLET        VOLT   \n",
       "...            ...         ...         ...   \n",
       "112301        2021       TESLA     MODEL 3   \n",
       "112321        2019      NISSAN        LEAF   \n",
       "112394        2017         BMW          X5   \n",
       "112541        2018  MITSUBISHI   OUTLANDER   \n",
       "112603        2022      RIVIAN         R1T   \n",
       "\n",
       "                         Electric Vehicle Type  \\\n",
       "0       Plug-in Hybrid Electric Vehicle (PHEV)   \n",
       "1       Plug-in Hybrid Electric Vehicle (PHEV)   \n",
       "12              Battery Electric Vehicle (BEV)   \n",
       "19              Battery Electric Vehicle (BEV)   \n",
       "21      Plug-in Hybrid Electric Vehicle (PHEV)   \n",
       "...                                        ...   \n",
       "112301          Battery Electric Vehicle (BEV)   \n",
       "112321          Battery Electric Vehicle (BEV)   \n",
       "112394  Plug-in Hybrid Electric Vehicle (PHEV)   \n",
       "112541  Plug-in Hybrid Electric Vehicle (PHEV)   \n",
       "112603          Battery Electric Vehicle (BEV)   \n",
       "\n",
       "        Clean Alternative Fuel Vehicle (CAFV) Eligibility  Electric Range  \\\n",
       "0                 Clean Alternative Fuel Vehicle Eligible              42   \n",
       "1                 Clean Alternative Fuel Vehicle Eligible              38   \n",
       "12                Clean Alternative Fuel Vehicle Eligible              84   \n",
       "19                Clean Alternative Fuel Vehicle Eligible             200   \n",
       "21                Clean Alternative Fuel Vehicle Eligible              53   \n",
       "...                                                   ...             ...   \n",
       "112301  Eligibility unknown as battery range has not b...               0   \n",
       "112321            Clean Alternative Fuel Vehicle Eligible             150   \n",
       "112394              Not eligible due to low battery range              14   \n",
       "112541              Not eligible due to low battery range              22   \n",
       "112603  Eligibility unknown as battery range has not b...               0   \n",
       "\n",
       "        Base MSRP  Legislative District  DOL Vehicle ID  \\\n",
       "0               0                   NaN       198968248   \n",
       "1               0                   NaN         5204412   \n",
       "12              0                   NaN       153786167   \n",
       "19              0                   NaN       218050878   \n",
       "21              0                   7.0       141964049   \n",
       "...           ...                   ...             ...   \n",
       "112301          0                   NaN       179604183   \n",
       "112321          0                  22.0       142814556   \n",
       "112394          0                   NaN       122897484   \n",
       "112541          0                   NaN         2592005   \n",
       "112603          0                   NaN       211894693   \n",
       "\n",
       "                   Vehicle Location Electric Utility  2020 Census Tract  \n",
       "0         POINT (-81.80023 24.5545)              NaN        12087972100  \n",
       "1       POINT (-114.57245 35.16815)              NaN        32003005702  \n",
       "12       POINT (-89.79939 38.49028)              NaN        17163504356  \n",
       "19        POINT (-73.84643 43.1284)              NaN        36091060601  \n",
       "21      POINT (-117.54392 47.77676)              NaN        53065951402  \n",
       "...                             ...              ...                ...  \n",
       "112301   POINT (-80.17601 33.01897)              NaN        45035010506  \n",
       "112321  POINT (-122.92333 47.03779)              NaN        53067012002  \n",
       "112394   POINT (-94.89874 39.23762)              NaN        20103071104  \n",
       "112541     POINT (7.86484 51.32975)              NaN        38105954100  \n",
       "112603  POINT (-116.91895 47.40077)              NaN        16055940000  \n",
       "\n",
       "[443 rows x 17 columns]"
      ]
     },
     "execution_count": 11,
     "metadata": {},
     "output_type": "execute_result"
    }
   ],
   "source": [
    "df[df['Electric Utility'].isna()]"
   ]
  },
  {
   "cell_type": "code",
   "execution_count": 12,
   "id": "4f3a5ba9",
   "metadata": {},
   "outputs": [],
   "source": [
    "df['Electric Utility'].fillna(df['Electric Utility'].mode()[0], inplace=True)"
   ]
  },
  {
   "cell_type": "code",
   "execution_count": 13,
   "id": "c524e208",
   "metadata": {
    "scrolled": true
   },
   "outputs": [
    {
     "data": {
      "text/plain": [
       "VIN (1-10)                                             0\n",
       "County                                                 0\n",
       "City                                                   0\n",
       "State                                                  0\n",
       "Postal Code                                            0\n",
       "Model Year                                             0\n",
       "Make                                                   0\n",
       "Model                                                 20\n",
       "Electric Vehicle Type                                  0\n",
       "Clean Alternative Fuel Vehicle (CAFV) Eligibility      0\n",
       "Electric Range                                         0\n",
       "Base MSRP                                              0\n",
       "Legislative District                                 286\n",
       "DOL Vehicle ID                                         0\n",
       "Vehicle Location                                      24\n",
       "Electric Utility                                       0\n",
       "2020 Census Tract                                      0\n",
       "dtype: int64"
      ]
     },
     "execution_count": 13,
     "metadata": {},
     "output_type": "execute_result"
    }
   ],
   "source": [
    "df.isnull().sum()"
   ]
  },
  {
   "cell_type": "markdown",
   "id": "03498111",
   "metadata": {},
   "source": [
    "Here we can see that NaN values of 'Electric Utility' are filled using mode of that column."
   ]
  },
  {
   "cell_type": "code",
   "execution_count": 14,
   "id": "6fac5200",
   "metadata": {},
   "outputs": [
    {
     "data": {
      "text/plain": [
       "array([nan, 15., 39., 38.,  1., 21., 10., 40., 22., 13., 20.,  2., 32.,\n",
       "        7., 46., 30., 35., 44., 14.,  9.,  3., 23., 24.,  5., 33., 45.,\n",
       "       19., 27., 26., 25., 43., 17.,  6., 41., 37., 34., 31., 12., 28.,\n",
       "       48., 49.,  4., 29., 36., 42.,  8., 18., 11., 16., 47.])"
      ]
     },
     "execution_count": 14,
     "metadata": {},
     "output_type": "execute_result"
    }
   ],
   "source": [
    "df['Legislative District'].unique()"
   ]
  },
  {
   "cell_type": "code",
   "execution_count": 15,
   "id": "3c4d7eba",
   "metadata": {},
   "outputs": [],
   "source": [
    "mean_value = df['Legislative District'].mean()\n",
    "df['Legislative District'].fillna(mean_value, inplace=True)"
   ]
  },
  {
   "cell_type": "code",
   "execution_count": 16,
   "id": "94ff8b19",
   "metadata": {},
   "outputs": [],
   "source": [
    "df['Legislative District'] = df['Legislative District'].astype(int)"
   ]
  },
  {
   "cell_type": "code",
   "execution_count": 17,
   "id": "9e380507",
   "metadata": {},
   "outputs": [
    {
     "data": {
      "text/plain": [
       "dtype('int32')"
      ]
     },
     "execution_count": 17,
     "metadata": {},
     "output_type": "execute_result"
    }
   ],
   "source": [
    "df['Legislative District'].dtype"
   ]
  },
  {
   "cell_type": "code",
   "execution_count": 18,
   "id": "f490e096",
   "metadata": {},
   "outputs": [
    {
     "data": {
      "text/plain": [
       "0"
      ]
     },
     "execution_count": 18,
     "metadata": {},
     "output_type": "execute_result"
    }
   ],
   "source": [
    "df['Legislative District'].isnull().sum()"
   ]
  },
  {
   "cell_type": "code",
   "execution_count": 19,
   "id": "5681d746",
   "metadata": {},
   "outputs": [
    {
     "data": {
      "text/plain": [
       "array(['RAV4 PRIME', 'VOLT', 'LEAF', 'BOLT EV', 'FUSION', 'MODEL 3',\n",
       "       'SOUL', 'Q5 E', 'MODEL X', '500', 'X5', '530E', 'TAYCAN', 'X3',\n",
       "       'A3', 'SOUL EV', 'C-MAX', 'MODEL S', 'F-150', 'CT6', 'I3',\n",
       "       'CLARITY', 'MODEL Y', 'NIRO', 'OUTLANDER', 'PACIFICA', 'R1T',\n",
       "       'KONA ELECTRIC', 'XC40', 'ID.4', 'PRIUS PLUG-IN', 'MUSTANG MACH-E',\n",
       "       'EQB-CLASS', 'E-GOLF', 'PRIUS PRIME', 'C40', 'SORENTO', 'XC60',\n",
       "       'CAYENNE', 'WRANGLER', 'COUNTRYMAN', 'S60', 'EV6',\n",
       "       'FORTWO ELECTRIC DRIVE', 'GRAND CHEROKEE', '330E', 'CROSSTREK',\n",
       "       'IONIQ 5', 'IONIQ', 'E-TRON', 'ROADSTER', 'KONA', 'XC90', 'SPARK',\n",
       "       'PS2', 'A7', 'HARDTOP', 'ESCAPE', 'LUCID AIR', 'E-TRON SPORTBACK',\n",
       "       'Q5', 'RAV4', 'AVIATOR', 'E-TRON GT', 'EDV', 'IX', 'FORTWO',\n",
       "       'I-PACE', 'SANTA FE', 'B-CLASS', 'KARMA', 'I4', 'OPTIMA',\n",
       "       'GLC-CLASS', 'Q4', 'SONATA', 'EQ FORTWO', 'FOCUS',\n",
       "       'RANGE ROVER SPORT', 'TRANSIT', 'PANAMERA', 'I8', 'BOLT EUV',\n",
       "       'CORSAIR', 'ELR', 'GLE-CLASS', 'V60', 'EQS-CLASS SEDAN', 'R1S',\n",
       "       'I-MIEV', 'NX', '740E', 'SPORTAGE', 'C-CLASS', 'S-CLASS', 'CITY',\n",
       "       'S90', 'TUCSON', 'GV60', 'EQS-CLASS SUV', 'A8 E', 'RANGE ROVER',\n",
       "       nan, 'RS E-TRON GT', 'RANGER', 'BENTAYGA', '745E',\n",
       "       'TRANSIT CONNECT ELECTRIC', 'ACCORD', 'S-10 PICKUP', 'SOLTERRA',\n",
       "       'G80', '918', 'FLYING SPUR', '745LE'], dtype=object)"
      ]
     },
     "execution_count": 19,
     "metadata": {},
     "output_type": "execute_result"
    }
   ],
   "source": [
    "df['Model'].unique()"
   ]
  },
  {
   "cell_type": "code",
   "execution_count": 20,
   "id": "dd7b4dfc",
   "metadata": {},
   "outputs": [
    {
     "data": {
      "text/plain": [
       "0    MODEL 3\n",
       "Name: Model, dtype: object"
      ]
     },
     "execution_count": 20,
     "metadata": {},
     "output_type": "execute_result"
    }
   ],
   "source": [
    "df['Model'].mode()"
   ]
  },
  {
   "cell_type": "markdown",
   "id": "3118ff1b",
   "metadata": {},
   "source": [
    "So, Lets fill the null values in this column with \"Model 3\""
   ]
  },
  {
   "cell_type": "code",
   "execution_count": 21,
   "id": "d87ca0ac",
   "metadata": {},
   "outputs": [],
   "source": [
    "df['Model'].fillna(df['Model'].mode()[0], inplace=True)"
   ]
  },
  {
   "cell_type": "code",
   "execution_count": 22,
   "id": "d78ce248",
   "metadata": {},
   "outputs": [
    {
     "data": {
      "text/plain": [
       "0"
      ]
     },
     "execution_count": 22,
     "metadata": {},
     "output_type": "execute_result"
    }
   ],
   "source": [
    "df['Model'].isnull().sum()"
   ]
  },
  {
   "cell_type": "markdown",
   "id": "35c91362",
   "metadata": {},
   "source": [
    "So, upto now we have cleared all null values lets start univariate and bivariate analysis with both numerical and categorical data"
   ]
  },
  {
   "cell_type": "markdown",
   "id": "8b0cfb04",
   "metadata": {},
   "source": [
    "#### Univariate Analysis"
   ]
  },
  {
   "cell_type": "code",
   "execution_count": 23,
   "id": "3f00eaba",
   "metadata": {},
   "outputs": [],
   "source": [
    "numerical_df = df.select_dtypes(include=\"number\")"
   ]
  },
  {
   "cell_type": "code",
   "execution_count": 24,
   "id": "ea73cd12",
   "metadata": {},
   "outputs": [
    {
     "data": {
      "text/html": [
       "<div>\n",
       "<style scoped>\n",
       "    .dataframe tbody tr th:only-of-type {\n",
       "        vertical-align: middle;\n",
       "    }\n",
       "\n",
       "    .dataframe tbody tr th {\n",
       "        vertical-align: top;\n",
       "    }\n",
       "\n",
       "    .dataframe thead th {\n",
       "        text-align: right;\n",
       "    }\n",
       "</style>\n",
       "<table border=\"1\" class=\"dataframe\">\n",
       "  <thead>\n",
       "    <tr style=\"text-align: right;\">\n",
       "      <th></th>\n",
       "      <th>Postal Code</th>\n",
       "      <th>Model Year</th>\n",
       "      <th>Electric Range</th>\n",
       "      <th>Base MSRP</th>\n",
       "      <th>Legislative District</th>\n",
       "      <th>DOL Vehicle ID</th>\n",
       "      <th>2020 Census Tract</th>\n",
       "    </tr>\n",
       "  </thead>\n",
       "  <tbody>\n",
       "    <tr>\n",
       "      <th>0</th>\n",
       "      <td>33040</td>\n",
       "      <td>2022</td>\n",
       "      <td>42</td>\n",
       "      <td>0</td>\n",
       "      <td>29</td>\n",
       "      <td>198968248</td>\n",
       "      <td>12087972100</td>\n",
       "    </tr>\n",
       "    <tr>\n",
       "      <th>1</th>\n",
       "      <td>89029</td>\n",
       "      <td>2013</td>\n",
       "      <td>38</td>\n",
       "      <td>0</td>\n",
       "      <td>29</td>\n",
       "      <td>5204412</td>\n",
       "      <td>32003005702</td>\n",
       "    </tr>\n",
       "    <tr>\n",
       "      <th>2</th>\n",
       "      <td>98901</td>\n",
       "      <td>2011</td>\n",
       "      <td>73</td>\n",
       "      <td>0</td>\n",
       "      <td>15</td>\n",
       "      <td>218972519</td>\n",
       "      <td>53077001602</td>\n",
       "    </tr>\n",
       "    <tr>\n",
       "      <th>3</th>\n",
       "      <td>98237</td>\n",
       "      <td>2017</td>\n",
       "      <td>238</td>\n",
       "      <td>0</td>\n",
       "      <td>39</td>\n",
       "      <td>186750406</td>\n",
       "      <td>53057951101</td>\n",
       "    </tr>\n",
       "    <tr>\n",
       "      <th>4</th>\n",
       "      <td>98201</td>\n",
       "      <td>2019</td>\n",
       "      <td>26</td>\n",
       "      <td>0</td>\n",
       "      <td>38</td>\n",
       "      <td>2006714</td>\n",
       "      <td>53061041500</td>\n",
       "    </tr>\n",
       "    <tr>\n",
       "      <th>...</th>\n",
       "      <td>...</td>\n",
       "      <td>...</td>\n",
       "      <td>...</td>\n",
       "      <td>...</td>\n",
       "      <td>...</td>\n",
       "      <td>...</td>\n",
       "      <td>...</td>\n",
       "    </tr>\n",
       "    <tr>\n",
       "      <th>112629</th>\n",
       "      <td>98019</td>\n",
       "      <td>2022</td>\n",
       "      <td>0</td>\n",
       "      <td>0</td>\n",
       "      <td>45</td>\n",
       "      <td>217955265</td>\n",
       "      <td>53033032401</td>\n",
       "    </tr>\n",
       "    <tr>\n",
       "      <th>112630</th>\n",
       "      <td>98250</td>\n",
       "      <td>2019</td>\n",
       "      <td>150</td>\n",
       "      <td>0</td>\n",
       "      <td>40</td>\n",
       "      <td>103663227</td>\n",
       "      <td>53055960301</td>\n",
       "    </tr>\n",
       "    <tr>\n",
       "      <th>112631</th>\n",
       "      <td>98070</td>\n",
       "      <td>2022</td>\n",
       "      <td>38</td>\n",
       "      <td>0</td>\n",
       "      <td>34</td>\n",
       "      <td>193878387</td>\n",
       "      <td>53033027702</td>\n",
       "    </tr>\n",
       "    <tr>\n",
       "      <th>112632</th>\n",
       "      <td>98042</td>\n",
       "      <td>2018</td>\n",
       "      <td>26</td>\n",
       "      <td>0</td>\n",
       "      <td>47</td>\n",
       "      <td>125039043</td>\n",
       "      <td>53033032007</td>\n",
       "    </tr>\n",
       "    <tr>\n",
       "      <th>112633</th>\n",
       "      <td>98042</td>\n",
       "      <td>2022</td>\n",
       "      <td>18</td>\n",
       "      <td>0</td>\n",
       "      <td>47</td>\n",
       "      <td>194673692</td>\n",
       "      <td>53033032005</td>\n",
       "    </tr>\n",
       "  </tbody>\n",
       "</table>\n",
       "<p>112634 rows × 7 columns</p>\n",
       "</div>"
      ],
      "text/plain": [
       "        Postal Code  Model Year  Electric Range  Base MSRP  \\\n",
       "0             33040        2022              42          0   \n",
       "1             89029        2013              38          0   \n",
       "2             98901        2011              73          0   \n",
       "3             98237        2017             238          0   \n",
       "4             98201        2019              26          0   \n",
       "...             ...         ...             ...        ...   \n",
       "112629        98019        2022               0          0   \n",
       "112630        98250        2019             150          0   \n",
       "112631        98070        2022              38          0   \n",
       "112632        98042        2018              26          0   \n",
       "112633        98042        2022              18          0   \n",
       "\n",
       "        Legislative District  DOL Vehicle ID  2020 Census Tract  \n",
       "0                         29       198968248        12087972100  \n",
       "1                         29         5204412        32003005702  \n",
       "2                         15       218972519        53077001602  \n",
       "3                         39       186750406        53057951101  \n",
       "4                         38         2006714        53061041500  \n",
       "...                      ...             ...                ...  \n",
       "112629                    45       217955265        53033032401  \n",
       "112630                    40       103663227        53055960301  \n",
       "112631                    34       193878387        53033027702  \n",
       "112632                    47       125039043        53033032007  \n",
       "112633                    47       194673692        53033032005  \n",
       "\n",
       "[112634 rows x 7 columns]"
      ]
     },
     "execution_count": 24,
     "metadata": {},
     "output_type": "execute_result"
    }
   ],
   "source": [
    "numerical_df"
   ]
  },
  {
   "cell_type": "code",
   "execution_count": 25,
   "id": "fdadc236",
   "metadata": {},
   "outputs": [
    {
     "data": {
      "text/plain": [
       "Index(['Postal Code', 'Model Year', 'Electric Range', 'Base MSRP',\n",
       "       'Legislative District', 'DOL Vehicle ID', '2020 Census Tract'],\n",
       "      dtype='object')"
      ]
     },
     "execution_count": 25,
     "metadata": {},
     "output_type": "execute_result"
    }
   ],
   "source": [
    "numerical_df.columns"
   ]
  },
  {
   "cell_type": "code",
   "execution_count": 26,
   "id": "74d28ce7",
   "metadata": {},
   "outputs": [
    {
     "data": {
      "text/plain": [
       "array([     0,  31950,  55700,  33950,  69900,  36900,  43700,  34995,\n",
       "        39995,  32250,  44100, 110950,  59900,  52900,  54950, 102000,\n",
       "        45600,  53400,  64950, 184400,  90700,  36800,  81100,  75095,\n",
       "        52650,  91250, 109000,  98950,  89100, 845000], dtype=int64)"
      ]
     },
     "execution_count": 26,
     "metadata": {},
     "output_type": "execute_result"
    }
   ],
   "source": [
    "df['Base MSRP'].unique()"
   ]
  },
  {
   "cell_type": "code",
   "execution_count": 27,
   "id": "7a72ed86",
   "metadata": {},
   "outputs": [
    {
     "data": {
      "text/plain": [
       "array([33040, 89029, 98901, 98237, 98201, 98021, 98203, 98275, 98236,\n",
       "       98221, 98516, 98837, 62258, 98579, 98233, 98344, 98271, 98037,\n",
       "       12833, 98026, 99026, 98502, 98087, 98125, 98001, 98115, 98020,\n",
       "       98260, 98503, 98501, 98208, 98296, 98312, 98036, 98204, 23602,\n",
       "       98902, 98908, 73521, 99163, 60035, 99205, 98392, 98272, 98382,\n",
       "       98345, 98513, 60031, 98038, 98270, 98031, 98155, 98370, 98290,\n",
       "       98052, 98029, 98632, 98406, 98926, 98168, 98329, 98373, 98074,\n",
       "       98102, 98595, 98683, 98011, 99001, 98075, 98040, 98292, 98053,\n",
       "       98110, 98032, 98112, 98122, 98116, 98002, 98822, 98498, 98391,\n",
       "       98106, 98402, 98008, 98663, 99212, 98033, 98144, 98446, 98107,\n",
       "       98059, 98367, 98225, 98661, 99354, 98004, 98282, 98801, 98103,\n",
       "       98178, 98258, 98684, 98686, 98229, 98580, 98332, 98101, 98198,\n",
       "       98177, 98607, 99338, 98136, 98366, 98105, 98058, 98012, 98166,\n",
       "       99352, 98118, 98604, 98685, 98121, 99362, 98045, 98006, 98034,\n",
       "       98056, 98506, 98030, 98274, 98335, 98005, 98674, 98072, 98524,\n",
       "       98119, 98065, 98024, 98374, 98250, 98117, 98281, 98327, 98109,\n",
       "       98077, 98611, 98230, 98682, 99336, 98027, 99208, 98108, 99202,\n",
       "       98356, 98368, 98941, 98028, 98042, 98003, 98383, 98133, 98199,\n",
       "       98039, 98055, 98022, 98273, 98843, 98930, 98953, 98372, 98070,\n",
       "       98465, 98672, 98662, 98104, 98466, 98126, 98802, 98847, 98546,\n",
       "       98388, 99224, 98390, 66441, 99337, 99016, 98584, 98404, 98532,\n",
       "       99223, 98444, 98571, 98247, 98443, 98010, 98407, 98639, 98665,\n",
       "       98007, 98239, 98380, 98223, 98512, 22308, 99161, 98232, 98023,\n",
       "       98092, 98310, 98349, 98467, 98311, 98226, 98922, 98675, 98277,\n",
       "       98445, 98620, 98339, 98220, 99169, 98592, 98360, 98588, 98333,\n",
       "       98422, 98936, 98363, 98146, 98387, 98664, 99218, 98261, 98826,\n",
       "       98158, 98648, 99301, 98408, 98597, 98855, 99019, 98340, 98245,\n",
       "       99204, 98358, 99360, 99216, 98942, 99217, 98424, 98264, 98520,\n",
       "       98303, 98243, 98346, 98377, 98405, 99201, 98284, 98014, 98418,\n",
       "       98371, 98528, 99004, 98541, 98403, 98359, 98252, 98823, 98642,\n",
       "       98557, 98248, 98375, 98148, 98188, 98043, 98409, 98660, 98362,\n",
       "       98249, 95476, 98576, 98944, 98582, 99114, 98019, 99207, 99027,\n",
       "       98856, 98328, 99003, 98569, 98671, 98365, 99320, 99403, 98051,\n",
       "       98626, 99118, 99203, 98244, 99350, 98354, 98548, 99353, 98057,\n",
       "       98504, 98816, 98338, 98577, 98606, 98850, 98499, 98257, 99171,\n",
       "       99021, 98550, 99006, 99123, 98325, 99323, 98848, 68110, 98629,\n",
       "       98940, 98631, 99181, 98625, 98337, 98342, 98862, 92595, 92656,\n",
       "       98321, 98563, 89147, 99206, 98206, 99328, 98394, 98570, 99022,\n",
       "       98276, 98531, 98294, 98650, 98644, 98610, 99005, 98262, 99025,\n",
       "       98612, 99037, 99036, 98815, 98603, 98537, 98624, 98568, 98315,\n",
       "       98645, 98596, 98253, 98589, 99357, 98134, 66027, 98240, 94556,\n",
       "       98433, 99324, 21036, 98651, 98601, 98605, 98581, 98235, 98937,\n",
       "       98050, 98640, 98279, 99344, 99170, 98068, 80547, 99166, 20009,\n",
       "       21756, 38004, 92124, 29153, 20774,  6443, 97367, 99133, 81082,\n",
       "       99109, 98361, 98946, 98903, 21704, 98828, 99341, 98932, 99185,\n",
       "       98591, 98948, 99330, 98381, 99130, 99147, 78501, 99156, 99134,\n",
       "       98047, 98164, 78258, 98542, 99347, 98351, 99326, 98320, 98288,\n",
       "       99029, 98266, 57701, 99115, 98617, 98950, 98844, 98831, 96818,\n",
       "       98841, 98812, 99343, 21113, 98858, 68135, 98614, 98251, 98851,\n",
       "       98947, 20906, 31088, 99349, 99101, 99148, 29404, 98331, 98951,\n",
       "       98638, 98376, 99402, 93940, 98925, 99011, 98438, 93555, 98647,\n",
       "       98555, 92102, 94559, 92111, 20105, 98832, 98857, 39531, 99122,\n",
       "       92103, 91913, 72205, 98635, 28305, 90713, 99141, 98586, 64084,\n",
       "       98421, 98840, 98830, 98846, 98295, 92107, 84115, 89084, 89118,\n",
       "       99119, 95688, 42223, 15090, 98304, 99009, 98323, 20002, 99030,\n",
       "       99018, 21157, 98834, 98241, 97068, 98564, 19901, 84129, 99034,\n",
       "       21012, 32778, 77042, 98439, 93001, 98849, 98547, 99173, 98616,\n",
       "       99125, 99138, 98814, 98396, 45243, 97304, 95747, 20732, 89146,\n",
       "       99111, 89115, 98952, 98634, 99167, 82801, 98357, 93245, 36106,\n",
       "       80923, 23707, 93536, 29154, 99116, 92584, 98286, 83648, 98267,\n",
       "       95054, 78251, 98224, 99031, 92101, 68102, 85138, 93921, 80919,\n",
       "       98585, 27534, 98590, 94710, 85086, 22554, 80925, 85248, 98670,\n",
       "       93436, 91801, 78250, 90620, 92585, 98938, 98593, 99701, 95014,\n",
       "       98934, 99023, 92210, 98833, 99137, 93010, 70037, 61201, 99126,\n",
       "       98305, 21701, 98621, 84128, 92051, 99159, 99180, 92131, 88201,\n",
       "       21054, 20854, 98314, 98355, 98526, 98649, 98538, 98533, 99135,\n",
       "       99361, 20878, 79911, 97436, 99008, 99032, 33415, 99033, 92118,\n",
       "       98572, 24541, 21401, 92154, 17050, 99013, 77539, 23464, 94510,\n",
       "       98562, 23435, 98507, 23024, 33547, 13638, 75068, 20762, 98263,\n",
       "       76548, 94565, 89166, 19403, 20003, 23503, 98124, 32580, 30013,\n",
       "       60077, 98619, 68130, 23518, 23321, 90621, 96349, 22314, 20637,\n",
       "       22304, 62220, 22301, 99113, 98385, 98326, 80501, 84121, 29909,\n",
       "       63137, 23462, 20653, 98283, 94901, 98530, 20876, 80111, 54874,\n",
       "       85281, 23517, 28307, 96706, 82001, 97214, 22015, 90250, 98535,\n",
       "       98583, 98417, 98845, 92109, 85395, 90249, 90802, 98386, 92123,\n",
       "       28376, 99121, 93560, 99110, 22307, 98575, 34242, 99356, 95062,\n",
       "       92106, 11436, 76310, 92398, 22180, 98297, 37042, 40026, 20171,\n",
       "       99129, 28545, 98227, 30809, 98943, 22203, 72207, 92602, 98613,\n",
       "       68123, 99012, 99017, 92058, 95401, 98641, 28387, 98536, 71832,\n",
       "       98587, 94040, 30103, 95817, 92308, 98643, 98853,  8033, 20024,\n",
       "       94707, 89138, 92620, 55408, 92618,  1824, 98509,  6371, 64079,\n",
       "        1731, 98527, 20755,  4401, 98560, 91304, 11753, 99131, 92056,\n",
       "       92703, 30905, 92672,  2842, 92057,  3804, 99348, 94403, 80019,\n",
       "        1730, 98609, 22405,  6385, 30030, 96789, 96752, 20007,  8055,\n",
       "       21037, 70461, 28312, 98401,  6379, 98336,  6340, 31324, 98935,\n",
       "        8641, 99179, 94303,  3860, 29483, 66043, 58802, 83876],\n",
       "      dtype=int64)"
      ]
     },
     "execution_count": 27,
     "metadata": {},
     "output_type": "execute_result"
    }
   ],
   "source": [
    "df['Postal Code'].unique()"
   ]
  },
  {
   "cell_type": "code",
   "execution_count": 28,
   "id": "d369ce03",
   "metadata": {},
   "outputs": [
    {
     "data": {
      "text/plain": [
       "array([2022, 2013, 2011, 2017, 2019, 2018, 2016, 2020, 2021, 2015, 2014,\n",
       "       2012, 2023, 2010, 2008, 2000, 1997, 1999, 1998, 2002], dtype=int64)"
      ]
     },
     "execution_count": 28,
     "metadata": {},
     "output_type": "execute_result"
    }
   ],
   "source": [
    "df['Model Year'].unique()"
   ]
  },
  {
   "cell_type": "code",
   "execution_count": 29,
   "id": "c051b58a",
   "metadata": {},
   "outputs": [
    {
     "data": {
      "text/plain": [
       "array([ 42,  38,  73, 238,  26, 215,  75,  84,  93,  20, 293,  53, 150,\n",
       "       107,  14, 200,   0,  15, 151, 266, 192,  17,  16, 220, 111,  19,\n",
       "        87, 249, 210,  31, 208,  72, 259,  47, 291, 239,  22, 322,  32,\n",
       "         6, 203,  83,  25, 125,  21, 149,  97, 289,  18,  13,  12,  68,\n",
       "        30, 308, 170, 204, 245, 258, 126,  82,  29,  24, 110, 218,  41,\n",
       "       265, 330, 222,  23, 103, 270,  35,  58,  33, 234,  81, 153, 114,\n",
       "        10,  27,  76,  28,  40,   8, 337,  37,  62,  34, 233,   9, 124,\n",
       "       100,  57,  56,  39,  48,  74,  36,  11,  59,  95], dtype=int64)"
      ]
     },
     "execution_count": 29,
     "metadata": {},
     "output_type": "execute_result"
    }
   ],
   "source": [
    "df['Electric Range'].unique()"
   ]
  },
  {
   "cell_type": "code",
   "execution_count": 30,
   "id": "edca3e18",
   "metadata": {},
   "outputs": [
    {
     "data": {
      "text/plain": [
       "array([29, 15, 39, 38,  1, 21, 10, 40, 22, 13, 20,  2, 32,  7, 46, 30, 35,\n",
       "       44, 14,  9,  3, 23, 24,  5, 33, 45, 19, 27, 26, 25, 43, 17,  6, 41,\n",
       "       37, 34, 31, 12, 28, 48, 49,  4, 36, 42,  8, 18, 11, 16, 47])"
      ]
     },
     "execution_count": 30,
     "metadata": {},
     "output_type": "execute_result"
    }
   ],
   "source": [
    "df['Legislative District'].unique()"
   ]
  },
  {
   "cell_type": "code",
   "execution_count": 31,
   "id": "297ee9b4",
   "metadata": {},
   "outputs": [],
   "source": [
    "def numerical_analysis(numerical_data):\n",
    "    for col_name in numerical_data:\n",
    "        print(\"*\"*10,col_name,\"*\"*10)\n",
    "        print(numerical_data[col_name].agg(['min','max','skew','mean','std','kurt','median']))\n",
    "        print()"
   ]
  },
  {
   "cell_type": "code",
   "execution_count": 32,
   "id": "192c7257",
   "metadata": {},
   "outputs": [
    {
     "name": "stdout",
     "output_type": "stream",
     "text": [
      "********** Electric Range **********\n",
      "min         0.000000\n",
      "max       337.000000\n",
      "skew        0.817103\n",
      "mean       87.812987\n",
      "std       102.334216\n",
      "kurt       -0.876312\n",
      "median     32.000000\n",
      "Name: Electric Range, dtype: float64\n",
      "\n",
      "********** Base MSRP **********\n",
      "min            0.000000\n",
      "max       845000.000000\n",
      "skew          10.100497\n",
      "mean        1793.439681\n",
      "std        10783.753486\n",
      "kurt         371.695682\n",
      "median         0.000000\n",
      "Name: Base MSRP, dtype: float64\n",
      "\n",
      "********** Legislative District **********\n",
      "min        1.000000\n",
      "max       49.000000\n",
      "skew      -0.542587\n",
      "mean      29.803558\n",
      "std       14.681925\n",
      "kurt      -0.976292\n",
      "median    34.000000\n",
      "Name: Legislative District, dtype: float64\n",
      "\n"
     ]
    }
   ],
   "source": [
    "numerical_analysis(df[['Electric Range','Base MSRP','Legislative District']])"
   ]
  },
  {
   "cell_type": "code",
   "execution_count": 33,
   "id": "1934744e",
   "metadata": {},
   "outputs": [
    {
     "data": {
      "text/plain": [
       "<AxesSubplot:>"
      ]
     },
     "execution_count": 33,
     "metadata": {},
     "output_type": "execute_result"
    },
    {
     "data": {
      "image/png": "[encoded data removed]",
      "text/plain": [
       "<Figure size 432x288 with 1 Axes>"
      ]
     },
     "metadata": {
      "needs_background": "light"
     },
     "output_type": "display_data"
    }
   ],
   "source": [
    "df['Electric Range'].plot(kind='box')"
   ]
  },
  {
   "cell_type": "code",
   "execution_count": 34,
   "id": "0ebef901",
   "metadata": {},
   "outputs": [
    {
     "data": {
      "text/plain": [
       "<AxesSubplot:>"
      ]
     },
     "execution_count": 34,
     "metadata": {},
     "output_type": "execute_result"
    },
    {
     "data": {
      "image/png": "[encoded data removed]",
      "text/plain": [
       "<Figure size 432x288 with 1 Axes>"
      ]
     },
     "metadata": {
      "needs_background": "light"
     },
     "output_type": "display_data"
    }
   ],
   "source": [
    "df['Legislative District'].plot(kind='box')"
   ]
  },
  {
   "cell_type": "code",
   "execution_count": 35,
   "id": "ef5779d2",
   "metadata": {},
   "outputs": [
    {
     "data": {
      "text/plain": [
       "<AxesSubplot:>"
      ]
     },
     "execution_count": 35,
     "metadata": {},
     "output_type": "execute_result"
    },
    {
     "data": {
      "image/png": "[encoded data removed]",
      "text/plain": [
       "<Figure size 432x288 with 1 Axes>"
      ]
     },
     "metadata": {
      "needs_background": "light"
     },
     "output_type": "display_data"
    }
   ],
   "source": [
    "df['Model Year'].plot(kind='box')"
   ]
  },
  {
   "cell_type": "code",
   "execution_count": 36,
   "id": "6b450c97",
   "metadata": {},
   "outputs": [
    {
     "data": {
      "text/plain": [
       "Model Year    17\n",
       "dtype: int64"
      ]
     },
     "execution_count": 36,
     "metadata": {},
     "output_type": "execute_result"
    }
   ],
   "source": [
    "df[df['Model Year']<2005][['Model Year']].count()"
   ]
  },
  {
   "cell_type": "markdown",
   "id": "20e8c0fa",
   "metadata": {},
   "source": [
    "Removing those outliers"
   ]
  },
  {
   "cell_type": "code",
   "execution_count": 37,
   "id": "26438b96",
   "metadata": {},
   "outputs": [
    {
     "data": {
      "text/plain": [
       "<AxesSubplot:>"
      ]
     },
     "execution_count": 37,
     "metadata": {},
     "output_type": "execute_result"
    },
    {
     "data": {
      "image/png": "[encoded data removed]",
      "text/plain": [
       "<Figure size 432x288 with 1 Axes>"
      ]
     },
     "metadata": {
      "needs_background": "light"
     },
     "output_type": "display_data"
    }
   ],
   "source": [
    "df=df[df['Model Year']>2010]\n",
    "df['Model Year'].plot(kind='box')"
   ]
  },
  {
   "cell_type": "code",
   "execution_count": 38,
   "id": "e0b8943a",
   "metadata": {},
   "outputs": [
    {
     "data": {
      "text/plain": [
       "(112570, 17)"
      ]
     },
     "execution_count": 38,
     "metadata": {},
     "output_type": "execute_result"
    }
   ],
   "source": [
    "df.shape"
   ]
  },
  {
   "cell_type": "code",
   "execution_count": 39,
   "id": "5abf8bb2",
   "metadata": {},
   "outputs": [
    {
     "data": {
      "text/plain": [
       "<AxesSubplot:ylabel='Frequency'>"
      ]
     },
     "execution_count": 39,
     "metadata": {},
     "output_type": "execute_result"
    },
    {
     "data": {
      "image/png": "[encoded data removed]",
      "text/plain": [
       "<Figure size 720x432 with 1 Axes>"
      ]
     },
     "metadata": {
      "needs_background": "light"
     },
     "output_type": "display_data"
    }
   ],
   "source": [
    "plt.figure(figsize=(10,6))\n",
    "df['Model Year'].plot(kind='hist',bins=5)"
   ]
  },
  {
   "cell_type": "code",
   "execution_count": 40,
   "id": "322a030b",
   "metadata": {},
   "outputs": [
    {
     "data": {
      "text/plain": [
       "<AxesSubplot:ylabel='Density'>"
      ]
     },
     "execution_count": 40,
     "metadata": {},
     "output_type": "execute_result"
    },
    {
     "data": {
      "image/png": "[encoded data removed]",
      "text/plain": [
       "<Figure size 432x288 with 1 Axes>"
      ]
     },
     "metadata": {
      "needs_background": "light"
     },
     "output_type": "display_data"
    }
   ],
   "source": [
    "df['Model Year'].plot(kind='kde')"
   ]
  },
  {
   "cell_type": "code",
   "execution_count": 41,
   "id": "f1f1fd50",
   "metadata": {},
   "outputs": [
    {
     "data": {
      "text/plain": [
       "<AxesSubplot:ylabel='Frequency'>"
      ]
     },
     "execution_count": 41,
     "metadata": {},
     "output_type": "execute_result"
    },
    {
     "data": {
      "image/png": "[encoded data removed]",
      "text/plain": [
       "<Figure size 720x432 with 1 Axes>"
      ]
     },
     "metadata": {
      "needs_background": "light"
     },
     "output_type": "display_data"
    }
   ],
   "source": [
    "plt.figure(figsize=(10,6))\n",
    "df['Legislative District'].plot(kind='hist')"
   ]
  },
  {
   "cell_type": "code",
   "execution_count": 42,
   "id": "64d05d09",
   "metadata": {},
   "outputs": [
    {
     "data": {
      "text/plain": [
       "<AxesSubplot:ylabel='Density'>"
      ]
     },
     "execution_count": 42,
     "metadata": {},
     "output_type": "execute_result"
    },
    {
     "data": {
      "image/png": "[encoded data removed]",
      "text/plain": [
       "<Figure size 432x288 with 1 Axes>"
      ]
     },
     "metadata": {
      "needs_background": "light"
     },
     "output_type": "display_data"
    }
   ],
   "source": [
    "df['Legislative District'].plot(kind='kde')"
   ]
  },
  {
   "cell_type": "code",
   "execution_count": 43,
   "id": "5c555c4e",
   "metadata": {},
   "outputs": [],
   "source": [
    "categorical_df = df.select_dtypes(include=\"object\")"
   ]
  },
  {
   "cell_type": "code",
   "execution_count": 44,
   "id": "4db62b93",
   "metadata": {},
   "outputs": [
    {
     "data": {
      "text/plain": [
       "Index(['VIN (1-10)', 'County', 'City', 'State', 'Make', 'Model',\n",
       "       'Electric Vehicle Type',\n",
       "       'Clean Alternative Fuel Vehicle (CAFV) Eligibility', 'Vehicle Location',\n",
       "       'Electric Utility'],\n",
       "      dtype='object')"
      ]
     },
     "execution_count": 44,
     "metadata": {},
     "output_type": "execute_result"
    }
   ],
   "source": [
    "categorical_df.columns"
   ]
  },
  {
   "cell_type": "code",
   "execution_count": 45,
   "id": "8844cfa2",
   "metadata": {},
   "outputs": [],
   "source": [
    "def categorical_analysis(cat_data):\n",
    "    for col_name in cat_data:\n",
    "        print(\"*\"*10,col_name,\"*\"*10)\n",
    "        print(cat_data[col_name].agg(['count','nunique','unique']))\n",
    "        print(\"value counts: \\n\",cat_data[col_name].value_counts(normalize='True'))\n",
    "        print()"
   ]
  },
  {
   "cell_type": "code",
   "execution_count": 46,
   "id": "2c0d2d62",
   "metadata": {},
   "outputs": [
    {
     "name": "stdout",
     "output_type": "stream",
     "text": [
      "********** County **********\n",
      "count                                                 112570\n",
      "nunique                                                  165\n",
      "unique     [Monroe, Clark, Yakima, Skagit, Snohomish, Isl...\n",
      "Name: County, dtype: object\n",
      "value counts: \n",
      " King          0.523807\n",
      "Snohomish     0.110420\n",
      "Pierce        0.075775\n",
      "Clark         0.059394\n",
      "Thurston      0.036653\n",
      "                ...   \n",
      "Pinal         0.000009\n",
      "Elmore        0.000009\n",
      "Portsmouth    0.000009\n",
      "Kings         0.000009\n",
      "Kootenai      0.000009\n",
      "Name: County, Length: 165, dtype: float64\n",
      "\n",
      "********** Model **********\n",
      "count                                                 112570\n",
      "nunique                                                  112\n",
      "unique     [RAV4 PRIME, VOLT, LEAF, BOLT EV, FUSION, MODE...\n",
      "Name: Model, dtype: object\n",
      "value counts: \n",
      " MODEL 3        0.205694\n",
      "MODEL Y        0.152279\n",
      "LEAF           0.114418\n",
      "MODEL S        0.065533\n",
      "BOLT EV        0.043617\n",
      "                 ...   \n",
      "BENTAYGA       0.000018\n",
      "745LE          0.000018\n",
      "SOLTERRA       0.000009\n",
      "918            0.000009\n",
      "FLYING SPUR    0.000009\n",
      "Name: Model, Length: 112, dtype: float64\n",
      "\n",
      "********** State **********\n",
      "count                                                 112570\n",
      "nunique                                                   45\n",
      "unique     [FL, NV, WA, IL, NY, VA, OK, KS, CA, NE, MD, C...\n",
      "Name: State, dtype: object\n",
      "value counts: \n",
      " WA    0.997459\n",
      "CA    0.000675\n",
      "VA    0.000320\n",
      "MD    0.000231\n",
      "TX    0.000124\n",
      "CO    0.000080\n",
      "NV    0.000071\n",
      "GA    0.000062\n",
      "NC    0.000062\n",
      "CT    0.000053\n",
      "DC    0.000053\n",
      "FL    0.000053\n",
      "AZ    0.000053\n",
      "IL    0.000053\n",
      "SC    0.000044\n",
      "OR    0.000044\n",
      "NE    0.000044\n",
      "HI    0.000036\n",
      "UT    0.000036\n",
      "AR    0.000036\n",
      "NY    0.000036\n",
      "TN    0.000027\n",
      "KS    0.000027\n",
      "MO    0.000027\n",
      "PA    0.000027\n",
      "MA    0.000027\n",
      "LA    0.000027\n",
      "NJ    0.000027\n",
      "NH    0.000018\n",
      "OH    0.000018\n",
      "WY    0.000018\n",
      "ID    0.000018\n",
      "KY    0.000009\n",
      "RI    0.000009\n",
      "ME    0.000009\n",
      "MN    0.000009\n",
      "SD    0.000009\n",
      "WI    0.000009\n",
      "NM    0.000009\n",
      "AK    0.000009\n",
      "MS    0.000009\n",
      "AL    0.000009\n",
      "DE    0.000009\n",
      "OK    0.000009\n",
      "ND    0.000009\n",
      "Name: State, dtype: float64\n",
      "\n"
     ]
    }
   ],
   "source": [
    "categorical_analysis(df[['County','Model','State']])"
   ]
  },
  {
   "cell_type": "code",
   "execution_count": 47,
   "id": "0845d114",
   "metadata": {},
   "outputs": [
    {
     "data": {
      "text/plain": [
       "<AxesSubplot:>"
      ]
     },
     "execution_count": 47,
     "metadata": {},
     "output_type": "execute_result"
    },
    {
     "data": {
      "image/png": "[encoded data removed]",
      "text/plain": [
       "<Figure size 720x432 with 1 Axes>"
      ]
     },
     "metadata": {
      "needs_background": "light"
     },
     "output_type": "display_data"
    }
   ],
   "source": [
    "plt.figure(figsize=(10,6))\n",
    "df['State'].value_counts().plot(kind='bar')"
   ]
  },
  {
   "cell_type": "code",
   "execution_count": 48,
   "id": "769d1789",
   "metadata": {},
   "outputs": [
    {
     "data": {
      "text/plain": [
       "(112453, 17)"
      ]
     },
     "execution_count": 48,
     "metadata": {},
     "output_type": "execute_result"
    }
   ],
   "source": [
    "df=df[~df['State'].isin(['KY','RI','ME','MN','SD','WI','NM','AK','MS','AL','DE','OK','ND',\n",
    "                        'ID','WY','OH','NH','NJ','LA','MA','PA','MO','KS','TN','HI','UT','AR','NY',\n",
    "                        'SC','OR','NE','CT','DC','FL','AZ','IL','GA','NC',''])]\n",
    "df.shape"
   ]
  },
  {
   "cell_type": "code",
   "execution_count": 49,
   "id": "386ba118",
   "metadata": {},
   "outputs": [
    {
     "data": {
      "text/plain": [
       "<AxesSubplot:>"
      ]
     },
     "execution_count": 49,
     "metadata": {},
     "output_type": "execute_result"
    },
    {
     "data": {
      "image/png": "[encoded data removed]",
      "text/plain": [
       "<Figure size 720x432 with 1 Axes>"
      ]
     },
     "metadata": {
      "needs_background": "light"
     },
     "output_type": "display_data"
    }
   ],
   "source": [
    "plt.figure(figsize=(10,6))\n",
    "df['State'].value_counts().plot(kind='bar')"
   ]
  },
  {
   "cell_type": "code",
   "execution_count": 50,
   "id": "034b3356",
   "metadata": {},
   "outputs": [
    {
     "data": {
      "text/plain": [
       "<AxesSubplot:>"
      ]
     },
     "execution_count": 50,
     "metadata": {},
     "output_type": "execute_result"
    },
    {
     "data": {
      "image/png": "[encoded data removed]",
      "text/plain": [
       "<Figure size 1440x576 with 1 Axes>"
      ]
     },
     "metadata": {
      "needs_background": "light"
     },
     "output_type": "display_data"
    }
   ],
   "source": [
    "plt.figure(figsize=(20,8))\n",
    "df['Model'].value_counts().plot(kind='bar')"
   ]
  },
  {
   "cell_type": "code",
   "execution_count": 51,
   "id": "b174059b",
   "metadata": {},
   "outputs": [
    {
     "data": {
      "text/html": [
       "<div>\n",
       "<style scoped>\n",
       "    .dataframe tbody tr th:only-of-type {\n",
       "        vertical-align: middle;\n",
       "    }\n",
       "\n",
       "    .dataframe tbody tr th {\n",
       "        vertical-align: top;\n",
       "    }\n",
       "\n",
       "    .dataframe thead th {\n",
       "        text-align: right;\n",
       "    }\n",
       "</style>\n",
       "<table border=\"1\" class=\"dataframe\">\n",
       "  <thead>\n",
       "    <tr style=\"text-align: right;\">\n",
       "      <th></th>\n",
       "      <th>VIN (1-10)</th>\n",
       "      <th>County</th>\n",
       "      <th>City</th>\n",
       "      <th>State</th>\n",
       "      <th>Postal Code</th>\n",
       "      <th>Model Year</th>\n",
       "      <th>Make</th>\n",
       "      <th>Model</th>\n",
       "      <th>Electric Vehicle Type</th>\n",
       "      <th>Clean Alternative Fuel Vehicle (CAFV) Eligibility</th>\n",
       "      <th>Electric Range</th>\n",
       "      <th>Base MSRP</th>\n",
       "      <th>Legislative District</th>\n",
       "      <th>DOL Vehicle ID</th>\n",
       "      <th>Vehicle Location</th>\n",
       "      <th>Electric Utility</th>\n",
       "      <th>2020 Census Tract</th>\n",
       "    </tr>\n",
       "  </thead>\n",
       "  <tbody>\n",
       "    <tr>\n",
       "      <th>0</th>\n",
       "      <td>1G1RD6E45D</td>\n",
       "      <td>Clark</td>\n",
       "      <td>Laughlin</td>\n",
       "      <td>NV</td>\n",
       "      <td>89029</td>\n",
       "      <td>2013</td>\n",
       "      <td>CHEVROLET</td>\n",
       "      <td>VOLT</td>\n",
       "      <td>Plug-in Hybrid Electric Vehicle (PHEV)</td>\n",
       "      <td>Clean Alternative Fuel Vehicle Eligible</td>\n",
       "      <td>38</td>\n",
       "      <td>0</td>\n",
       "      <td>29</td>\n",
       "      <td>5204412</td>\n",
       "      <td>POINT (-114.57245 35.16815)</td>\n",
       "      <td>PUGET SOUND ENERGY INC||CITY OF TACOMA - (WA)</td>\n",
       "      <td>32003005702</td>\n",
       "    </tr>\n",
       "    <tr>\n",
       "      <th>1</th>\n",
       "      <td>JN1AZ0CP8B</td>\n",
       "      <td>Yakima</td>\n",
       "      <td>Yakima</td>\n",
       "      <td>WA</td>\n",
       "      <td>98901</td>\n",
       "      <td>2011</td>\n",
       "      <td>NISSAN</td>\n",
       "      <td>LEAF</td>\n",
       "      <td>Battery Electric Vehicle (BEV)</td>\n",
       "      <td>Clean Alternative Fuel Vehicle Eligible</td>\n",
       "      <td>73</td>\n",
       "      <td>0</td>\n",
       "      <td>15</td>\n",
       "      <td>218972519</td>\n",
       "      <td>POINT (-120.50721 46.60448)</td>\n",
       "      <td>PACIFICORP</td>\n",
       "      <td>53077001602</td>\n",
       "    </tr>\n",
       "    <tr>\n",
       "      <th>2</th>\n",
       "      <td>1G1FW6S08H</td>\n",
       "      <td>Skagit</td>\n",
       "      <td>Concrete</td>\n",
       "      <td>WA</td>\n",
       "      <td>98237</td>\n",
       "      <td>2017</td>\n",
       "      <td>CHEVROLET</td>\n",
       "      <td>BOLT EV</td>\n",
       "      <td>Battery Electric Vehicle (BEV)</td>\n",
       "      <td>Clean Alternative Fuel Vehicle Eligible</td>\n",
       "      <td>238</td>\n",
       "      <td>0</td>\n",
       "      <td>39</td>\n",
       "      <td>186750406</td>\n",
       "      <td>POINT (-121.7515 48.53892)</td>\n",
       "      <td>PUGET SOUND ENERGY INC</td>\n",
       "      <td>53057951101</td>\n",
       "    </tr>\n",
       "    <tr>\n",
       "      <th>3</th>\n",
       "      <td>5YJ3E1EB5J</td>\n",
       "      <td>Snohomish</td>\n",
       "      <td>Bothell</td>\n",
       "      <td>WA</td>\n",
       "      <td>98021</td>\n",
       "      <td>2018</td>\n",
       "      <td>TESLA</td>\n",
       "      <td>MODEL 3</td>\n",
       "      <td>Battery Electric Vehicle (BEV)</td>\n",
       "      <td>Clean Alternative Fuel Vehicle Eligible</td>\n",
       "      <td>215</td>\n",
       "      <td>0</td>\n",
       "      <td>1</td>\n",
       "      <td>475635324</td>\n",
       "      <td>POINT (-122.18384 47.8031)</td>\n",
       "      <td>PUGET SOUND ENERGY INC</td>\n",
       "      <td>53061051916</td>\n",
       "    </tr>\n",
       "    <tr>\n",
       "      <th>4</th>\n",
       "      <td>1N4AZ0CP4D</td>\n",
       "      <td>Snohomish</td>\n",
       "      <td>Everett</td>\n",
       "      <td>WA</td>\n",
       "      <td>98203</td>\n",
       "      <td>2013</td>\n",
       "      <td>NISSAN</td>\n",
       "      <td>LEAF</td>\n",
       "      <td>Battery Electric Vehicle (BEV)</td>\n",
       "      <td>Clean Alternative Fuel Vehicle Eligible</td>\n",
       "      <td>75</td>\n",
       "      <td>0</td>\n",
       "      <td>38</td>\n",
       "      <td>253546023</td>\n",
       "      <td>POINT (-122.23019 47.94949)</td>\n",
       "      <td>PUGET SOUND ENERGY INC</td>\n",
       "      <td>53061040900</td>\n",
       "    </tr>\n",
       "  </tbody>\n",
       "</table>\n",
       "</div>"
      ],
      "text/plain": [
       "   VIN (1-10)     County      City State  Postal Code  Model Year       Make  \\\n",
       "0  1G1RD6E45D      Clark  Laughlin    NV        89029        2013  CHEVROLET   \n",
       "1  JN1AZ0CP8B     Yakima    Yakima    WA        98901        2011     NISSAN   \n",
       "2  1G1FW6S08H     Skagit  Concrete    WA        98237        2017  CHEVROLET   \n",
       "3  5YJ3E1EB5J  Snohomish   Bothell    WA        98021        2018      TESLA   \n",
       "4  1N4AZ0CP4D  Snohomish   Everett    WA        98203        2013     NISSAN   \n",
       "\n",
       "     Model                   Electric Vehicle Type  \\\n",
       "0     VOLT  Plug-in Hybrid Electric Vehicle (PHEV)   \n",
       "1     LEAF          Battery Electric Vehicle (BEV)   \n",
       "2  BOLT EV          Battery Electric Vehicle (BEV)   \n",
       "3  MODEL 3          Battery Electric Vehicle (BEV)   \n",
       "4     LEAF          Battery Electric Vehicle (BEV)   \n",
       "\n",
       "  Clean Alternative Fuel Vehicle (CAFV) Eligibility  Electric Range  \\\n",
       "0           Clean Alternative Fuel Vehicle Eligible              38   \n",
       "1           Clean Alternative Fuel Vehicle Eligible              73   \n",
       "2           Clean Alternative Fuel Vehicle Eligible             238   \n",
       "3           Clean Alternative Fuel Vehicle Eligible             215   \n",
       "4           Clean Alternative Fuel Vehicle Eligible              75   \n",
       "\n",
       "   Base MSRP  Legislative District  DOL Vehicle ID  \\\n",
       "0          0                    29         5204412   \n",
       "1          0                    15       218972519   \n",
       "2          0                    39       186750406   \n",
       "3          0                     1       475635324   \n",
       "4          0                    38       253546023   \n",
       "\n",
       "              Vehicle Location                               Electric Utility  \\\n",
       "0  POINT (-114.57245 35.16815)  PUGET SOUND ENERGY INC||CITY OF TACOMA - (WA)   \n",
       "1  POINT (-120.50721 46.60448)                                     PACIFICORP   \n",
       "2   POINT (-121.7515 48.53892)                         PUGET SOUND ENERGY INC   \n",
       "3   POINT (-122.18384 47.8031)                         PUGET SOUND ENERGY INC   \n",
       "4  POINT (-122.23019 47.94949)                         PUGET SOUND ENERGY INC   \n",
       "\n",
       "   2020 Census Tract  \n",
       "0        32003005702  \n",
       "1        53077001602  \n",
       "2        53057951101  \n",
       "3        53061051916  \n",
       "4        53061040900  "
      ]
     },
     "execution_count": 51,
     "metadata": {},
     "output_type": "execute_result"
    }
   ],
   "source": [
    "import pandas as pd\n",
    "\n",
    "# Assuming your DataFrame is 'df' and your categorical column is 'Model'\n",
    "\n",
    "# Step 1: Calculate the total number of occurrences\n",
    "total_count = len(df['Model'])\n",
    "\n",
    "# Step 2: Calculate the value counts and frequency percentage, rounded to 3 decimal places\n",
    "value_counts = df['Model'].value_counts()\n",
    "frequencies = (value_counts / total_count).round(3)\n",
    "\n",
    "# Step 3: Identify categories with frequency less than 2% (0.02)\n",
    "rare_categories = frequencies[frequencies < 0.02].index\n",
    "\n",
    "# Step 4: Remove rows with these rare categories\n",
    "df_filtered = df[~df['Model'].isin(rare_categories)]\n",
    "\n",
    "# Optional: Reset the index after filtering\n",
    "df_filtered.reset_index(drop=True, inplace=True)\n",
    "\n",
    "# Display the filtered DataFrame\n",
    "df_filtered.head()\n"
   ]
  },
  {
   "cell_type": "code",
   "execution_count": 52,
   "id": "2ecf5f6b",
   "metadata": {},
   "outputs": [
    {
     "data": {
      "text/plain": [
       "(112453, 17)"
      ]
     },
     "execution_count": 52,
     "metadata": {},
     "output_type": "execute_result"
    }
   ],
   "source": [
    "df.shape"
   ]
  },
  {
   "cell_type": "code",
   "execution_count": 53,
   "id": "a33389cb",
   "metadata": {},
   "outputs": [
    {
     "name": "stdout",
     "output_type": "stream",
     "text": [
      "Updated dataset length: 79298\n",
      "MODEL 3        23131\n",
      "MODEL Y        17123\n",
      "LEAF           12871\n",
      "MODEL S         7374\n",
      "BOLT EV         4908\n",
      "VOLT            4891\n",
      "MODEL X         4367\n",
      "PRIUS PRIME     2377\n",
      "NIRO            2256\n",
      "Name: Model, dtype: int64\n"
     ]
    },
    {
     "data": {
      "text/html": [
       "<div>\n",
       "<style scoped>\n",
       "    .dataframe tbody tr th:only-of-type {\n",
       "        vertical-align: middle;\n",
       "    }\n",
       "\n",
       "    .dataframe tbody tr th {\n",
       "        vertical-align: top;\n",
       "    }\n",
       "\n",
       "    .dataframe thead th {\n",
       "        text-align: right;\n",
       "    }\n",
       "</style>\n",
       "<table border=\"1\" class=\"dataframe\">\n",
       "  <thead>\n",
       "    <tr style=\"text-align: right;\">\n",
       "      <th></th>\n",
       "      <th>VIN (1-10)</th>\n",
       "      <th>County</th>\n",
       "      <th>City</th>\n",
       "      <th>State</th>\n",
       "      <th>Postal Code</th>\n",
       "      <th>Model Year</th>\n",
       "      <th>Make</th>\n",
       "      <th>Model</th>\n",
       "      <th>Electric Vehicle Type</th>\n",
       "      <th>Clean Alternative Fuel Vehicle (CAFV) Eligibility</th>\n",
       "      <th>Electric Range</th>\n",
       "      <th>Base MSRP</th>\n",
       "      <th>Legislative District</th>\n",
       "      <th>DOL Vehicle ID</th>\n",
       "      <th>Vehicle Location</th>\n",
       "      <th>Electric Utility</th>\n",
       "      <th>2020 Census Tract</th>\n",
       "    </tr>\n",
       "  </thead>\n",
       "  <tbody>\n",
       "    <tr>\n",
       "      <th>0</th>\n",
       "      <td>1G1RD6E45D</td>\n",
       "      <td>Clark</td>\n",
       "      <td>Laughlin</td>\n",
       "      <td>NV</td>\n",
       "      <td>89029</td>\n",
       "      <td>2013</td>\n",
       "      <td>CHEVROLET</td>\n",
       "      <td>VOLT</td>\n",
       "      <td>Plug-in Hybrid Electric Vehicle (PHEV)</td>\n",
       "      <td>Clean Alternative Fuel Vehicle Eligible</td>\n",
       "      <td>38</td>\n",
       "      <td>0</td>\n",
       "      <td>29</td>\n",
       "      <td>5204412</td>\n",
       "      <td>POINT (-114.57245 35.16815)</td>\n",
       "      <td>PUGET SOUND ENERGY INC||CITY OF TACOMA - (WA)</td>\n",
       "      <td>32003005702</td>\n",
       "    </tr>\n",
       "    <tr>\n",
       "      <th>1</th>\n",
       "      <td>JN1AZ0CP8B</td>\n",
       "      <td>Yakima</td>\n",
       "      <td>Yakima</td>\n",
       "      <td>WA</td>\n",
       "      <td>98901</td>\n",
       "      <td>2011</td>\n",
       "      <td>NISSAN</td>\n",
       "      <td>LEAF</td>\n",
       "      <td>Battery Electric Vehicle (BEV)</td>\n",
       "      <td>Clean Alternative Fuel Vehicle Eligible</td>\n",
       "      <td>73</td>\n",
       "      <td>0</td>\n",
       "      <td>15</td>\n",
       "      <td>218972519</td>\n",
       "      <td>POINT (-120.50721 46.60448)</td>\n",
       "      <td>PACIFICORP</td>\n",
       "      <td>53077001602</td>\n",
       "    </tr>\n",
       "    <tr>\n",
       "      <th>2</th>\n",
       "      <td>1G1FW6S08H</td>\n",
       "      <td>Skagit</td>\n",
       "      <td>Concrete</td>\n",
       "      <td>WA</td>\n",
       "      <td>98237</td>\n",
       "      <td>2017</td>\n",
       "      <td>CHEVROLET</td>\n",
       "      <td>BOLT EV</td>\n",
       "      <td>Battery Electric Vehicle (BEV)</td>\n",
       "      <td>Clean Alternative Fuel Vehicle Eligible</td>\n",
       "      <td>238</td>\n",
       "      <td>0</td>\n",
       "      <td>39</td>\n",
       "      <td>186750406</td>\n",
       "      <td>POINT (-121.7515 48.53892)</td>\n",
       "      <td>PUGET SOUND ENERGY INC</td>\n",
       "      <td>53057951101</td>\n",
       "    </tr>\n",
       "    <tr>\n",
       "      <th>3</th>\n",
       "      <td>5YJ3E1EB5J</td>\n",
       "      <td>Snohomish</td>\n",
       "      <td>Bothell</td>\n",
       "      <td>WA</td>\n",
       "      <td>98021</td>\n",
       "      <td>2018</td>\n",
       "      <td>TESLA</td>\n",
       "      <td>MODEL 3</td>\n",
       "      <td>Battery Electric Vehicle (BEV)</td>\n",
       "      <td>Clean Alternative Fuel Vehicle Eligible</td>\n",
       "      <td>215</td>\n",
       "      <td>0</td>\n",
       "      <td>1</td>\n",
       "      <td>475635324</td>\n",
       "      <td>POINT (-122.18384 47.8031)</td>\n",
       "      <td>PUGET SOUND ENERGY INC</td>\n",
       "      <td>53061051916</td>\n",
       "    </tr>\n",
       "    <tr>\n",
       "      <th>4</th>\n",
       "      <td>1N4AZ0CP4D</td>\n",
       "      <td>Snohomish</td>\n",
       "      <td>Everett</td>\n",
       "      <td>WA</td>\n",
       "      <td>98203</td>\n",
       "      <td>2013</td>\n",
       "      <td>NISSAN</td>\n",
       "      <td>LEAF</td>\n",
       "      <td>Battery Electric Vehicle (BEV)</td>\n",
       "      <td>Clean Alternative Fuel Vehicle Eligible</td>\n",
       "      <td>75</td>\n",
       "      <td>0</td>\n",
       "      <td>38</td>\n",
       "      <td>253546023</td>\n",
       "      <td>POINT (-122.23019 47.94949)</td>\n",
       "      <td>PUGET SOUND ENERGY INC</td>\n",
       "      <td>53061040900</td>\n",
       "    </tr>\n",
       "  </tbody>\n",
       "</table>\n",
       "</div>"
      ],
      "text/plain": [
       "   VIN (1-10)     County      City State  Postal Code  Model Year       Make  \\\n",
       "0  1G1RD6E45D      Clark  Laughlin    NV        89029        2013  CHEVROLET   \n",
       "1  JN1AZ0CP8B     Yakima    Yakima    WA        98901        2011     NISSAN   \n",
       "2  1G1FW6S08H     Skagit  Concrete    WA        98237        2017  CHEVROLET   \n",
       "3  5YJ3E1EB5J  Snohomish   Bothell    WA        98021        2018      TESLA   \n",
       "4  1N4AZ0CP4D  Snohomish   Everett    WA        98203        2013     NISSAN   \n",
       "\n",
       "     Model                   Electric Vehicle Type  \\\n",
       "0     VOLT  Plug-in Hybrid Electric Vehicle (PHEV)   \n",
       "1     LEAF          Battery Electric Vehicle (BEV)   \n",
       "2  BOLT EV          Battery Electric Vehicle (BEV)   \n",
       "3  MODEL 3          Battery Electric Vehicle (BEV)   \n",
       "4     LEAF          Battery Electric Vehicle (BEV)   \n",
       "\n",
       "  Clean Alternative Fuel Vehicle (CAFV) Eligibility  Electric Range  \\\n",
       "0           Clean Alternative Fuel Vehicle Eligible              38   \n",
       "1           Clean Alternative Fuel Vehicle Eligible              73   \n",
       "2           Clean Alternative Fuel Vehicle Eligible             238   \n",
       "3           Clean Alternative Fuel Vehicle Eligible             215   \n",
       "4           Clean Alternative Fuel Vehicle Eligible              75   \n",
       "\n",
       "   Base MSRP  Legislative District  DOL Vehicle ID  \\\n",
       "0          0                    29         5204412   \n",
       "1          0                    15       218972519   \n",
       "2          0                    39       186750406   \n",
       "3          0                     1       475635324   \n",
       "4          0                    38       253546023   \n",
       "\n",
       "              Vehicle Location                               Electric Utility  \\\n",
       "0  POINT (-114.57245 35.16815)  PUGET SOUND ENERGY INC||CITY OF TACOMA - (WA)   \n",
       "1  POINT (-120.50721 46.60448)                                     PACIFICORP   \n",
       "2   POINT (-121.7515 48.53892)                         PUGET SOUND ENERGY INC   \n",
       "3   POINT (-122.18384 47.8031)                         PUGET SOUND ENERGY INC   \n",
       "4  POINT (-122.23019 47.94949)                         PUGET SOUND ENERGY INC   \n",
       "\n",
       "   2020 Census Tract  \n",
       "0        32003005702  \n",
       "1        53077001602  \n",
       "2        53057951101  \n",
       "3        53061051916  \n",
       "4        53061040900  "
      ]
     },
     "execution_count": 53,
     "metadata": {},
     "output_type": "execute_result"
    }
   ],
   "source": [
    "total_count = len(df['Model'])\n",
    "\n",
    "value_counts = df['Model'].value_counts()\n",
    "frequencies = (value_counts / total_count).round(3)\n",
    "\n",
    "rare_categories = frequencies[frequencies < 0.02].index\n",
    "\n",
    "df = df[~df['Model'].isin(rare_categories)]\n",
    "\n",
    "df.reset_index(drop=True, inplace=True)\n",
    "\n",
    "print(f\"Updated dataset length: {len(df)}\")\n",
    "print(df['Model'].value_counts())\n",
    "\n",
    "df.head()"
   ]
  },
  {
   "cell_type": "code",
   "execution_count": 54,
   "id": "510777f5",
   "metadata": {},
   "outputs": [
    {
     "data": {
      "text/plain": [
       "(79298, 17)"
      ]
     },
     "execution_count": 54,
     "metadata": {},
     "output_type": "execute_result"
    }
   ],
   "source": [
    "df.shape"
   ]
  },
  {
   "cell_type": "code",
   "execution_count": 55,
   "id": "1f7cb381",
   "metadata": {},
   "outputs": [
    {
     "data": {
      "text/plain": [
       "<AxesSubplot:>"
      ]
     },
     "execution_count": 55,
     "metadata": {},
     "output_type": "execute_result"
    },
    {
     "data": {
      "image/png": "[encoded data removed]",
      "text/plain": [
       "<Figure size 1440x576 with 1 Axes>"
      ]
     },
     "metadata": {
      "needs_background": "light"
     },
     "output_type": "display_data"
    }
   ],
   "source": [
    "plt.figure(figsize=(20,8))\n",
    "df['Model'].value_counts().plot(kind='bar')"
   ]
  },
  {
   "cell_type": "code",
   "execution_count": 56,
   "id": "65de8b80",
   "metadata": {},
   "outputs": [
    {
     "data": {
      "text/plain": [
       "<AxesSubplot:>"
      ]
     },
     "execution_count": 56,
     "metadata": {},
     "output_type": "execute_result"
    },
    {
     "data": {
      "image/png": "[encoded data removed]",
      "text/plain": [
       "<Figure size 1440x576 with 1 Axes>"
      ]
     },
     "metadata": {
      "needs_background": "light"
     },
     "output_type": "display_data"
    }
   ],
   "source": [
    "plt.figure(figsize=(20,8))\n",
    "df['County'].value_counts().plot(kind='bar')"
   ]
  },
  {
   "cell_type": "code",
   "execution_count": 57,
   "id": "422df071",
   "metadata": {},
   "outputs": [
    {
     "data": {
      "text/plain": [
       "King          42665\n",
       "Snohomish      9112\n",
       "Pierce         5705\n",
       "Clark          4467\n",
       "Thurston       2768\n",
       "              ...  \n",
       "Kern              1\n",
       "Monterey          1\n",
       "Las Animas        1\n",
       "Howard            1\n",
       "San Mateo         1\n",
       "Name: County, Length: 81, dtype: int64"
      ]
     },
     "execution_count": 57,
     "metadata": {},
     "output_type": "execute_result"
    }
   ],
   "source": [
    "df['County'].value_counts()"
   ]
  },
  {
   "cell_type": "code",
   "execution_count": 58,
   "id": "47ab505d",
   "metadata": {},
   "outputs": [
    {
     "name": "stdout",
     "output_type": "stream",
     "text": [
      "Updated dataset length: 79207\n",
      "King            42665\n",
      "Snohomish        9112\n",
      "Pierce           5705\n",
      "Clark            4467\n",
      "Thurston         2768\n",
      "Kitsap           2472\n",
      "Whatcom          1961\n",
      "Spokane          1790\n",
      "Benton            926\n",
      "Island            892\n",
      "Skagit            860\n",
      "Chelan            509\n",
      "Clallam           501\n",
      "San Juan          487\n",
      "Jefferson         479\n",
      "Yakima            415\n",
      "Cowlitz           394\n",
      "Mason             361\n",
      "Lewis             281\n",
      "Kittitas          270\n",
      "Franklin          259\n",
      "Grays Harbor      238\n",
      "Grant             234\n",
      "Walla Walla       204\n",
      "Douglas           166\n",
      "Whitman           126\n",
      "Klickitat         118\n",
      "Stevens           103\n",
      "Okanogan           97\n",
      "Pacific            94\n",
      "Skamania           89\n",
      "Asotin             37\n",
      "Wahkiakum          26\n",
      "Adams              24\n",
      "Ferry              23\n",
      "Pend Oreille       22\n",
      "San Diego          16\n",
      "Lincoln            16\n",
      "Name: County, dtype: int64\n"
     ]
    }
   ],
   "source": [
    "import pandas as pd\n",
    "\n",
    "value_counts = df['County'].value_counts()\n",
    "\n",
    "rare_counties = value_counts[value_counts < 10].index\n",
    "\n",
    "df = df[~df['County'].isin(rare_counties)]\n",
    "\n",
    "df.reset_index(drop=True, inplace=True)\n",
    "\n",
    "print(f\"Updated dataset length: {len(df)}\")\n",
    "print(df['County'].value_counts())"
   ]
  },
  {
   "cell_type": "code",
   "execution_count": 59,
   "id": "98737ae6",
   "metadata": {},
   "outputs": [
    {
     "data": {
      "text/plain": [
       "(79207, 17)"
      ]
     },
     "execution_count": 59,
     "metadata": {},
     "output_type": "execute_result"
    }
   ],
   "source": [
    "df.shape"
   ]
  },
  {
   "cell_type": "code",
   "execution_count": 60,
   "id": "7d0952db",
   "metadata": {},
   "outputs": [
    {
     "data": {
      "text/plain": [
       "<AxesSubplot:>"
      ]
     },
     "execution_count": 60,
     "metadata": {},
     "output_type": "execute_result"
    },
    {
     "data": {
      "image/png": "[encoded data removed]",
      "text/plain": [
       "<Figure size 1440x576 with 1 Axes>"
      ]
     },
     "metadata": {
      "needs_background": "light"
     },
     "output_type": "display_data"
    }
   ],
   "source": [
    "plt.figure(figsize=(20,8))\n",
    "df['County'].value_counts().plot(kind='bar')"
   ]
  },
  {
   "cell_type": "code",
   "execution_count": 61,
   "id": "5544e9e2",
   "metadata": {},
   "outputs": [
    {
     "data": {
      "text/plain": [
       "Index(['VIN (1-10)', 'County', 'City', 'State', 'Make', 'Model',\n",
       "       'Electric Vehicle Type',\n",
       "       'Clean Alternative Fuel Vehicle (CAFV) Eligibility', 'Vehicle Location',\n",
       "       'Electric Utility'],\n",
       "      dtype='object')"
      ]
     },
     "execution_count": 61,
     "metadata": {},
     "output_type": "execute_result"
    }
   ],
   "source": [
    "categorical_df.columns"
   ]
  },
  {
   "cell_type": "code",
   "execution_count": 62,
   "id": "4354501a",
   "metadata": {},
   "outputs": [
    {
     "data": {
      "text/plain": [
       "<AxesSubplot:>"
      ]
     },
     "execution_count": 62,
     "metadata": {},
     "output_type": "execute_result"
    },
    {
     "data": {
      "image/png": "[encoded data removed]",
      "text/plain": [
       "<Figure size 1440x576 with 1 Axes>"
      ]
     },
     "metadata": {
      "needs_background": "light"
     },
     "output_type": "display_data"
    }
   ],
   "source": [
    "plt.figure(figsize=(20,8))\n",
    "df['Make'].value_counts().plot(kind='bar')"
   ]
  },
  {
   "cell_type": "code",
   "execution_count": 63,
   "id": "c6bf9e8d",
   "metadata": {},
   "outputs": [
    {
     "data": {
      "text/plain": [
       "TESLA        51907\n",
       "NISSAN       12864\n",
       "CHEVROLET     9788\n",
       "TOYOTA        2373\n",
       "KIA           2255\n",
       "VOLVO           20\n",
       "Name: Make, dtype: int64"
      ]
     },
     "execution_count": 63,
     "metadata": {},
     "output_type": "execute_result"
    }
   ],
   "source": [
    "df['Make'].value_counts()"
   ]
  },
  {
   "cell_type": "code",
   "execution_count": 64,
   "id": "3746f4b0",
   "metadata": {},
   "outputs": [
    {
     "data": {
      "text/plain": [
       "<AxesSubplot:>"
      ]
     },
     "execution_count": 64,
     "metadata": {},
     "output_type": "execute_result"
    },
    {
     "data": {
      "image/png": "[encoded data removed]",
      "text/plain": [
       "<Figure size 1440x576 with 1 Axes>"
      ]
     },
     "metadata": {
      "needs_background": "light"
     },
     "output_type": "display_data"
    }
   ],
   "source": [
    "plt.figure(figsize=(20,8))\n",
    "df['Electric Vehicle Type'].value_counts().plot(kind='bar')"
   ]
  },
  {
   "cell_type": "code",
   "execution_count": 65,
   "id": "249cca8b",
   "metadata": {},
   "outputs": [
    {
     "data": {
      "text/plain": [
       "<AxesSubplot:>"
      ]
     },
     "execution_count": 65,
     "metadata": {},
     "output_type": "execute_result"
    },
    {
     "data": {
      "image/png": "[encoded data removed]",
      "text/plain": [
       "<Figure size 1440x576 with 1 Axes>"
      ]
     },
     "metadata": {
      "needs_background": "light"
     },
     "output_type": "display_data"
    }
   ],
   "source": [
    "plt.figure(figsize=(20,8))\n",
    "df['Clean Alternative Fuel Vehicle (CAFV) Eligibility'].value_counts().plot(kind='bar')"
   ]
  },
  {
   "cell_type": "markdown",
   "id": "ee9a5d3c",
   "metadata": {},
   "source": [
    "### Bivariate Analysis"
   ]
  },
  {
   "cell_type": "markdown",
   "id": "5833b360",
   "metadata": {},
   "source": [
    "#### Numerical vs Numerical"
   ]
  },
  {
   "cell_type": "code",
   "execution_count": 66,
   "id": "2845819a",
   "metadata": {},
   "outputs": [
    {
     "data": {
      "text/plain": [
       "Index(['Postal Code', 'Model Year', 'Electric Range', 'Base MSRP',\n",
       "       'Legislative District', 'DOL Vehicle ID', '2020 Census Tract'],\n",
       "      dtype='object')"
      ]
     },
     "execution_count": 66,
     "metadata": {},
     "output_type": "execute_result"
    }
   ],
   "source": [
    "numerical_df.columns"
   ]
  },
  {
   "cell_type": "code",
   "execution_count": 67,
   "id": "675bdfe1",
   "metadata": {},
   "outputs": [
    {
     "data": {
      "text/plain": [
       "<AxesSubplot:xlabel='Model Year', ylabel='Electric Range'>"
      ]
     },
     "execution_count": 67,
     "metadata": {},
     "output_type": "execute_result"
    },
    {
     "data": {
      "image/png": "[encoded data removed]",
      "text/plain": [
       "<Figure size 432x288 with 1 Axes>"
      ]
     },
     "metadata": {
      "needs_background": "light"
     },
     "output_type": "display_data"
    }
   ],
   "source": [
    "df.plot(kind='scatter',x='Model Year',y='Electric Range')"
   ]
  },
  {
   "cell_type": "markdown",
   "id": "e7daa13e",
   "metadata": {},
   "source": [
    "#### Numerical vs Categorical  "
   ]
  },
  {
   "cell_type": "code",
   "execution_count": 68,
   "id": "831bff07",
   "metadata": {},
   "outputs": [
    {
     "data": {
      "text/plain": [
       "<AxesSubplot:title={'center':'Electric Range'}, xlabel='State'>"
      ]
     },
     "execution_count": 68,
     "metadata": {},
     "output_type": "execute_result"
    },
    {
     "data": {
      "image/png": "[encoded data removed]",
      "text/plain": [
       "<Figure size 1080x360 with 1 Axes>"
      ]
     },
     "metadata": {
      "needs_background": "light"
     },
     "output_type": "display_data"
    }
   ],
   "source": [
    "df.boxplot(by='State',column='Electric Range',figsize=(15,5))"
   ]
  },
  {
   "cell_type": "code",
   "execution_count": 69,
   "id": "95c2775d",
   "metadata": {},
   "outputs": [
    {
     "data": {
      "text/plain": [
       "<AxesSubplot:title={'center':'Electric Range'}, xlabel='Electric Vehicle Type'>"
      ]
     },
     "execution_count": 69,
     "metadata": {},
     "output_type": "execute_result"
    },
    {
     "data": {
      "image/png": "[encoded data removed]",
      "text/plain": [
       "<Figure size 1080x360 with 1 Axes>"
      ]
     },
     "metadata": {
      "needs_background": "light"
     },
     "output_type": "display_data"
    }
   ],
   "source": [
    "df.boxplot(by='Electric Vehicle Type',column='Electric Range',figsize=(15,5))"
   ]
  },
  {
   "cell_type": "code",
   "execution_count": 70,
   "id": "bbd227dd",
   "metadata": {},
   "outputs": [
    {
     "data": {
      "text/plain": [
       "<AxesSubplot:title={'center':'Electric Range'}, xlabel='Clean Alternative Fuel Vehicle (CAFV) Eligibility'>"
      ]
     },
     "execution_count": 70,
     "metadata": {},
     "output_type": "execute_result"
    },
    {
     "data": {
      "image/png": "[encoded data removed]",
      "text/plain": [
       "<Figure size 1080x360 with 1 Axes>"
      ]
     },
     "metadata": {
      "needs_background": "light"
     },
     "output_type": "display_data"
    }
   ],
   "source": [
    "df.boxplot(by='Clean Alternative Fuel Vehicle (CAFV) Eligibility',column = 'Electric Range',figsize=(15,5))"
   ]
  },
  {
   "cell_type": "code",
   "execution_count": 71,
   "id": "26a5554b",
   "metadata": {},
   "outputs": [
    {
     "name": "stdout",
     "output_type": "stream",
     "text": [
      "Requirement already satisfied: plotly in c:\\users\\hp\\anaconda3\\lib\\site-packages (5.6.0)\n",
      "Requirement already satisfied: tenacity>=6.2.0 in c:\\users\\hp\\anaconda3\\lib\\site-packages (from plotly) (8.5.0)\n",
      "Requirement already satisfied: six in c:\\users\\hp\\anaconda3\\lib\\site-packages (from plotly) (1.16.0)\n",
      "Note: you may need to restart the kernel to use updated packages.\n"
     ]
    },
    {
     "name": "stderr",
     "output_type": "stream",
     "text": [
      "WARNING: Ignoring invalid distribution -yping-extensions (c:\\users\\hp\\anaconda3\\lib\\site-packages)\n",
      "WARNING: Ignoring invalid distribution -yping-extensions (c:\\users\\hp\\anaconda3\\lib\\site-packages)\n",
      "\n",
      "[notice] A new release of pip is available: 24.1.1 -> 24.2\n",
      "[notice] To update, run: python.exe -m pip install --upgrade pip\n"
     ]
    }
   ],
   "source": [
    "pip install plotly"
   ]
  },
  {
   "cell_type": "code",
   "execution_count": 72,
   "id": "849aaabb",
   "metadata": {},
   "outputs": [],
   "source": [
    "import plotly.express as px"
   ]
  },
  {
   "cell_type": "code",
   "execution_count": 73,
   "id": "812da475",
   "metadata": {},
   "outputs": [],
   "source": [
    "ev_counts_by_location = df.groupby('County')['Model'].count().reset_index()"
   ]
  },
  {
   "cell_type": "code",
   "execution_count": 74,
   "id": "015b9cab",
   "metadata": {},
   "outputs": [],
   "source": [
    "ev_counts_by_location.columns = ['County', 'EV_Count']"
   ]
  },
  {
   "cell_type": "code",
   "execution_count": 76,
   "id": "85fbd9f4",
   "metadata": {},
   "outputs": [],
   "source": [
    "ev_counts_by_state = df.groupby('State')['Model'].count().reset_index()"
   ]
  },
  {
   "cell_type": "code",
   "execution_count": 77,
   "id": "3a6f9b6d",
   "metadata": {},
   "outputs": [],
   "source": [
    "ev_counts_by_state.columns = ['State', 'EV_Count']"
   ]
  },
  {
   "cell_type": "code",
   "execution_count": 78,
   "id": "2e582550",
   "metadata": {},
   "outputs": [],
   "source": [
    "fig = px.choropleth(\n",
    "    ev_counts_by_state, \n",
    "    locations='State',            \n",
    "    locationmode='USA-states',    \n",
    "    color='EV_Count',            \n",
    "    color_continuous_scale=\"Viridis\", \n",
    "    scope=\"usa\",                  \n",
    "    labels={'EV_Count': 'Number of EV Vehicles'},  \n",
    "    title=\"EV Vehicle Distribution by State\"\n",
    ")"
   ]
  },
  {
   "cell_type": "code",
   "execution_count": 79,
   "id": "33333e02",
   "metadata": {},
   "outputs": [
    {
     "data": {
      "application/vnd.plotly.v1+json": {
       "config": {
        "plotlyServerURL": "https://plot.ly"
       },
       "data": [
        {
         "coloraxis": "coloraxis",
         "geo": "geo",
         "hovertemplate": "State=%{location}<br>Number of EV Vehicles=%{z}<extra></extra>",
         "locationmode": "USA-states",
         "locations": [
          "CA",
          "CO",
          "NV",
          "WA"
         ],
         "name": "",
         "type": "choropleth",
         "z": [
          16,
          1,
          7,
          79183
         ]
        }
       ],
       "layout": {
        "coloraxis": {
         "colorbar": {
          "title": {
           "text": "Number of EV Vehicles"
          }
         },
         "colorscale": [
          [
           0,
           "#440154"
          ],
          [
           0.1111111111111111,
           "#482878"
          ],
          [
           0.2222222222222222,
           "#3e4989"
          ],
          [
           0.3333333333333333,
           "#31688e"
          ],
          [
           0.4444444444444444,
           "#26828e"
          ],
          [
           0.5555555555555556,
           "#1f9e89"
          ],
          [
           0.6666666666666666,
           "#35b779"
          ],
          [
           0.7777777777777778,
           "#6ece58"
          ],
          [
           0.8888888888888888,
           "#b5de2b"
          ],
          [
           1,
           "#fde725"
          ]
         ]
        },
        "geo": {
         "center": {},
         "domain": {
          "x": [
           0,
           1
          ],
          "y": [
           0,
           1
          ]
         },
         "scope": "usa"
        },
        "legend": {
         "tracegroupgap": 0
        },
        "template": {
         "data": {
          "bar": [
           {
            "error_x": {
             "color": "#2a3f5f"
            },
            "error_y": {
             "color": "#2a3f5f"
            },
            "marker": {
             "line": {
              "color": "#E5ECF6",
              "width": 0.5
             },
             "pattern": {
              "fillmode": "overlay",
              "size": 10,
              "solidity": 0.2
             }
            },
            "type": "bar"
           }
          ],
          "barpolar": [
           {
            "marker": {
             "line": {
              "color": "#E5ECF6",
              "width": 0.5
             },
             "pattern": {
              "fillmode": "overlay",
              "size": 10,
              "solidity": 0.2
             }
            },
            "type": "barpolar"
           }
          ],
          "carpet": [
           {
            "aaxis": {
             "endlinecolor": "#2a3f5f",
             "gridcolor": "white",
             "linecolor": "white",
             "minorgridcolor": "white",
             "startlinecolor": "#2a3f5f"
            },
            "baxis": {
             "endlinecolor": "#2a3f5f",
             "gridcolor": "white",
             "linecolor": "white",
             "minorgridcolor": "white",
             "startlinecolor": "#2a3f5f"
            },
            "type": "carpet"
           }
          ],
          "choropleth": [
           {
            "colorbar": {
             "outlinewidth": 0,
             "ticks": ""
            },
            "type": "choropleth"
           }
          ],
          "contour": [
           {
            "colorbar": {
             "outlinewidth": 0,
             "ticks": ""
            },
            "colorscale": [
             [
              0,
              "#0d0887"
             ],
             [
              0.1111111111111111,
              "#46039f"
             ],
             [
              0.2222222222222222,
              "#7201a8"
             ],
             [
              0.3333333333333333,
              "#9c179e"
             ],
             [
              0.4444444444444444,
              "#bd3786"
             ],
             [
              0.5555555555555556,
              "#d8576b"
             ],
             [
              0.6666666666666666,
              "#ed7953"
             ],
             [
              0.7777777777777778,
              "#fb9f3a"
             ],
             [
              0.8888888888888888,
              "#fdca26"
             ],
             [
              1,
              "#f0f921"
             ]
            ],
            "type": "contour"
           }
          ],
          "contourcarpet": [
           {
            "colorbar": {
             "outlinewidth": 0,
             "ticks": ""
            },
            "type": "contourcarpet"
           }
          ],
          "heatmap": [
           {
            "colorbar": {
             "outlinewidth": 0,
             "ticks": ""
            },
            "colorscale": [
             [
              0,
              "#0d0887"
             ],
             [
              0.1111111111111111,
              "#46039f"
             ],
             [
              0.2222222222222222,
              "#7201a8"
             ],
             [
              0.3333333333333333,
              "#9c179e"
             ],
             [
              0.4444444444444444,
              "#bd3786"
             ],
             [
              0.5555555555555556,
              "#d8576b"
             ],
             [
              0.6666666666666666,
              "#ed7953"
             ],
             [
              0.7777777777777778,
              "#fb9f3a"
             ],
             [
              0.8888888888888888,
              "#fdca26"
             ],
             [
              1,
              "#f0f921"
             ]
            ],
            "type": "heatmap"
           }
          ],
          "heatmapgl": [
           {
            "colorbar": {
             "outlinewidth": 0,
             "ticks": ""
            },
            "colorscale": [
             [
              0,
              "#0d0887"
             ],
             [
              0.1111111111111111,
              "#46039f"
             ],
             [
              0.2222222222222222,
              "#7201a8"
             ],
             [
              0.3333333333333333,
              "#9c179e"
             ],
             [
              0.4444444444444444,
              "#bd3786"
             ],
             [
              0.5555555555555556,
              "#d8576b"
             ],
             [
              0.6666666666666666,
              "#ed7953"
             ],
             [
              0.7777777777777778,
              "#fb9f3a"
             ],
             [
              0.8888888888888888,
              "#fdca26"
             ],
             [
              1,
              "#f0f921"
             ]
            ],
            "type": "heatmapgl"
           }
          ],
          "histogram": [
           {
            "marker": {
             "pattern": {
              "fillmode": "overlay",
              "size": 10,
              "solidity": 0.2
             }
            },
            "type": "histogram"
           }
          ],
          "histogram2d": [
           {
            "colorbar": {
             "outlinewidth": 0,
             "ticks": ""
            },
            "colorscale": [
             [
              0,
              "#0d0887"
             ],
             [
              0.1111111111111111,
              "#46039f"
             ],
             [
              0.2222222222222222,
              "#7201a8"
             ],
             [
              0.3333333333333333,
              "#9c179e"
             ],
             [
              0.4444444444444444,
              "#bd3786"
             ],
             [
              0.5555555555555556,
              "#d8576b"
             ],
             [
              0.6666666666666666,
              "#ed7953"
             ],
             [
              0.7777777777777778,
              "#fb9f3a"
             ],
             [
              0.8888888888888888,
              "#fdca26"
             ],
             [
              1,
              "#f0f921"
             ]
            ],
            "type": "histogram2d"
           }
          ],
          "histogram2dcontour": [
           {
            "colorbar": {
             "outlinewidth": 0,
             "ticks": ""
            },
            "colorscale": [
             [
              0,
              "#0d0887"
             ],
             [
              0.1111111111111111,
              "#46039f"
             ],
             [
              0.2222222222222222,
              "#7201a8"
             ],
             [
              0.3333333333333333,
              "#9c179e"
             ],
             [
              0.4444444444444444,
              "#bd3786"
             ],
             [
              0.5555555555555556,
              "#d8576b"
             ],
             [
              0.6666666666666666,
              "#ed7953"
             ],
             [
              0.7777777777777778,
              "#fb9f3a"
             ],
             [
              0.8888888888888888,
              "#fdca26"
             ],
             [
              1,
              "#f0f921"
             ]
            ],
            "type": "histogram2dcontour"
           }
          ],
          "mesh3d": [
           {
            "colorbar": {
             "outlinewidth": 0,
             "ticks": ""
            },
            "type": "mesh3d"
           }
          ],
          "parcoords": [
           {
            "line": {
             "colorbar": {
              "outlinewidth": 0,
              "ticks": ""
             }
            },
            "type": "parcoords"
           }
          ],
          "pie": [
           {
            "automargin": true,
            "type": "pie"
           }
          ],
          "scatter": [
           {
            "marker": {
             "colorbar": {
              "outlinewidth": 0,
              "ticks": ""
             }
            },
            "type": "scatter"
           }
          ],
          "scatter3d": [
           {
            "line": {
             "colorbar": {
              "outlinewidth": 0,
              "ticks": ""
             }
            },
            "marker": {
             "colorbar": {
              "outlinewidth": 0,
              "ticks": ""
             }
            },
            "type": "scatter3d"
           }
          ],
          "scattercarpet": [
           {
            "marker": {
             "colorbar": {
              "outlinewidth": 0,
              "ticks": ""
             }
            },
            "type": "scattercarpet"
           }
          ],
          "scattergeo": [
           {
            "marker": {
             "colorbar": {
              "outlinewidth": 0,
              "ticks": ""
             }
            },
            "type": "scattergeo"
           }
          ],
          "scattergl": [
           {
            "marker": {
             "colorbar": {
              "outlinewidth": 0,
              "ticks": ""
             }
            },
            "type": "scattergl"
           }
          ],
          "scattermapbox": [
           {
            "marker": {
             "colorbar": {
              "outlinewidth": 0,
              "ticks": ""
             }
            },
            "type": "scattermapbox"
           }
          ],
          "scatterpolar": [
           {
            "marker": {
             "colorbar": {
              "outlinewidth": 0,
              "ticks": ""
             }
            },
            "type": "scatterpolar"
           }
          ],
          "scatterpolargl": [
           {
            "marker": {
             "colorbar": {
              "outlinewidth": 0,
              "ticks": ""
             }
            },
            "type": "scatterpolargl"
           }
          ],
          "scatterternary": [
           {
            "marker": {
             "colorbar": {
              "outlinewidth": 0,
              "ticks": ""
             }
            },
            "type": "scatterternary"
           }
          ],
          "surface": [
           {
            "colorbar": {
             "outlinewidth": 0,
             "ticks": ""
            },
            "colorscale": [
             [
              0,
              "#0d0887"
             ],
             [
              0.1111111111111111,
              "#46039f"
             ],
             [
              0.2222222222222222,
              "#7201a8"
             ],
             [
              0.3333333333333333,
              "#9c179e"
             ],
             [
              0.4444444444444444,
              "#bd3786"
             ],
             [
              0.5555555555555556,
              "#d8576b"
             ],
             [
              0.6666666666666666,
              "#ed7953"
             ],
             [
              0.7777777777777778,
              "#fb9f3a"
             ],
             [
              0.8888888888888888,
              "#fdca26"
             ],
             [
              1,
              "#f0f921"
             ]
            ],
            "type": "surface"
           }
          ],
          "table": [
           {
            "cells": {
             "fill": {
              "color": "#EBF0F8"
             },
             "line": {
              "color": "white"
             }
            },
            "header": {
             "fill": {
              "color": "#C8D4E3"
             },
             "line": {
              "color": "white"
             }
            },
            "type": "table"
           }
          ]
         },
         "layout": {
          "annotationdefaults": {
           "arrowcolor": "#2a3f5f",
           "arrowhead": 0,
           "arrowwidth": 1
          },
          "autotypenumbers": "strict",
          "coloraxis": {
           "colorbar": {
            "outlinewidth": 0,
            "ticks": ""
           }
          },
          "colorscale": {
           "diverging": [
            [
             0,
             "#8e0152"
            ],
            [
             0.1,
             "#c51b7d"
            ],
            [
             0.2,
             "#de77ae"
            ],
            [
             0.3,
             "#f1b6da"
            ],
            [
             0.4,
             "#fde0ef"
            ],
            [
             0.5,
             "#f7f7f7"
            ],
            [
             0.6,
             "#e6f5d0"
            ],
            [
             0.7,
             "#b8e186"
            ],
            [
             0.8,
             "#7fbc41"
            ],
            [
             0.9,
             "#4d9221"
            ],
            [
             1,
             "#276419"
            ]
           ],
           "sequential": [
            [
             0,
             "#0d0887"
            ],
            [
             0.1111111111111111,
             "#46039f"
            ],
            [
             0.2222222222222222,
             "#7201a8"
            ],
            [
             0.3333333333333333,
             "#9c179e"
            ],
            [
             0.4444444444444444,
             "#bd3786"
            ],
            [
             0.5555555555555556,
             "#d8576b"
            ],
            [
             0.6666666666666666,
             "#ed7953"
            ],
            [
             0.7777777777777778,
             "#fb9f3a"
            ],
            [
             0.8888888888888888,
             "#fdca26"
            ],
            [
             1,
             "#f0f921"
            ]
           ],
           "sequentialminus": [
            [
             0,
             "#0d0887"
            ],
            [
             0.1111111111111111,
             "#46039f"
            ],
            [
             0.2222222222222222,
             "#7201a8"
            ],
            [
             0.3333333333333333,
             "#9c179e"
            ],
            [
             0.4444444444444444,
             "#bd3786"
            ],
            [
             0.5555555555555556,
             "#d8576b"
            ],
            [
             0.6666666666666666,
             "#ed7953"
            ],
            [
             0.7777777777777778,
             "#fb9f3a"
            ],
            [
             0.8888888888888888,
             "#fdca26"
            ],
            [
             1,
             "#f0f921"
            ]
           ]
          },
          "colorway": [
           "#636efa",
           "#EF553B",
           "#00cc96",
           "#ab63fa",
           "#FFA15A",
           "#19d3f3",
           "#FF6692",
           "#B6E880",
           "#FF97FF",
           "#FECB52"
          ],
          "font": {
           "color": "#2a3f5f"
          },
          "geo": {
           "bgcolor": "white",
           "lakecolor": "white",
           "landcolor": "#E5ECF6",
           "showlakes": true,
           "showland": true,
           "subunitcolor": "white"
          },
          "hoverlabel": {
           "align": "left"
          },
          "hovermode": "closest",
          "mapbox": {
           "style": "light"
          },
          "paper_bgcolor": "white",
          "plot_bgcolor": "#E5ECF6",
          "polar": {
           "angularaxis": {
            "gridcolor": "white",
            "linecolor": "white",
            "ticks": ""
           },
           "bgcolor": "#E5ECF6",
           "radialaxis": {
            "gridcolor": "white",
            "linecolor": "white",
            "ticks": ""
           }
          },
          "scene": {
           "xaxis": {
            "backgroundcolor": "#E5ECF6",
            "gridcolor": "white",
            "gridwidth": 2,
            "linecolor": "white",
            "showbackground": true,
            "ticks": "",
            "zerolinecolor": "white"
           },
           "yaxis": {
            "backgroundcolor": "#E5ECF6",
            "gridcolor": "white",
            "gridwidth": 2,
            "linecolor": "white",
            "showbackground": true,
            "ticks": "",
            "zerolinecolor": "white"
           },
           "zaxis": {
            "backgroundcolor": "#E5ECF6",
            "gridcolor": "white",
            "gridwidth": 2,
            "linecolor": "white",
            "showbackground": true,
            "ticks": "",
            "zerolinecolor": "white"
           }
          },
          "shapedefaults": {
           "line": {
            "color": "#2a3f5f"
           }
          },
          "ternary": {
           "aaxis": {
            "gridcolor": "white",
            "linecolor": "white",
            "ticks": ""
           },
           "baxis": {
            "gridcolor": "white",
            "linecolor": "white",
            "ticks": ""
           },
           "bgcolor": "#E5ECF6",
           "caxis": {
            "gridcolor": "white",
            "linecolor": "white",
            "ticks": ""
           }
          },
          "title": {
           "x": 0.05
          },
          "xaxis": {
           "automargin": true,
           "gridcolor": "white",
           "linecolor": "white",
           "ticks": "",
           "title": {
            "standoff": 15
           },
           "zerolinecolor": "white",
           "zerolinewidth": 2
          },
          "yaxis": {
           "automargin": true,
           "gridcolor": "white",
           "linecolor": "white",
           "ticks": "",
           "title": {
            "standoff": 15
           },
           "zerolinecolor": "white",
           "zerolinewidth": 2
          }
         }
        },
        "title": {
         "text": "EV Vehicle Distribution by State"
        }
       }
      },
      "text/html": [
       "<div>                            <div id=\"31aac0d0-ac45-4bd1-95a6-a1d5c23e7524\" class=\"plotly-graph-div\" style=\"height:525px; width:100%;\"></div>            <script type=\"text/javascript\">                require([\"plotly\"], function(Plotly) {                    window.PLOTLYENV=window.PLOTLYENV || {};                                    if (document.getElementById(\"31aac0d0-ac45-4bd1-95a6-a1d5c23e7524\")) {                    Plotly.newPlot(                        \"31aac0d0-ac45-4bd1-95a6-a1d5c23e7524\",                        [{\"coloraxis\":\"coloraxis\",\"geo\":\"geo\",\"hovertemplate\":\"State=%{location}<br>Number of EV Vehicles=%{z}<extra></extra>\",\"locationmode\":\"USA-states\",\"locations\":[\"CA\",\"CO\",\"NV\",\"WA\"],\"name\":\"\",\"z\":[16,1,7,79183],\"type\":\"choropleth\"}],                        {\"template\":{\"data\":{\"bar\":[{\"error_x\":{\"color\":\"#2a3f5f\"},\"error_y\":{\"color\":\"#2a3f5f\"},\"marker\":{\"line\":{\"color\":\"#E5ECF6\",\"width\":0.5},\"pattern\":{\"fillmode\":\"overlay\",\"size\":10,\"solidity\":0.2}},\"type\":\"bar\"}],\"barpolar\":[{\"marker\":{\"line\":{\"color\":\"#E5ECF6\",\"width\":0.5},\"pattern\":{\"fillmode\":\"overlay\",\"size\":10,\"solidity\":0.2}},\"type\":\"barpolar\"}],\"carpet\":[{\"aaxis\":{\"endlinecolor\":\"#2a3f5f\",\"gridcolor\":\"white\",\"linecolor\":\"white\",\"minorgridcolor\":\"white\",\"startlinecolor\":\"#2a3f5f\"},\"baxis\":{\"endlinecolor\":\"#2a3f5f\",\"gridcolor\":\"white\",\"linecolor\":\"white\",\"minorgridcolor\":\"white\",\"startlinecolor\":\"#2a3f5f\"},\"type\":\"carpet\"}],\"choropleth\":[{\"colorbar\":{\"outlinewidth\":0,\"ticks\":\"\"},\"type\":\"choropleth\"}],\"contour\":[{\"colorbar\":{\"outlinewidth\":0,\"ticks\":\"\"},\"colorscale\":[[0.0,\"#0d0887\"],[0.1111111111111111,\"#46039f\"],[0.2222222222222222,\"#7201a8\"],[0.3333333333333333,\"#9c179e\"],[0.4444444444444444,\"#bd3786\"],[0.5555555555555556,\"#d8576b\"],[0.6666666666666666,\"#ed7953\"],[0.7777777777777778,\"#fb9f3a\"],[0.8888888888888888,\"#fdca26\"],[1.0,\"#f0f921\"]],\"type\":\"contour\"}],\"contourcarpet\":[{\"colorbar\":{\"outlinewidth\":0,\"ticks\":\"\"},\"type\":\"contourcarpet\"}],\"heatmap\":[{\"colorbar\":{\"outlinewidth\":0,\"ticks\":\"\"},\"colorscale\":[[0.0,\"#0d0887\"],[0.1111111111111111,\"#46039f\"],[0.2222222222222222,\"#7201a8\"],[0.3333333333333333,\"#9c179e\"],[0.4444444444444444,\"#bd3786\"],[0.5555555555555556,\"#d8576b\"],[0.6666666666666666,\"#ed7953\"],[0.7777777777777778,\"#fb9f3a\"],[0.8888888888888888,\"#fdca26\"],[1.0,\"#f0f921\"]],\"type\":\"heatmap\"}],\"heatmapgl\":[{\"colorbar\":{\"outlinewidth\":0,\"ticks\":\"\"},\"colorscale\":[[0.0,\"#0d0887\"],[0.1111111111111111,\"#46039f\"],[0.2222222222222222,\"#7201a8\"],[0.3333333333333333,\"#9c179e\"],[0.4444444444444444,\"#bd3786\"],[0.5555555555555556,\"#d8576b\"],[0.6666666666666666,\"#ed7953\"],[0.7777777777777778,\"#fb9f3a\"],[0.8888888888888888,\"#fdca26\"],[1.0,\"#f0f921\"]],\"type\":\"heatmapgl\"}],\"histogram\":[{\"marker\":{\"pattern\":{\"fillmode\":\"overlay\",\"size\":10,\"solidity\":0.2}},\"type\":\"histogram\"}],\"histogram2d\":[{\"colorbar\":{\"outlinewidth\":0,\"ticks\":\"\"},\"colorscale\":[[0.0,\"#0d0887\"],[0.1111111111111111,\"#46039f\"],[0.2222222222222222,\"#7201a8\"],[0.3333333333333333,\"#9c179e\"],[0.4444444444444444,\"#bd3786\"],[0.5555555555555556,\"#d8576b\"],[0.6666666666666666,\"#ed7953\"],[0.7777777777777778,\"#fb9f3a\"],[0.8888888888888888,\"#fdca26\"],[1.0,\"#f0f921\"]],\"type\":\"histogram2d\"}],\"histogram2dcontour\":[{\"colorbar\":{\"outlinewidth\":0,\"ticks\":\"\"},\"colorscale\":[[0.0,\"#0d0887\"],[0.1111111111111111,\"#46039f\"],[0.2222222222222222,\"#7201a8\"],[0.3333333333333333,\"#9c179e\"],[0.4444444444444444,\"#bd3786\"],[0.5555555555555556,\"#d8576b\"],[0.6666666666666666,\"#ed7953\"],[0.7777777777777778,\"#fb9f3a\"],[0.8888888888888888,\"#fdca26\"],[1.0,\"#f0f921\"]],\"type\":\"histogram2dcontour\"}],\"mesh3d\":[{\"colorbar\":{\"outlinewidth\":0,\"ticks\":\"\"},\"type\":\"mesh3d\"}],\"parcoords\":[{\"line\":{\"colorbar\":{\"outlinewidth\":0,\"ticks\":\"\"}},\"type\":\"parcoords\"}],\"pie\":[{\"automargin\":true,\"type\":\"pie\"}],\"scatter\":[{\"marker\":{\"colorbar\":{\"outlinewidth\":0,\"ticks\":\"\"}},\"type\":\"scatter\"}],\"scatter3d\":[{\"line\":{\"colorbar\":{\"outlinewidth\":0,\"ticks\":\"\"}},\"marker\":{\"colorbar\":{\"outlinewidth\":0,\"ticks\":\"\"}},\"type\":\"scatter3d\"}],\"scattercarpet\":[{\"marker\":{\"colorbar\":{\"outlinewidth\":0,\"ticks\":\"\"}},\"type\":\"scattercarpet\"}],\"scattergeo\":[{\"marker\":{\"colorbar\":{\"outlinewidth\":0,\"ticks\":\"\"}},\"type\":\"scattergeo\"}],\"scattergl\":[{\"marker\":{\"colorbar\":{\"outlinewidth\":0,\"ticks\":\"\"}},\"type\":\"scattergl\"}],\"scattermapbox\":[{\"marker\":{\"colorbar\":{\"outlinewidth\":0,\"ticks\":\"\"}},\"type\":\"scattermapbox\"}],\"scatterpolar\":[{\"marker\":{\"colorbar\":{\"outlinewidth\":0,\"ticks\":\"\"}},\"type\":\"scatterpolar\"}],\"scatterpolargl\":[{\"marker\":{\"colorbar\":{\"outlinewidth\":0,\"ticks\":\"\"}},\"type\":\"scatterpolargl\"}],\"scatterternary\":[{\"marker\":{\"colorbar\":{\"outlinewidth\":0,\"ticks\":\"\"}},\"type\":\"scatterternary\"}],\"surface\":[{\"colorbar\":{\"outlinewidth\":0,\"ticks\":\"\"},\"colorscale\":[[0.0,\"#0d0887\"],[0.1111111111111111,\"#46039f\"],[0.2222222222222222,\"#7201a8\"],[0.3333333333333333,\"#9c179e\"],[0.4444444444444444,\"#bd3786\"],[0.5555555555555556,\"#d8576b\"],[0.6666666666666666,\"#ed7953\"],[0.7777777777777778,\"#fb9f3a\"],[0.8888888888888888,\"#fdca26\"],[1.0,\"#f0f921\"]],\"type\":\"surface\"}],\"table\":[{\"cells\":{\"fill\":{\"color\":\"#EBF0F8\"},\"line\":{\"color\":\"white\"}},\"header\":{\"fill\":{\"color\":\"#C8D4E3\"},\"line\":{\"color\":\"white\"}},\"type\":\"table\"}]},\"layout\":{\"annotationdefaults\":{\"arrowcolor\":\"#2a3f5f\",\"arrowhead\":0,\"arrowwidth\":1},\"autotypenumbers\":\"strict\",\"coloraxis\":{\"colorbar\":{\"outlinewidth\":0,\"ticks\":\"\"}},\"colorscale\":{\"diverging\":[[0,\"#8e0152\"],[0.1,\"#c51b7d\"],[0.2,\"#de77ae\"],[0.3,\"#f1b6da\"],[0.4,\"#fde0ef\"],[0.5,\"#f7f7f7\"],[0.6,\"#e6f5d0\"],[0.7,\"#b8e186\"],[0.8,\"#7fbc41\"],[0.9,\"#4d9221\"],[1,\"#276419\"]],\"sequential\":[[0.0,\"#0d0887\"],[0.1111111111111111,\"#46039f\"],[0.2222222222222222,\"#7201a8\"],[0.3333333333333333,\"#9c179e\"],[0.4444444444444444,\"#bd3786\"],[0.5555555555555556,\"#d8576b\"],[0.6666666666666666,\"#ed7953\"],[0.7777777777777778,\"#fb9f3a\"],[0.8888888888888888,\"#fdca26\"],[1.0,\"#f0f921\"]],\"sequentialminus\":[[0.0,\"#0d0887\"],[0.1111111111111111,\"#46039f\"],[0.2222222222222222,\"#7201a8\"],[0.3333333333333333,\"#9c179e\"],[0.4444444444444444,\"#bd3786\"],[0.5555555555555556,\"#d8576b\"],[0.6666666666666666,\"#ed7953\"],[0.7777777777777778,\"#fb9f3a\"],[0.8888888888888888,\"#fdca26\"],[1.0,\"#f0f921\"]]},\"colorway\":[\"#636efa\",\"#EF553B\",\"#00cc96\",\"#ab63fa\",\"#FFA15A\",\"#19d3f3\",\"#FF6692\",\"#B6E880\",\"#FF97FF\",\"#FECB52\"],\"font\":{\"color\":\"#2a3f5f\"},\"geo\":{\"bgcolor\":\"white\",\"lakecolor\":\"white\",\"landcolor\":\"#E5ECF6\",\"showlakes\":true,\"showland\":true,\"subunitcolor\":\"white\"},\"hoverlabel\":{\"align\":\"left\"},\"hovermode\":\"closest\",\"mapbox\":{\"style\":\"light\"},\"paper_bgcolor\":\"white\",\"plot_bgcolor\":\"#E5ECF6\",\"polar\":{\"angularaxis\":{\"gridcolor\":\"white\",\"linecolor\":\"white\",\"ticks\":\"\"},\"bgcolor\":\"#E5ECF6\",\"radialaxis\":{\"gridcolor\":\"white\",\"linecolor\":\"white\",\"ticks\":\"\"}},\"scene\":{\"xaxis\":{\"backgroundcolor\":\"#E5ECF6\",\"gridcolor\":\"white\",\"gridwidth\":2,\"linecolor\":\"white\",\"showbackground\":true,\"ticks\":\"\",\"zerolinecolor\":\"white\"},\"yaxis\":{\"backgroundcolor\":\"#E5ECF6\",\"gridcolor\":\"white\",\"gridwidth\":2,\"linecolor\":\"white\",\"showbackground\":true,\"ticks\":\"\",\"zerolinecolor\":\"white\"},\"zaxis\":{\"backgroundcolor\":\"#E5ECF6\",\"gridcolor\":\"white\",\"gridwidth\":2,\"linecolor\":\"white\",\"showbackground\":true,\"ticks\":\"\",\"zerolinecolor\":\"white\"}},\"shapedefaults\":{\"line\":{\"color\":\"#2a3f5f\"}},\"ternary\":{\"aaxis\":{\"gridcolor\":\"white\",\"linecolor\":\"white\",\"ticks\":\"\"},\"baxis\":{\"gridcolor\":\"white\",\"linecolor\":\"white\",\"ticks\":\"\"},\"bgcolor\":\"#E5ECF6\",\"caxis\":{\"gridcolor\":\"white\",\"linecolor\":\"white\",\"ticks\":\"\"}},\"title\":{\"x\":0.05},\"xaxis\":{\"automargin\":true,\"gridcolor\":\"white\",\"linecolor\":\"white\",\"ticks\":\"\",\"title\":{\"standoff\":15},\"zerolinecolor\":\"white\",\"zerolinewidth\":2},\"yaxis\":{\"automargin\":true,\"gridcolor\":\"white\",\"linecolor\":\"white\",\"ticks\":\"\",\"title\":{\"standoff\":15},\"zerolinecolor\":\"white\",\"zerolinewidth\":2}}},\"geo\":{\"domain\":{\"x\":[0.0,1.0],\"y\":[0.0,1.0]},\"center\":{},\"scope\":\"usa\"},\"coloraxis\":{\"colorbar\":{\"title\":{\"text\":\"Number of EV Vehicles\"}},\"colorscale\":[[0.0,\"#440154\"],[0.1111111111111111,\"#482878\"],[0.2222222222222222,\"#3e4989\"],[0.3333333333333333,\"#31688e\"],[0.4444444444444444,\"#26828e\"],[0.5555555555555556,\"#1f9e89\"],[0.6666666666666666,\"#35b779\"],[0.7777777777777778,\"#6ece58\"],[0.8888888888888888,\"#b5de2b\"],[1.0,\"#fde725\"]]},\"legend\":{\"tracegroupgap\":0},\"title\":{\"text\":\"EV Vehicle Distribution by State\"}},                        {\"responsive\": true}                    ).then(function(){\n",
       "                            \n",
       "var gd = document.getElementById('31aac0d0-ac45-4bd1-95a6-a1d5c23e7524');\n",
       "var x = new MutationObserver(function (mutations, observer) {{\n",
       "        var display = window.getComputedStyle(gd).display;\n",
       "        if (!display || display === 'none') {{\n",
       "            console.log([gd, 'removed!']);\n",
       "            Plotly.purge(gd);\n",
       "            observer.disconnect();\n",
       "        }}\n",
       "}});\n",
       "\n",
       "// Listen for the removal of the full notebook cells\n",
       "var notebookContainer = gd.closest('#notebook-container');\n",
       "if (notebookContainer) {{\n",
       "    x.observe(notebookContainer, {childList: true});\n",
       "}}\n",
       "\n",
       "// Listen for the clearing of the current output cell\n",
       "var outputEl = gd.closest('.output');\n",
       "if (outputEl) {{\n",
       "    x.observe(outputEl, {childList: true});\n",
       "}}\n",
       "\n",
       "                        })                };                });            </script>        </div>"
      ]
     },
     "metadata": {},
     "output_type": "display_data"
    }
   ],
   "source": [
    "fig.show()"
   ]
  },
  {
   "cell_type": "code",
   "execution_count": 80,
   "id": "3d46664d",
   "metadata": {},
   "outputs": [
    {
     "name": "stdout",
     "output_type": "stream",
     "text": [
      "Requirement already satisfied: bar-chart-race in c:\\users\\hp\\anaconda3\\lib\\site-packages (0.1.0)\n",
      "Requirement already satisfied: pandas>=0.24 in c:\\users\\hp\\anaconda3\\lib\\site-packages (from bar-chart-race) (1.4.2)\n",
      "Requirement already satisfied: matplotlib>=3.1 in c:\\users\\hp\\anaconda3\\lib\\site-packages (from bar-chart-race) (3.5.1)\n",
      "Requirement already satisfied: cycler>=0.10 in c:\\users\\hp\\anaconda3\\lib\\site-packages (from matplotlib>=3.1->bar-chart-race) (0.11.0)\n",
      "Requirement already satisfied: fonttools>=4.22.0 in c:\\users\\hp\\anaconda3\\lib\\site-packages (from matplotlib>=3.1->bar-chart-race) (4.25.0)\n",
      "Requirement already satisfied: kiwisolver>=1.0.1 in c:\\users\\hp\\anaconda3\\lib\\site-packages (from matplotlib>=3.1->bar-chart-race) (1.3.2)\n",
      "Requirement already satisfied: numpy>=1.17 in c:\\users\\hp\\anaconda3\\lib\\site-packages (from matplotlib>=3.1->bar-chart-race) (1.21.5)\n",
      "Requirement already satisfied: packaging>=20.0 in c:\\users\\hp\\anaconda3\\lib\\site-packages (from matplotlib>=3.1->bar-chart-race) (21.3)\n",
      "Requirement already satisfied: pillow>=6.2.0 in c:\\users\\hp\\anaconda3\\lib\\site-packages (from matplotlib>=3.1->bar-chart-race) (9.0.1)\n",
      "Requirement already satisfied: pyparsing>=2.2.1 in c:\\users\\hp\\anaconda3\\lib\\site-packages (from matplotlib>=3.1->bar-chart-race) (3.0.4)\n",
      "Requirement already satisfied: python-dateutil>=2.7 in c:\\users\\hp\\anaconda3\\lib\\site-packages (from matplotlib>=3.1->bar-chart-race) (2.8.2)\n",
      "Requirement already satisfied: pytz>=2020.1 in c:\\users\\hp\\anaconda3\\lib\\site-packages (from pandas>=0.24->bar-chart-race) (2021.3)\n",
      "Requirement already satisfied: six>=1.5 in c:\\users\\hp\\anaconda3\\lib\\site-packages (from python-dateutil>=2.7->matplotlib>=3.1->bar-chart-race) (1.16.0)\n",
      "Note: you may need to restart the kernel to use updated packages.\n"
     ]
    },
    {
     "name": "stderr",
     "output_type": "stream",
     "text": [
      "WARNING: Ignoring invalid distribution -yping-extensions (c:\\users\\hp\\anaconda3\\lib\\site-packages)\n",
      "WARNING: Ignoring invalid distribution -yping-extensions (c:\\users\\hp\\anaconda3\\lib\\site-packages)\n",
      "\n",
      "[notice] A new release of pip is available: 24.1.1 -> 24.2\n",
      "[notice] To update, run: python.exe -m pip install --upgrade pip\n"
     ]
    }
   ],
   "source": [
    "pip install bar-chart-race"
   ]
  },
  {
   "cell_type": "code",
   "execution_count": 81,
   "id": "b66b2767",
   "metadata": {},
   "outputs": [],
   "source": [
    "import bar_chart_race as bcr "
   ]
  },
  {
   "cell_type": "code",
   "execution_count": 93,
   "id": "4cdfce37",
   "metadata": {},
   "outputs": [
    {
     "data": {
      "application/vnd.plotly.v1+json": {
       "config": {
        "plotlyServerURL": "https://plot.ly"
       },
       "data": [
        {
         "alignmentgroup": "True",
         "hovertemplate": "EV Make=%{x}<br>Model Year=2011<br>Number of EV Vehicles=%{y}<extra></extra>",
         "ids": [
          "CHEVROLET"
         ],
         "legendgroup": "CHEVROLET",
         "marker": {
          "color": "#636efa",
          "pattern": {
           "shape": ""
          }
         },
         "name": "CHEVROLET",
         "offsetgroup": "CHEVROLET",
         "orientation": "v",
         "showlegend": true,
         "textposition": "auto",
         "type": "bar",
         "x": [
          "CHEVROLET"
         ],
         "xaxis": "x",
         "y": [
          71
         ],
         "yaxis": "y"
        },
        {
         "alignmentgroup": "True",
         "hovertemplate": "EV Make=%{x}<br>Model Year=2011<br>Number of EV Vehicles=%{y}<extra></extra>",
         "ids": [
          "NISSAN"
         ],
         "legendgroup": "NISSAN",
         "marker": {
          "color": "#EF553B",
          "pattern": {
           "shape": ""
          }
         },
         "name": "NISSAN",
         "offsetgroup": "NISSAN",
         "orientation": "v",
         "showlegend": true,
         "textposition": "auto",
         "type": "bar",
         "x": [
          "NISSAN"
         ],
         "xaxis": "x",
         "y": [
          754
         ],
         "yaxis": "y"
        }
       ],
       "frames": [
        {
         "data": [
          {
           "alignmentgroup": "True",
           "hovertemplate": "EV Make=%{x}<br>Model Year=2011<br>Number of EV Vehicles=%{y}<extra></extra>",
           "ids": [
            "CHEVROLET"
           ],
           "legendgroup": "CHEVROLET",
           "marker": {
            "color": "#636efa",
            "pattern": {
             "shape": ""
            }
           },
           "name": "CHEVROLET",
           "offsetgroup": "CHEVROLET",
           "orientation": "v",
           "showlegend": true,
           "textposition": "auto",
           "type": "bar",
           "x": [
            "CHEVROLET"
           ],
           "xaxis": "x",
           "y": [
            71
           ],
           "yaxis": "y"
          },
          {
           "alignmentgroup": "True",
           "hovertemplate": "EV Make=%{x}<br>Model Year=2011<br>Number of EV Vehicles=%{y}<extra></extra>",
           "ids": [
            "NISSAN"
           ],
           "legendgroup": "NISSAN",
           "marker": {
            "color": "#EF553B",
            "pattern": {
             "shape": ""
            }
           },
           "name": "NISSAN",
           "offsetgroup": "NISSAN",
           "orientation": "v",
           "showlegend": true,
           "textposition": "auto",
           "type": "bar",
           "x": [
            "NISSAN"
           ],
           "xaxis": "x",
           "y": [
            754
           ],
           "yaxis": "y"
          }
         ],
         "name": "2011"
        },
        {
         "data": [
          {
           "alignmentgroup": "True",
           "hovertemplate": "EV Make=%{x}<br>Model Year=2012<br>Number of EV Vehicles=%{y}<extra></extra>",
           "ids": [
            "CHEVROLET"
           ],
           "legendgroup": "CHEVROLET",
           "marker": {
            "color": "#636efa",
            "pattern": {
             "shape": ""
            }
           },
           "name": "CHEVROLET",
           "offsetgroup": "CHEVROLET",
           "orientation": "v",
           "showlegend": true,
           "textposition": "auto",
           "type": "bar",
           "x": [
            "CHEVROLET"
           ],
           "xaxis": "x",
           "y": [
            496
           ],
           "yaxis": "y"
          },
          {
           "alignmentgroup": "True",
           "hovertemplate": "EV Make=%{x}<br>Model Year=2012<br>Number of EV Vehicles=%{y}<extra></extra>",
           "ids": [
            "NISSAN"
           ],
           "legendgroup": "NISSAN",
           "marker": {
            "color": "#EF553B",
            "pattern": {
             "shape": ""
            }
           },
           "name": "NISSAN",
           "offsetgroup": "NISSAN",
           "orientation": "v",
           "showlegend": true,
           "textposition": "auto",
           "type": "bar",
           "x": [
            "NISSAN"
           ],
           "xaxis": "x",
           "y": [
            610
           ],
           "yaxis": "y"
          },
          {
           "alignmentgroup": "True",
           "hovertemplate": "EV Make=%{x}<br>Model Year=2012<br>Number of EV Vehicles=%{y}<extra></extra>",
           "ids": [
            "TESLA"
           ],
           "legendgroup": "TESLA",
           "marker": {
            "color": "#00cc96",
            "pattern": {
             "shape": ""
            }
           },
           "name": "TESLA",
           "offsetgroup": "TESLA",
           "orientation": "v",
           "showlegend": true,
           "textposition": "auto",
           "type": "bar",
           "x": [
            "TESLA"
           ],
           "xaxis": "x",
           "y": [
            134
           ],
           "yaxis": "y"
          }
         ],
         "name": "2012"
        },
        {
         "data": [
          {
           "alignmentgroup": "True",
           "hovertemplate": "EV Make=%{x}<br>Model Year=2013<br>Number of EV Vehicles=%{y}<extra></extra>",
           "ids": [
            "CHEVROLET"
           ],
           "legendgroup": "CHEVROLET",
           "marker": {
            "color": "#636efa",
            "pattern": {
             "shape": ""
            }
           },
           "name": "CHEVROLET",
           "offsetgroup": "CHEVROLET",
           "orientation": "v",
           "showlegend": true,
           "textposition": "auto",
           "type": "bar",
           "x": [
            "CHEVROLET"
           ],
           "xaxis": "x",
           "y": [
            816
           ],
           "yaxis": "y"
          },
          {
           "alignmentgroup": "True",
           "hovertemplate": "EV Make=%{x}<br>Model Year=2013<br>Number of EV Vehicles=%{y}<extra></extra>",
           "ids": [
            "NISSAN"
           ],
           "legendgroup": "NISSAN",
           "marker": {
            "color": "#EF553B",
            "pattern": {
             "shape": ""
            }
           },
           "name": "NISSAN",
           "offsetgroup": "NISSAN",
           "orientation": "v",
           "showlegend": true,
           "textposition": "auto",
           "type": "bar",
           "x": [
            "NISSAN"
           ],
           "xaxis": "x",
           "y": [
            1964
           ],
           "yaxis": "y"
          },
          {
           "alignmentgroup": "True",
           "hovertemplate": "EV Make=%{x}<br>Model Year=2013<br>Number of EV Vehicles=%{y}<extra></extra>",
           "ids": [
            "TESLA"
           ],
           "legendgroup": "TESLA",
           "marker": {
            "color": "#00cc96",
            "pattern": {
             "shape": ""
            }
           },
           "name": "TESLA",
           "offsetgroup": "TESLA",
           "orientation": "v",
           "showlegend": true,
           "textposition": "auto",
           "type": "bar",
           "x": [
            "TESLA"
           ],
           "xaxis": "x",
           "y": [
            812
           ],
           "yaxis": "y"
          }
         ],
         "name": "2013"
        },
        {
         "data": [
          {
           "alignmentgroup": "True",
           "hovertemplate": "EV Make=%{x}<br>Model Year=2014<br>Number of EV Vehicles=%{y}<extra></extra>",
           "ids": [
            "CHEVROLET"
           ],
           "legendgroup": "CHEVROLET",
           "marker": {
            "color": "#636efa",
            "pattern": {
             "shape": ""
            }
           },
           "name": "CHEVROLET",
           "offsetgroup": "CHEVROLET",
           "orientation": "v",
           "showlegend": true,
           "textposition": "auto",
           "type": "bar",
           "x": [
            "CHEVROLET"
           ],
           "xaxis": "x",
           "y": [
            665
           ],
           "yaxis": "y"
          },
          {
           "alignmentgroup": "True",
           "hovertemplate": "EV Make=%{x}<br>Model Year=2014<br>Number of EV Vehicles=%{y}<extra></extra>",
           "ids": [
            "NISSAN"
           ],
           "legendgroup": "NISSAN",
           "marker": {
            "color": "#EF553B",
            "pattern": {
             "shape": ""
            }
           },
           "name": "NISSAN",
           "offsetgroup": "NISSAN",
           "orientation": "v",
           "showlegend": true,
           "textposition": "auto",
           "type": "bar",
           "x": [
            "NISSAN"
           ],
           "xaxis": "x",
           "y": [
            692
           ],
           "yaxis": "y"
          },
          {
           "alignmentgroup": "True",
           "hovertemplate": "EV Make=%{x}<br>Model Year=2014<br>Number of EV Vehicles=%{y}<extra></extra>",
           "ids": [
            "TESLA"
           ],
           "legendgroup": "TESLA",
           "marker": {
            "color": "#00cc96",
            "pattern": {
             "shape": ""
            }
           },
           "name": "TESLA",
           "offsetgroup": "TESLA",
           "orientation": "v",
           "showlegend": true,
           "textposition": "auto",
           "type": "bar",
           "x": [
            "TESLA"
           ],
           "xaxis": "x",
           "y": [
            683
           ],
           "yaxis": "y"
          }
         ],
         "name": "2014"
        },
        {
         "data": [
          {
           "alignmentgroup": "True",
           "hovertemplate": "EV Make=%{x}<br>Model Year=2015<br>Number of EV Vehicles=%{y}<extra></extra>",
           "ids": [
            "CHEVROLET"
           ],
           "legendgroup": "CHEVROLET",
           "marker": {
            "color": "#636efa",
            "pattern": {
             "shape": ""
            }
           },
           "name": "CHEVROLET",
           "offsetgroup": "CHEVROLET",
           "orientation": "v",
           "showlegend": true,
           "textposition": "auto",
           "type": "bar",
           "x": [
            "CHEVROLET"
           ],
           "xaxis": "x",
           "y": [
            367
           ],
           "yaxis": "y"
          },
          {
           "alignmentgroup": "True",
           "hovertemplate": "EV Make=%{x}<br>Model Year=2015<br>Number of EV Vehicles=%{y}<extra></extra>",
           "ids": [
            "NISSAN"
           ],
           "legendgroup": "NISSAN",
           "marker": {
            "color": "#EF553B",
            "pattern": {
             "shape": ""
            }
           },
           "name": "NISSAN",
           "offsetgroup": "NISSAN",
           "orientation": "v",
           "showlegend": true,
           "textposition": "auto",
           "type": "bar",
           "x": [
            "NISSAN"
           ],
           "xaxis": "x",
           "y": [
            1837
           ],
           "yaxis": "y"
          },
          {
           "alignmentgroup": "True",
           "hovertemplate": "EV Make=%{x}<br>Model Year=2015<br>Number of EV Vehicles=%{y}<extra></extra>",
           "ids": [
            "TESLA"
           ],
           "legendgroup": "TESLA",
           "marker": {
            "color": "#00cc96",
            "pattern": {
             "shape": ""
            }
           },
           "name": "TESLA",
           "offsetgroup": "TESLA",
           "orientation": "v",
           "showlegend": true,
           "textposition": "auto",
           "type": "bar",
           "x": [
            "TESLA"
           ],
           "xaxis": "x",
           "y": [
            1086
           ],
           "yaxis": "y"
          }
         ],
         "name": "2015"
        },
        {
         "data": [
          {
           "alignmentgroup": "True",
           "hovertemplate": "EV Make=%{x}<br>Model Year=2016<br>Number of EV Vehicles=%{y}<extra></extra>",
           "ids": [
            "CHEVROLET"
           ],
           "legendgroup": "CHEVROLET",
           "marker": {
            "color": "#636efa",
            "pattern": {
             "shape": ""
            }
           },
           "name": "CHEVROLET",
           "offsetgroup": "CHEVROLET",
           "orientation": "v",
           "showlegend": true,
           "textposition": "auto",
           "type": "bar",
           "x": [
            "CHEVROLET"
           ],
           "xaxis": "x",
           "y": [
            215
           ],
           "yaxis": "y"
          },
          {
           "alignmentgroup": "True",
           "hovertemplate": "EV Make=%{x}<br>Model Year=2016<br>Number of EV Vehicles=%{y}<extra></extra>",
           "ids": [
            "NISSAN"
           ],
           "legendgroup": "NISSAN",
           "marker": {
            "color": "#EF553B",
            "pattern": {
             "shape": ""
            }
           },
           "name": "NISSAN",
           "offsetgroup": "NISSAN",
           "orientation": "v",
           "showlegend": true,
           "textposition": "auto",
           "type": "bar",
           "x": [
            "NISSAN"
           ],
           "xaxis": "x",
           "y": [
            1208
           ],
           "yaxis": "y"
          },
          {
           "alignmentgroup": "True",
           "hovertemplate": "EV Make=%{x}<br>Model Year=2016<br>Number of EV Vehicles=%{y}<extra></extra>",
           "ids": [
            "TESLA"
           ],
           "legendgroup": "TESLA",
           "marker": {
            "color": "#00cc96",
            "pattern": {
             "shape": ""
            }
           },
           "name": "TESLA",
           "offsetgroup": "TESLA",
           "orientation": "v",
           "showlegend": true,
           "textposition": "auto",
           "type": "bar",
           "x": [
            "TESLA"
           ],
           "xaxis": "x",
           "y": [
            1633
           ],
           "yaxis": "y"
          }
         ],
         "name": "2016"
        },
        {
         "data": [
          {
           "alignmentgroup": "True",
           "hovertemplate": "EV Make=%{x}<br>Model Year=2017<br>Number of EV Vehicles=%{y}<extra></extra>",
           "ids": [
            "CHEVROLET"
           ],
           "legendgroup": "CHEVROLET",
           "marker": {
            "color": "#636efa",
            "pattern": {
             "shape": ""
            }
           },
           "name": "CHEVROLET",
           "offsetgroup": "CHEVROLET",
           "orientation": "v",
           "showlegend": true,
           "textposition": "auto",
           "type": "bar",
           "x": [
            "CHEVROLET"
           ],
           "xaxis": "x",
           "y": [
            2740
           ],
           "yaxis": "y"
          },
          {
           "alignmentgroup": "True",
           "hovertemplate": "EV Make=%{x}<br>Model Year=2017<br>Number of EV Vehicles=%{y}<extra></extra>",
           "ids": [
            "NISSAN"
           ],
           "legendgroup": "NISSAN",
           "marker": {
            "color": "#EF553B",
            "pattern": {
             "shape": ""
            }
           },
           "name": "NISSAN",
           "offsetgroup": "NISSAN",
           "orientation": "v",
           "showlegend": true,
           "textposition": "auto",
           "type": "bar",
           "x": [
            "NISSAN"
           ],
           "xaxis": "x",
           "y": [
            933
           ],
           "yaxis": "y"
          },
          {
           "alignmentgroup": "True",
           "hovertemplate": "EV Make=%{x}<br>Model Year=2017<br>Number of EV Vehicles=%{y}<extra></extra>",
           "ids": [
            "TESLA"
           ],
           "legendgroup": "TESLA",
           "marker": {
            "color": "#00cc96",
            "pattern": {
             "shape": ""
            }
           },
           "name": "TESLA",
           "offsetgroup": "TESLA",
           "orientation": "v",
           "showlegend": true,
           "textposition": "auto",
           "type": "bar",
           "x": [
            "TESLA"
           ],
           "xaxis": "x",
           "y": [
            1675
           ],
           "yaxis": "y"
          },
          {
           "alignmentgroup": "True",
           "hovertemplate": "EV Make=%{x}<br>Model Year=2017<br>Number of EV Vehicles=%{y}<extra></extra>",
           "ids": [
            "TOYOTA"
           ],
           "legendgroup": "TOYOTA",
           "marker": {
            "color": "#ab63fa",
            "pattern": {
             "shape": ""
            }
           },
           "name": "TOYOTA",
           "offsetgroup": "TOYOTA",
           "orientation": "v",
           "showlegend": true,
           "textposition": "auto",
           "type": "bar",
           "x": [
            "TOYOTA"
           ],
           "xaxis": "x",
           "y": [
            895
           ],
           "yaxis": "y"
          }
         ],
         "name": "2017"
        },
        {
         "data": [
          {
           "alignmentgroup": "True",
           "hovertemplate": "EV Make=%{x}<br>Model Year=2018<br>Number of EV Vehicles=%{y}<extra></extra>",
           "ids": [
            "CHEVROLET"
           ],
           "legendgroup": "CHEVROLET",
           "marker": {
            "color": "#636efa",
            "pattern": {
             "shape": ""
            }
           },
           "name": "CHEVROLET",
           "offsetgroup": "CHEVROLET",
           "orientation": "v",
           "showlegend": true,
           "textposition": "auto",
           "type": "bar",
           "x": [
            "CHEVROLET"
           ],
           "xaxis": "x",
           "y": [
            1122
           ],
           "yaxis": "y"
          },
          {
           "alignmentgroup": "True",
           "hovertemplate": "EV Make=%{x}<br>Model Year=2018<br>Number of EV Vehicles=%{y}<extra></extra>",
           "ids": [
            "NISSAN"
           ],
           "legendgroup": "NISSAN",
           "marker": {
            "color": "#EF553B",
            "pattern": {
             "shape": ""
            }
           },
           "name": "NISSAN",
           "offsetgroup": "NISSAN",
           "orientation": "v",
           "showlegend": true,
           "textposition": "auto",
           "type": "bar",
           "x": [
            "NISSAN"
           ],
           "xaxis": "x",
           "y": [
            1230
           ],
           "yaxis": "y"
          },
          {
           "alignmentgroup": "True",
           "hovertemplate": "EV Make=%{x}<br>Model Year=2018<br>Number of EV Vehicles=%{y}<extra></extra>",
           "ids": [
            "TESLA"
           ],
           "legendgroup": "TESLA",
           "marker": {
            "color": "#00cc96",
            "pattern": {
             "shape": ""
            }
           },
           "name": "TESLA",
           "offsetgroup": "TESLA",
           "orientation": "v",
           "showlegend": true,
           "textposition": "auto",
           "type": "bar",
           "x": [
            "TESLA"
           ],
           "xaxis": "x",
           "y": [
            7901
           ],
           "yaxis": "y"
          },
          {
           "alignmentgroup": "True",
           "hovertemplate": "EV Make=%{x}<br>Model Year=2018<br>Number of EV Vehicles=%{y}<extra></extra>",
           "ids": [
            "TOYOTA"
           ],
           "legendgroup": "TOYOTA",
           "marker": {
            "color": "#ab63fa",
            "pattern": {
             "shape": ""
            }
           },
           "name": "TOYOTA",
           "offsetgroup": "TOYOTA",
           "orientation": "v",
           "showlegend": true,
           "textposition": "auto",
           "type": "bar",
           "x": [
            "TOYOTA"
           ],
           "xaxis": "x",
           "y": [
            659
           ],
           "yaxis": "y"
          },
          {
           "alignmentgroup": "True",
           "hovertemplate": "EV Make=%{x}<br>Model Year=2018<br>Number of EV Vehicles=%{y}<extra></extra>",
           "ids": [
            "KIA"
           ],
           "legendgroup": "KIA",
           "marker": {
            "color": "#FFA15A",
            "pattern": {
             "shape": ""
            }
           },
           "name": "KIA",
           "offsetgroup": "KIA",
           "orientation": "v",
           "showlegend": true,
           "textposition": "auto",
           "type": "bar",
           "x": [
            "KIA"
           ],
           "xaxis": "x",
           "y": [
            203
           ],
           "yaxis": "y"
          }
         ],
         "name": "2018"
        },
        {
         "data": [
          {
           "alignmentgroup": "True",
           "hovertemplate": "EV Make=%{x}<br>Model Year=2019<br>Number of EV Vehicles=%{y}<extra></extra>",
           "ids": [
            "CHEVROLET"
           ],
           "legendgroup": "CHEVROLET",
           "marker": {
            "color": "#636efa",
            "pattern": {
             "shape": ""
            }
           },
           "name": "CHEVROLET",
           "offsetgroup": "CHEVROLET",
           "orientation": "v",
           "showlegend": true,
           "textposition": "auto",
           "type": "bar",
           "x": [
            "CHEVROLET"
           ],
           "xaxis": "x",
           "y": [
            966
           ],
           "yaxis": "y"
          },
          {
           "alignmentgroup": "True",
           "hovertemplate": "EV Make=%{x}<br>Model Year=2019<br>Number of EV Vehicles=%{y}<extra></extra>",
           "ids": [
            "NISSAN"
           ],
           "legendgroup": "NISSAN",
           "marker": {
            "color": "#EF553B",
            "pattern": {
             "shape": ""
            }
           },
           "name": "NISSAN",
           "offsetgroup": "NISSAN",
           "orientation": "v",
           "showlegend": true,
           "textposition": "auto",
           "type": "bar",
           "x": [
            "NISSAN"
           ],
           "xaxis": "x",
           "y": [
            1406
           ],
           "yaxis": "y"
          },
          {
           "alignmentgroup": "True",
           "hovertemplate": "EV Make=%{x}<br>Model Year=2019<br>Number of EV Vehicles=%{y}<extra></extra>",
           "ids": [
            "TESLA"
           ],
           "legendgroup": "TESLA",
           "marker": {
            "color": "#00cc96",
            "pattern": {
             "shape": ""
            }
           },
           "name": "TESLA",
           "offsetgroup": "TESLA",
           "orientation": "v",
           "showlegend": true,
           "textposition": "auto",
           "type": "bar",
           "x": [
            "TESLA"
           ],
           "xaxis": "x",
           "y": [
            4571
           ],
           "yaxis": "y"
          },
          {
           "alignmentgroup": "True",
           "hovertemplate": "EV Make=%{x}<br>Model Year=2019<br>Number of EV Vehicles=%{y}<extra></extra>",
           "ids": [
            "TOYOTA"
           ],
           "legendgroup": "TOYOTA",
           "marker": {
            "color": "#ab63fa",
            "pattern": {
             "shape": ""
            }
           },
           "name": "TOYOTA",
           "offsetgroup": "TOYOTA",
           "orientation": "v",
           "showlegend": true,
           "textposition": "auto",
           "type": "bar",
           "x": [
            "TOYOTA"
           ],
           "xaxis": "x",
           "y": [
            189
           ],
           "yaxis": "y"
          },
          {
           "alignmentgroup": "True",
           "hovertemplate": "EV Make=%{x}<br>Model Year=2019<br>Number of EV Vehicles=%{y}<extra></extra>",
           "ids": [
            "KIA"
           ],
           "legendgroup": "KIA",
           "marker": {
            "color": "#FFA15A",
            "pattern": {
             "shape": ""
            }
           },
           "name": "KIA",
           "offsetgroup": "KIA",
           "orientation": "v",
           "showlegend": true,
           "textposition": "auto",
           "type": "bar",
           "x": [
            "KIA"
           ],
           "xaxis": "x",
           "y": [
            676
           ],
           "yaxis": "y"
          }
         ],
         "name": "2019"
        },
        {
         "data": [
          {
           "alignmentgroup": "True",
           "hovertemplate": "EV Make=%{x}<br>Model Year=2020<br>Number of EV Vehicles=%{y}<extra></extra>",
           "ids": [
            "CHEVROLET"
           ],
           "legendgroup": "CHEVROLET",
           "marker": {
            "color": "#636efa",
            "pattern": {
             "shape": ""
            }
           },
           "name": "CHEVROLET",
           "offsetgroup": "CHEVROLET",
           "orientation": "v",
           "showlegend": true,
           "textposition": "auto",
           "type": "bar",
           "x": [
            "CHEVROLET"
           ],
           "xaxis": "x",
           "y": [
            1013
           ],
           "yaxis": "y"
          },
          {
           "alignmentgroup": "True",
           "hovertemplate": "EV Make=%{x}<br>Model Year=2020<br>Number of EV Vehicles=%{y}<extra></extra>",
           "ids": [
            "NISSAN"
           ],
           "legendgroup": "NISSAN",
           "marker": {
            "color": "#EF553B",
            "pattern": {
             "shape": ""
            }
           },
           "name": "NISSAN",
           "offsetgroup": "NISSAN",
           "orientation": "v",
           "showlegend": true,
           "textposition": "auto",
           "type": "bar",
           "x": [
            "NISSAN"
           ],
           "xaxis": "x",
           "y": [
            580
           ],
           "yaxis": "y"
          },
          {
           "alignmentgroup": "True",
           "hovertemplate": "EV Make=%{x}<br>Model Year=2020<br>Number of EV Vehicles=%{y}<extra></extra>",
           "ids": [
            "TESLA"
           ],
           "legendgroup": "TESLA",
           "marker": {
            "color": "#00cc96",
            "pattern": {
             "shape": ""
            }
           },
           "name": "TESLA",
           "offsetgroup": "TESLA",
           "orientation": "v",
           "showlegend": true,
           "textposition": "auto",
           "type": "bar",
           "x": [
            "TESLA"
           ],
           "xaxis": "x",
           "y": [
            7000
           ],
           "yaxis": "y"
          },
          {
           "alignmentgroup": "True",
           "hovertemplate": "EV Make=%{x}<br>Model Year=2020<br>Number of EV Vehicles=%{y}<extra></extra>",
           "ids": [
            "TOYOTA"
           ],
           "legendgroup": "TOYOTA",
           "marker": {
            "color": "#ab63fa",
            "pattern": {
             "shape": ""
            }
           },
           "name": "TOYOTA",
           "offsetgroup": "TOYOTA",
           "orientation": "v",
           "showlegend": true,
           "textposition": "auto",
           "type": "bar",
           "x": [
            "TOYOTA"
           ],
           "xaxis": "x",
           "y": [
            310
           ],
           "yaxis": "y"
          },
          {
           "alignmentgroup": "True",
           "hovertemplate": "EV Make=%{x}<br>Model Year=2020<br>Number of EV Vehicles=%{y}<extra></extra>",
           "ids": [
            "KIA"
           ],
           "legendgroup": "KIA",
           "marker": {
            "color": "#FFA15A",
            "pattern": {
             "shape": ""
            }
           },
           "name": "KIA",
           "offsetgroup": "KIA",
           "orientation": "v",
           "showlegend": true,
           "textposition": "auto",
           "type": "bar",
           "x": [
            "KIA"
           ],
           "xaxis": "x",
           "y": [
            521
           ],
           "yaxis": "y"
          }
         ],
         "name": "2020"
        },
        {
         "data": [
          {
           "alignmentgroup": "True",
           "hovertemplate": "EV Make=%{x}<br>Model Year=2021<br>Number of EV Vehicles=%{y}<extra></extra>",
           "ids": [
            "CHEVROLET"
           ],
           "legendgroup": "CHEVROLET",
           "marker": {
            "color": "#636efa",
            "pattern": {
             "shape": ""
            }
           },
           "name": "CHEVROLET",
           "offsetgroup": "CHEVROLET",
           "orientation": "v",
           "showlegend": true,
           "textposition": "auto",
           "type": "bar",
           "x": [
            "CHEVROLET"
           ],
           "xaxis": "x",
           "y": [
            376
           ],
           "yaxis": "y"
          },
          {
           "alignmentgroup": "True",
           "hovertemplate": "EV Make=%{x}<br>Model Year=2021<br>Number of EV Vehicles=%{y}<extra></extra>",
           "ids": [
            "NISSAN"
           ],
           "legendgroup": "NISSAN",
           "marker": {
            "color": "#EF553B",
            "pattern": {
             "shape": ""
            }
           },
           "name": "NISSAN",
           "offsetgroup": "NISSAN",
           "orientation": "v",
           "showlegend": true,
           "textposition": "auto",
           "type": "bar",
           "x": [
            "NISSAN"
           ],
           "xaxis": "x",
           "y": [
            533
           ],
           "yaxis": "y"
          },
          {
           "alignmentgroup": "True",
           "hovertemplate": "EV Make=%{x}<br>Model Year=2021<br>Number of EV Vehicles=%{y}<extra></extra>",
           "ids": [
            "TESLA"
           ],
           "legendgroup": "TESLA",
           "marker": {
            "color": "#00cc96",
            "pattern": {
             "shape": ""
            }
           },
           "name": "TESLA",
           "offsetgroup": "TESLA",
           "orientation": "v",
           "showlegend": true,
           "textposition": "auto",
           "type": "bar",
           "x": [
            "TESLA"
           ],
           "xaxis": "x",
           "y": [
            10997
           ],
           "yaxis": "y"
          },
          {
           "alignmentgroup": "True",
           "hovertemplate": "EV Make=%{x}<br>Model Year=2021<br>Number of EV Vehicles=%{y}<extra></extra>",
           "ids": [
            "TOYOTA"
           ],
           "legendgroup": "TOYOTA",
           "marker": {
            "color": "#ab63fa",
            "pattern": {
             "shape": ""
            }
           },
           "name": "TOYOTA",
           "offsetgroup": "TOYOTA",
           "orientation": "v",
           "showlegend": true,
           "textposition": "auto",
           "type": "bar",
           "x": [
            "TOYOTA"
           ],
           "xaxis": "x",
           "y": [
            205
           ],
           "yaxis": "y"
          },
          {
           "alignmentgroup": "True",
           "hovertemplate": "EV Make=%{x}<br>Model Year=2021<br>Number of EV Vehicles=%{y}<extra></extra>",
           "ids": [
            "KIA"
           ],
           "legendgroup": "KIA",
           "marker": {
            "color": "#FFA15A",
            "pattern": {
             "shape": ""
            }
           },
           "name": "KIA",
           "offsetgroup": "KIA",
           "orientation": "v",
           "showlegend": true,
           "textposition": "auto",
           "type": "bar",
           "x": [
            "KIA"
           ],
           "xaxis": "x",
           "y": [
            73
           ],
           "yaxis": "y"
          }
         ],
         "name": "2021"
        },
        {
         "data": [
          {
           "alignmentgroup": "True",
           "hovertemplate": "EV Make=%{x}<br>Model Year=2022<br>Number of EV Vehicles=%{y}<extra></extra>",
           "ids": [
            "CHEVROLET"
           ],
           "legendgroup": "CHEVROLET",
           "marker": {
            "color": "#636efa",
            "pattern": {
             "shape": ""
            }
           },
           "name": "CHEVROLET",
           "offsetgroup": "CHEVROLET",
           "orientation": "v",
           "showlegend": true,
           "textposition": "auto",
           "type": "bar",
           "x": [
            "CHEVROLET"
           ],
           "xaxis": "x",
           "y": [
            890
           ],
           "yaxis": "y"
          },
          {
           "alignmentgroup": "True",
           "hovertemplate": "EV Make=%{x}<br>Model Year=2022<br>Number of EV Vehicles=%{y}<extra></extra>",
           "ids": [
            "NISSAN"
           ],
           "legendgroup": "NISSAN",
           "marker": {
            "color": "#EF553B",
            "pattern": {
             "shape": ""
            }
           },
           "name": "NISSAN",
           "offsetgroup": "NISSAN",
           "orientation": "v",
           "showlegend": true,
           "textposition": "auto",
           "type": "bar",
           "x": [
            "NISSAN"
           ],
           "xaxis": "x",
           "y": [
            968
           ],
           "yaxis": "y"
          },
          {
           "alignmentgroup": "True",
           "hovertemplate": "EV Make=%{x}<br>Model Year=2022<br>Number of EV Vehicles=%{y}<extra></extra>",
           "ids": [
            "TESLA"
           ],
           "legendgroup": "TESLA",
           "marker": {
            "color": "#00cc96",
            "pattern": {
             "shape": ""
            }
           },
           "name": "TESLA",
           "offsetgroup": "TESLA",
           "orientation": "v",
           "showlegend": true,
           "textposition": "auto",
           "type": "bar",
           "x": [
            "TESLA"
           ],
           "xaxis": "x",
           "y": [
            14525
           ],
           "yaxis": "y"
          },
          {
           "alignmentgroup": "True",
           "hovertemplate": "EV Make=%{x}<br>Model Year=2022<br>Number of EV Vehicles=%{y}<extra></extra>",
           "ids": [
            "TOYOTA"
           ],
           "legendgroup": "TOYOTA",
           "marker": {
            "color": "#ab63fa",
            "pattern": {
             "shape": ""
            }
           },
           "name": "TOYOTA",
           "offsetgroup": "TOYOTA",
           "orientation": "v",
           "showlegend": true,
           "textposition": "auto",
           "type": "bar",
           "x": [
            "TOYOTA"
           ],
           "xaxis": "x",
           "y": [
            115
           ],
           "yaxis": "y"
          },
          {
           "alignmentgroup": "True",
           "hovertemplate": "EV Make=%{x}<br>Model Year=2022<br>Number of EV Vehicles=%{y}<extra></extra>",
           "ids": [
            "KIA"
           ],
           "legendgroup": "KIA",
           "marker": {
            "color": "#FFA15A",
            "pattern": {
             "shape": ""
            }
           },
           "name": "KIA",
           "offsetgroup": "KIA",
           "orientation": "v",
           "showlegend": true,
           "textposition": "auto",
           "type": "bar",
           "x": [
            "KIA"
           ],
           "xaxis": "x",
           "y": [
            749
           ],
           "yaxis": "y"
          }
         ],
         "name": "2022"
        },
        {
         "data": [
          {
           "alignmentgroup": "True",
           "hovertemplate": "EV Make=%{x}<br>Model Year=2023<br>Number of EV Vehicles=%{y}<extra></extra>",
           "ids": [
            "CHEVROLET"
           ],
           "legendgroup": "CHEVROLET",
           "marker": {
            "color": "#636efa",
            "pattern": {
             "shape": ""
            }
           },
           "name": "CHEVROLET",
           "offsetgroup": "CHEVROLET",
           "orientation": "v",
           "showlegend": true,
           "textposition": "auto",
           "type": "bar",
           "x": [
            "CHEVROLET"
           ],
           "xaxis": "x",
           "y": [
            51
           ],
           "yaxis": "y"
          },
          {
           "alignmentgroup": "True",
           "hovertemplate": "EV Make=%{x}<br>Model Year=2023<br>Number of EV Vehicles=%{y}<extra></extra>",
           "ids": [
            "NISSAN"
           ],
           "legendgroup": "NISSAN",
           "marker": {
            "color": "#EF553B",
            "pattern": {
             "shape": ""
            }
           },
           "name": "NISSAN",
           "offsetgroup": "NISSAN",
           "orientation": "v",
           "showlegend": true,
           "textposition": "auto",
           "type": "bar",
           "x": [
            "NISSAN"
           ],
           "xaxis": "x",
           "y": [
            149
           ],
           "yaxis": "y"
          },
          {
           "alignmentgroup": "True",
           "hovertemplate": "EV Make=%{x}<br>Model Year=2023<br>Number of EV Vehicles=%{y}<extra></extra>",
           "ids": [
            "TESLA"
           ],
           "legendgroup": "TESLA",
           "marker": {
            "color": "#00cc96",
            "pattern": {
             "shape": ""
            }
           },
           "name": "TESLA",
           "offsetgroup": "TESLA",
           "orientation": "v",
           "showlegend": true,
           "textposition": "auto",
           "type": "bar",
           "x": [
            "TESLA"
           ],
           "xaxis": "x",
           "y": [
            890
           ],
           "yaxis": "y"
          },
          {
           "alignmentgroup": "True",
           "hovertemplate": "EV Make=%{x}<br>Model Year=2023<br>Number of EV Vehicles=%{y}<extra></extra>",
           "ids": [
            "KIA"
           ],
           "legendgroup": "KIA",
           "marker": {
            "color": "#FFA15A",
            "pattern": {
             "shape": ""
            }
           },
           "name": "KIA",
           "offsetgroup": "KIA",
           "orientation": "v",
           "showlegend": true,
           "textposition": "auto",
           "type": "bar",
           "x": [
            "KIA"
           ],
           "xaxis": "x",
           "y": [
            33
           ],
           "yaxis": "y"
          },
          {
           "alignmentgroup": "True",
           "hovertemplate": "EV Make=%{x}<br>Model Year=2023<br>Number of EV Vehicles=%{y}<extra></extra>",
           "ids": [
            "VOLVO"
           ],
           "legendgroup": "VOLVO",
           "marker": {
            "color": "#19d3f3",
            "pattern": {
             "shape": ""
            }
           },
           "name": "VOLVO",
           "offsetgroup": "VOLVO",
           "orientation": "v",
           "showlegend": true,
           "textposition": "auto",
           "type": "bar",
           "x": [
            "VOLVO"
           ],
           "xaxis": "x",
           "y": [
            20
           ],
           "yaxis": "y"
          }
         ],
         "name": "2023"
        }
       ],
       "layout": {
        "barmode": "relative",
        "legend": {
         "title": {
          "text": "EV Make"
         },
         "tracegroupgap": 0
        },
        "showlegend": false,
        "sliders": [
         {
          "active": 0,
          "currentvalue": {
           "prefix": "Model Year="
          },
          "len": 0.9,
          "pad": {
           "b": 10,
           "t": 60
          },
          "steps": [
           {
            "args": [
             [
              "2011"
             ],
             {
              "frame": {
               "duration": 0,
               "redraw": true
              },
              "fromcurrent": true,
              "mode": "immediate",
              "transition": {
               "duration": 0,
               "easing": "linear"
              }
             }
            ],
            "label": "2011",
            "method": "animate"
           },
           {
            "args": [
             [
              "2012"
             ],
             {
              "frame": {
               "duration": 0,
               "redraw": true
              },
              "fromcurrent": true,
              "mode": "immediate",
              "transition": {
               "duration": 0,
               "easing": "linear"
              }
             }
            ],
            "label": "2012",
            "method": "animate"
           },
           {
            "args": [
             [
              "2013"
             ],
             {
              "frame": {
               "duration": 0,
               "redraw": true
              },
              "fromcurrent": true,
              "mode": "immediate",
              "transition": {
               "duration": 0,
               "easing": "linear"
              }
             }
            ],
            "label": "2013",
            "method": "animate"
           },
           {
            "args": [
             [
              "2014"
             ],
             {
              "frame": {
               "duration": 0,
               "redraw": true
              },
              "fromcurrent": true,
              "mode": "immediate",
              "transition": {
               "duration": 0,
               "easing": "linear"
              }
             }
            ],
            "label": "2014",
            "method": "animate"
           },
           {
            "args": [
             [
              "2015"
             ],
             {
              "frame": {
               "duration": 0,
               "redraw": true
              },
              "fromcurrent": true,
              "mode": "immediate",
              "transition": {
               "duration": 0,
               "easing": "linear"
              }
             }
            ],
            "label": "2015",
            "method": "animate"
           },
           {
            "args": [
             [
              "2016"
             ],
             {
              "frame": {
               "duration": 0,
               "redraw": true
              },
              "fromcurrent": true,
              "mode": "immediate",
              "transition": {
               "duration": 0,
               "easing": "linear"
              }
             }
            ],
            "label": "2016",
            "method": "animate"
           },
           {
            "args": [
             [
              "2017"
             ],
             {
              "frame": {
               "duration": 0,
               "redraw": true
              },
              "fromcurrent": true,
              "mode": "immediate",
              "transition": {
               "duration": 0,
               "easing": "linear"
              }
             }
            ],
            "label": "2017",
            "method": "animate"
           },
           {
            "args": [
             [
              "2018"
             ],
             {
              "frame": {
               "duration": 0,
               "redraw": true
              },
              "fromcurrent": true,
              "mode": "immediate",
              "transition": {
               "duration": 0,
               "easing": "linear"
              }
             }
            ],
            "label": "2018",
            "method": "animate"
           },
           {
            "args": [
             [
              "2019"
             ],
             {
              "frame": {
               "duration": 0,
               "redraw": true
              },
              "fromcurrent": true,
              "mode": "immediate",
              "transition": {
               "duration": 0,
               "easing": "linear"
              }
             }
            ],
            "label": "2019",
            "method": "animate"
           },
           {
            "args": [
             [
              "2020"
             ],
             {
              "frame": {
               "duration": 0,
               "redraw": true
              },
              "fromcurrent": true,
              "mode": "immediate",
              "transition": {
               "duration": 0,
               "easing": "linear"
              }
             }
            ],
            "label": "2020",
            "method": "animate"
           },
           {
            "args": [
             [
              "2021"
             ],
             {
              "frame": {
               "duration": 0,
               "redraw": true
              },
              "fromcurrent": true,
              "mode": "immediate",
              "transition": {
               "duration": 0,
               "easing": "linear"
              }
             }
            ],
            "label": "2021",
            "method": "animate"
           },
           {
            "args": [
             [
              "2022"
             ],
             {
              "frame": {
               "duration": 0,
               "redraw": true
              },
              "fromcurrent": true,
              "mode": "immediate",
              "transition": {
               "duration": 0,
               "easing": "linear"
              }
             }
            ],
            "label": "2022",
            "method": "animate"
           },
           {
            "args": [
             [
              "2023"
             ],
             {
              "frame": {
               "duration": 0,
               "redraw": true
              },
              "fromcurrent": true,
              "mode": "immediate",
              "transition": {
               "duration": 0,
               "easing": "linear"
              }
             }
            ],
            "label": "2023",
            "method": "animate"
           }
          ],
          "x": 0.1,
          "xanchor": "left",
          "y": 0,
          "yanchor": "top"
         }
        ],
        "template": {
         "data": {
          "bar": [
           {
            "error_x": {
             "color": "#f2f5fa"
            },
            "error_y": {
             "color": "#f2f5fa"
            },
            "marker": {
             "line": {
              "color": "rgb(17,17,17)",
              "width": 0.5
             },
             "pattern": {
              "fillmode": "overlay",
              "size": 10,
              "solidity": 0.2
             }
            },
            "type": "bar"
           }
          ],
          "barpolar": [
           {
            "marker": {
             "line": {
              "color": "rgb(17,17,17)",
              "width": 0.5
             },
             "pattern": {
              "fillmode": "overlay",
              "size": 10,
              "solidity": 0.2
             }
            },
            "type": "barpolar"
           }
          ],
          "carpet": [
           {
            "aaxis": {
             "endlinecolor": "#A2B1C6",
             "gridcolor": "#506784",
             "linecolor": "#506784",
             "minorgridcolor": "#506784",
             "startlinecolor": "#A2B1C6"
            },
            "baxis": {
             "endlinecolor": "#A2B1C6",
             "gridcolor": "#506784",
             "linecolor": "#506784",
             "minorgridcolor": "#506784",
             "startlinecolor": "#A2B1C6"
            },
            "type": "carpet"
           }
          ],
          "choropleth": [
           {
            "colorbar": {
             "outlinewidth": 0,
             "ticks": ""
            },
            "type": "choropleth"
           }
          ],
          "contour": [
           {
            "colorbar": {
             "outlinewidth": 0,
             "ticks": ""
            },
            "colorscale": [
             [
              0,
              "#0d0887"
             ],
             [
              0.1111111111111111,
              "#46039f"
             ],
             [
              0.2222222222222222,
              "#7201a8"
             ],
             [
              0.3333333333333333,
              "#9c179e"
             ],
             [
              0.4444444444444444,
              "#bd3786"
             ],
             [
              0.5555555555555556,
              "#d8576b"
             ],
             [
              0.6666666666666666,
              "#ed7953"
             ],
             [
              0.7777777777777778,
              "#fb9f3a"
             ],
             [
              0.8888888888888888,
              "#fdca26"
             ],
             [
              1,
              "#f0f921"
             ]
            ],
            "type": "contour"
           }
          ],
          "contourcarpet": [
           {
            "colorbar": {
             "outlinewidth": 0,
             "ticks": ""
            },
            "type": "contourcarpet"
           }
          ],
          "heatmap": [
           {
            "colorbar": {
             "outlinewidth": 0,
             "ticks": ""
            },
            "colorscale": [
             [
              0,
              "#0d0887"
             ],
             [
              0.1111111111111111,
              "#46039f"
             ],
             [
              0.2222222222222222,
              "#7201a8"
             ],
             [
              0.3333333333333333,
              "#9c179e"
             ],
             [
              0.4444444444444444,
              "#bd3786"
             ],
             [
              0.5555555555555556,
              "#d8576b"
             ],
             [
              0.6666666666666666,
              "#ed7953"
             ],
             [
              0.7777777777777778,
              "#fb9f3a"
             ],
             [
              0.8888888888888888,
              "#fdca26"
             ],
             [
              1,
              "#f0f921"
             ]
            ],
            "type": "heatmap"
           }
          ],
          "heatmapgl": [
           {
            "colorbar": {
             "outlinewidth": 0,
             "ticks": ""
            },
            "colorscale": [
             [
              0,
              "#0d0887"
             ],
             [
              0.1111111111111111,
              "#46039f"
             ],
             [
              0.2222222222222222,
              "#7201a8"
             ],
             [
              0.3333333333333333,
              "#9c179e"
             ],
             [
              0.4444444444444444,
              "#bd3786"
             ],
             [
              0.5555555555555556,
              "#d8576b"
             ],
             [
              0.6666666666666666,
              "#ed7953"
             ],
             [
              0.7777777777777778,
              "#fb9f3a"
             ],
             [
              0.8888888888888888,
              "#fdca26"
             ],
             [
              1,
              "#f0f921"
             ]
            ],
            "type": "heatmapgl"
           }
          ],
          "histogram": [
           {
            "marker": {
             "pattern": {
              "fillmode": "overlay",
              "size": 10,
              "solidity": 0.2
             }
            },
            "type": "histogram"
           }
          ],
          "histogram2d": [
           {
            "colorbar": {
             "outlinewidth": 0,
             "ticks": ""
            },
            "colorscale": [
             [
              0,
              "#0d0887"
             ],
             [
              0.1111111111111111,
              "#46039f"
             ],
             [
              0.2222222222222222,
              "#7201a8"
             ],
             [
              0.3333333333333333,
              "#9c179e"
             ],
             [
              0.4444444444444444,
              "#bd3786"
             ],
             [
              0.5555555555555556,
              "#d8576b"
             ],
             [
              0.6666666666666666,
              "#ed7953"
             ],
             [
              0.7777777777777778,
              "#fb9f3a"
             ],
             [
              0.8888888888888888,
              "#fdca26"
             ],
             [
              1,
              "#f0f921"
             ]
            ],
            "type": "histogram2d"
           }
          ],
          "histogram2dcontour": [
           {
            "colorbar": {
             "outlinewidth": 0,
             "ticks": ""
            },
            "colorscale": [
             [
              0,
              "#0d0887"
             ],
             [
              0.1111111111111111,
              "#46039f"
             ],
             [
              0.2222222222222222,
              "#7201a8"
             ],
             [
              0.3333333333333333,
              "#9c179e"
             ],
             [
              0.4444444444444444,
              "#bd3786"
             ],
             [
              0.5555555555555556,
              "#d8576b"
             ],
             [
              0.6666666666666666,
              "#ed7953"
             ],
             [
              0.7777777777777778,
              "#fb9f3a"
             ],
             [
              0.8888888888888888,
              "#fdca26"
             ],
             [
              1,
              "#f0f921"
             ]
            ],
            "type": "histogram2dcontour"
           }
          ],
          "mesh3d": [
           {
            "colorbar": {
             "outlinewidth": 0,
             "ticks": ""
            },
            "type": "mesh3d"
           }
          ],
          "parcoords": [
           {
            "line": {
             "colorbar": {
              "outlinewidth": 0,
              "ticks": ""
             }
            },
            "type": "parcoords"
           }
          ],
          "pie": [
           {
            "automargin": true,
            "type": "pie"
           }
          ],
          "scatter": [
           {
            "marker": {
             "line": {
              "color": "#283442"
             }
            },
            "type": "scatter"
           }
          ],
          "scatter3d": [
           {
            "line": {
             "colorbar": {
              "outlinewidth": 0,
              "ticks": ""
             }
            },
            "marker": {
             "colorbar": {
              "outlinewidth": 0,
              "ticks": ""
             }
            },
            "type": "scatter3d"
           }
          ],
          "scattercarpet": [
           {
            "marker": {
             "colorbar": {
              "outlinewidth": 0,
              "ticks": ""
             }
            },
            "type": "scattercarpet"
           }
          ],
          "scattergeo": [
           {
            "marker": {
             "colorbar": {
              "outlinewidth": 0,
              "ticks": ""
             }
            },
            "type": "scattergeo"
           }
          ],
          "scattergl": [
           {
            "marker": {
             "line": {
              "color": "#283442"
             }
            },
            "type": "scattergl"
           }
          ],
          "scattermapbox": [
           {
            "marker": {
             "colorbar": {
              "outlinewidth": 0,
              "ticks": ""
             }
            },
            "type": "scattermapbox"
           }
          ],
          "scatterpolar": [
           {
            "marker": {
             "colorbar": {
              "outlinewidth": 0,
              "ticks": ""
             }
            },
            "type": "scatterpolar"
           }
          ],
          "scatterpolargl": [
           {
            "marker": {
             "colorbar": {
              "outlinewidth": 0,
              "ticks": ""
             }
            },
            "type": "scatterpolargl"
           }
          ],
          "scatterternary": [
           {
            "marker": {
             "colorbar": {
              "outlinewidth": 0,
              "ticks": ""
             }
            },
            "type": "scatterternary"
           }
          ],
          "surface": [
           {
            "colorbar": {
             "outlinewidth": 0,
             "ticks": ""
            },
            "colorscale": [
             [
              0,
              "#0d0887"
             ],
             [
              0.1111111111111111,
              "#46039f"
             ],
             [
              0.2222222222222222,
              "#7201a8"
             ],
             [
              0.3333333333333333,
              "#9c179e"
             ],
             [
              0.4444444444444444,
              "#bd3786"
             ],
             [
              0.5555555555555556,
              "#d8576b"
             ],
             [
              0.6666666666666666,
              "#ed7953"
             ],
             [
              0.7777777777777778,
              "#fb9f3a"
             ],
             [
              0.8888888888888888,
              "#fdca26"
             ],
             [
              1,
              "#f0f921"
             ]
            ],
            "type": "surface"
           }
          ],
          "table": [
           {
            "cells": {
             "fill": {
              "color": "#506784"
             },
             "line": {
              "color": "rgb(17,17,17)"
             }
            },
            "header": {
             "fill": {
              "color": "#2a3f5f"
             },
             "line": {
              "color": "rgb(17,17,17)"
             }
            },
            "type": "table"
           }
          ]
         },
         "layout": {
          "annotationdefaults": {
           "arrowcolor": "#f2f5fa",
           "arrowhead": 0,
           "arrowwidth": 1
          },
          "autotypenumbers": "strict",
          "coloraxis": {
           "colorbar": {
            "outlinewidth": 0,
            "ticks": ""
           }
          },
          "colorscale": {
           "diverging": [
            [
             0,
             "#8e0152"
            ],
            [
             0.1,
             "#c51b7d"
            ],
            [
             0.2,
             "#de77ae"
            ],
            [
             0.3,
             "#f1b6da"
            ],
            [
             0.4,
             "#fde0ef"
            ],
            [
             0.5,
             "#f7f7f7"
            ],
            [
             0.6,
             "#e6f5d0"
            ],
            [
             0.7,
             "#b8e186"
            ],
            [
             0.8,
             "#7fbc41"
            ],
            [
             0.9,
             "#4d9221"
            ],
            [
             1,
             "#276419"
            ]
           ],
           "sequential": [
            [
             0,
             "#0d0887"
            ],
            [
             0.1111111111111111,
             "#46039f"
            ],
            [
             0.2222222222222222,
             "#7201a8"
            ],
            [
             0.3333333333333333,
             "#9c179e"
            ],
            [
             0.4444444444444444,
             "#bd3786"
            ],
            [
             0.5555555555555556,
             "#d8576b"
            ],
            [
             0.6666666666666666,
             "#ed7953"
            ],
            [
             0.7777777777777778,
             "#fb9f3a"
            ],
            [
             0.8888888888888888,
             "#fdca26"
            ],
            [
             1,
             "#f0f921"
            ]
           ],
           "sequentialminus": [
            [
             0,
             "#0d0887"
            ],
            [
             0.1111111111111111,
             "#46039f"
            ],
            [
             0.2222222222222222,
             "#7201a8"
            ],
            [
             0.3333333333333333,
             "#9c179e"
            ],
            [
             0.4444444444444444,
             "#bd3786"
            ],
            [
             0.5555555555555556,
             "#d8576b"
            ],
            [
             0.6666666666666666,
             "#ed7953"
            ],
            [
             0.7777777777777778,
             "#fb9f3a"
            ],
            [
             0.8888888888888888,
             "#fdca26"
            ],
            [
             1,
             "#f0f921"
            ]
           ]
          },
          "colorway": [
           "#636efa",
           "#EF553B",
           "#00cc96",
           "#ab63fa",
           "#FFA15A",
           "#19d3f3",
           "#FF6692",
           "#B6E880",
           "#FF97FF",
           "#FECB52"
          ],
          "font": {
           "color": "#f2f5fa"
          },
          "geo": {
           "bgcolor": "rgb(17,17,17)",
           "lakecolor": "rgb(17,17,17)",
           "landcolor": "rgb(17,17,17)",
           "showlakes": true,
           "showland": true,
           "subunitcolor": "#506784"
          },
          "hoverlabel": {
           "align": "left"
          },
          "hovermode": "closest",
          "mapbox": {
           "style": "dark"
          },
          "paper_bgcolor": "rgb(17,17,17)",
          "plot_bgcolor": "rgb(17,17,17)",
          "polar": {
           "angularaxis": {
            "gridcolor": "#506784",
            "linecolor": "#506784",
            "ticks": ""
           },
           "bgcolor": "rgb(17,17,17)",
           "radialaxis": {
            "gridcolor": "#506784",
            "linecolor": "#506784",
            "ticks": ""
           }
          },
          "scene": {
           "xaxis": {
            "backgroundcolor": "rgb(17,17,17)",
            "gridcolor": "#506784",
            "gridwidth": 2,
            "linecolor": "#506784",
            "showbackground": true,
            "ticks": "",
            "zerolinecolor": "#C8D4E3"
           },
           "yaxis": {
            "backgroundcolor": "rgb(17,17,17)",
            "gridcolor": "#506784",
            "gridwidth": 2,
            "linecolor": "#506784",
            "showbackground": true,
            "ticks": "",
            "zerolinecolor": "#C8D4E3"
           },
           "zaxis": {
            "backgroundcolor": "rgb(17,17,17)",
            "gridcolor": "#506784",
            "gridwidth": 2,
            "linecolor": "#506784",
            "showbackground": true,
            "ticks": "",
            "zerolinecolor": "#C8D4E3"
           }
          },
          "shapedefaults": {
           "line": {
            "color": "#f2f5fa"
           }
          },
          "sliderdefaults": {
           "bgcolor": "#C8D4E3",
           "bordercolor": "rgb(17,17,17)",
           "borderwidth": 1,
           "tickwidth": 0
          },
          "ternary": {
           "aaxis": {
            "gridcolor": "#506784",
            "linecolor": "#506784",
            "ticks": ""
           },
           "baxis": {
            "gridcolor": "#506784",
            "linecolor": "#506784",
            "ticks": ""
           },
           "bgcolor": "rgb(17,17,17)",
           "caxis": {
            "gridcolor": "#506784",
            "linecolor": "#506784",
            "ticks": ""
           }
          },
          "title": {
           "x": 0.05
          },
          "updatemenudefaults": {
           "bgcolor": "#506784",
           "borderwidth": 0
          },
          "xaxis": {
           "automargin": true,
           "gridcolor": "#283442",
           "linecolor": "#506784",
           "ticks": "",
           "title": {
            "standoff": 15
           },
           "zerolinecolor": "#283442",
           "zerolinewidth": 2
          },
          "yaxis": {
           "automargin": true,
           "gridcolor": "#283442",
           "linecolor": "#506784",
           "ticks": "",
           "title": {
            "standoff": 15
           },
           "zerolinecolor": "#283442",
           "zerolinewidth": 2
          }
         }
        },
        "title": {
         "text": "EV Make Count Over Years"
        },
        "updatemenus": [
         {
          "buttons": [
           {
            "args": [
             null,
             {
              "frame": {
               "duration": 500,
               "redraw": true
              },
              "fromcurrent": true,
              "mode": "immediate",
              "transition": {
               "duration": 500,
               "easing": "linear"
              }
             }
            ],
            "label": "&#9654;",
            "method": "animate"
           },
           {
            "args": [
             [
              null
             ],
             {
              "frame": {
               "duration": 0,
               "redraw": true
              },
              "fromcurrent": true,
              "mode": "immediate",
              "transition": {
               "duration": 0,
               "easing": "linear"
              }
             }
            ],
            "label": "&#9724;",
            "method": "animate"
           }
          ],
          "direction": "left",
          "pad": {
           "r": 10,
           "t": 70
          },
          "showactive": false,
          "type": "buttons",
          "x": 0.1,
          "xanchor": "right",
          "y": 0,
          "yanchor": "top"
         }
        ],
        "xaxis": {
         "anchor": "y",
         "categoryarray": [
          "CHEVROLET",
          "NISSAN",
          "TESLA",
          "TOYOTA",
          "KIA",
          "VOLVO"
         ],
         "categoryorder": "total descending",
         "domain": [
          0,
          1
         ],
         "title": {
          "text": "EV Make"
         }
        },
        "yaxis": {
         "anchor": "x",
         "domain": [
          0,
          1
         ],
         "range": [
          0,
          14625
         ],
         "title": {
          "text": "EV Count"
         }
        }
       }
      },
      "text/html": [
       "<div>                            <div id=\"a9c05b23-7096-4bd7-9c21-232b73f9fb52\" class=\"plotly-graph-div\" style=\"height:525px; width:100%;\"></div>            <script type=\"text/javascript\">                require([\"plotly\"], function(Plotly) {                    window.PLOTLYENV=window.PLOTLYENV || {};                                    if (document.getElementById(\"a9c05b23-7096-4bd7-9c21-232b73f9fb52\")) {                    Plotly.newPlot(                        \"a9c05b23-7096-4bd7-9c21-232b73f9fb52\",                        [{\"alignmentgroup\":\"True\",\"hovertemplate\":\"EV Make=%{x}<br>Model Year=2011<br>Number of EV Vehicles=%{y}<extra></extra>\",\"ids\":[\"CHEVROLET\"],\"legendgroup\":\"CHEVROLET\",\"marker\":{\"color\":\"#636efa\",\"pattern\":{\"shape\":\"\"}},\"name\":\"CHEVROLET\",\"offsetgroup\":\"CHEVROLET\",\"orientation\":\"v\",\"showlegend\":true,\"textposition\":\"auto\",\"x\":[\"CHEVROLET\"],\"xaxis\":\"x\",\"y\":[71],\"yaxis\":\"y\",\"type\":\"bar\"},{\"alignmentgroup\":\"True\",\"hovertemplate\":\"EV Make=%{x}<br>Model Year=2011<br>Number of EV Vehicles=%{y}<extra></extra>\",\"ids\":[\"NISSAN\"],\"legendgroup\":\"NISSAN\",\"marker\":{\"color\":\"#EF553B\",\"pattern\":{\"shape\":\"\"}},\"name\":\"NISSAN\",\"offsetgroup\":\"NISSAN\",\"orientation\":\"v\",\"showlegend\":true,\"textposition\":\"auto\",\"x\":[\"NISSAN\"],\"xaxis\":\"x\",\"y\":[754],\"yaxis\":\"y\",\"type\":\"bar\"}],                        {\"template\":{\"data\":{\"barpolar\":[{\"marker\":{\"line\":{\"color\":\"rgb(17,17,17)\",\"width\":0.5},\"pattern\":{\"fillmode\":\"overlay\",\"size\":10,\"solidity\":0.2}},\"type\":\"barpolar\"}],\"bar\":[{\"error_x\":{\"color\":\"#f2f5fa\"},\"error_y\":{\"color\":\"#f2f5fa\"},\"marker\":{\"line\":{\"color\":\"rgb(17,17,17)\",\"width\":0.5},\"pattern\":{\"fillmode\":\"overlay\",\"size\":10,\"solidity\":0.2}},\"type\":\"bar\"}],\"carpet\":[{\"aaxis\":{\"endlinecolor\":\"#A2B1C6\",\"gridcolor\":\"#506784\",\"linecolor\":\"#506784\",\"minorgridcolor\":\"#506784\",\"startlinecolor\":\"#A2B1C6\"},\"baxis\":{\"endlinecolor\":\"#A2B1C6\",\"gridcolor\":\"#506784\",\"linecolor\":\"#506784\",\"minorgridcolor\":\"#506784\",\"startlinecolor\":\"#A2B1C6\"},\"type\":\"carpet\"}],\"choropleth\":[{\"colorbar\":{\"outlinewidth\":0,\"ticks\":\"\"},\"type\":\"choropleth\"}],\"contourcarpet\":[{\"colorbar\":{\"outlinewidth\":0,\"ticks\":\"\"},\"type\":\"contourcarpet\"}],\"contour\":[{\"colorbar\":{\"outlinewidth\":0,\"ticks\":\"\"},\"colorscale\":[[0.0,\"#0d0887\"],[0.1111111111111111,\"#46039f\"],[0.2222222222222222,\"#7201a8\"],[0.3333333333333333,\"#9c179e\"],[0.4444444444444444,\"#bd3786\"],[0.5555555555555556,\"#d8576b\"],[0.6666666666666666,\"#ed7953\"],[0.7777777777777778,\"#fb9f3a\"],[0.8888888888888888,\"#fdca26\"],[1.0,\"#f0f921\"]],\"type\":\"contour\"}],\"heatmapgl\":[{\"colorbar\":{\"outlinewidth\":0,\"ticks\":\"\"},\"colorscale\":[[0.0,\"#0d0887\"],[0.1111111111111111,\"#46039f\"],[0.2222222222222222,\"#7201a8\"],[0.3333333333333333,\"#9c179e\"],[0.4444444444444444,\"#bd3786\"],[0.5555555555555556,\"#d8576b\"],[0.6666666666666666,\"#ed7953\"],[0.7777777777777778,\"#fb9f3a\"],[0.8888888888888888,\"#fdca26\"],[1.0,\"#f0f921\"]],\"type\":\"heatmapgl\"}],\"heatmap\":[{\"colorbar\":{\"outlinewidth\":0,\"ticks\":\"\"},\"colorscale\":[[0.0,\"#0d0887\"],[0.1111111111111111,\"#46039f\"],[0.2222222222222222,\"#7201a8\"],[0.3333333333333333,\"#9c179e\"],[0.4444444444444444,\"#bd3786\"],[0.5555555555555556,\"#d8576b\"],[0.6666666666666666,\"#ed7953\"],[0.7777777777777778,\"#fb9f3a\"],[0.8888888888888888,\"#fdca26\"],[1.0,\"#f0f921\"]],\"type\":\"heatmap\"}],\"histogram2dcontour\":[{\"colorbar\":{\"outlinewidth\":0,\"ticks\":\"\"},\"colorscale\":[[0.0,\"#0d0887\"],[0.1111111111111111,\"#46039f\"],[0.2222222222222222,\"#7201a8\"],[0.3333333333333333,\"#9c179e\"],[0.4444444444444444,\"#bd3786\"],[0.5555555555555556,\"#d8576b\"],[0.6666666666666666,\"#ed7953\"],[0.7777777777777778,\"#fb9f3a\"],[0.8888888888888888,\"#fdca26\"],[1.0,\"#f0f921\"]],\"type\":\"histogram2dcontour\"}],\"histogram2d\":[{\"colorbar\":{\"outlinewidth\":0,\"ticks\":\"\"},\"colorscale\":[[0.0,\"#0d0887\"],[0.1111111111111111,\"#46039f\"],[0.2222222222222222,\"#7201a8\"],[0.3333333333333333,\"#9c179e\"],[0.4444444444444444,\"#bd3786\"],[0.5555555555555556,\"#d8576b\"],[0.6666666666666666,\"#ed7953\"],[0.7777777777777778,\"#fb9f3a\"],[0.8888888888888888,\"#fdca26\"],[1.0,\"#f0f921\"]],\"type\":\"histogram2d\"}],\"histogram\":[{\"marker\":{\"pattern\":{\"fillmode\":\"overlay\",\"size\":10,\"solidity\":0.2}},\"type\":\"histogram\"}],\"mesh3d\":[{\"colorbar\":{\"outlinewidth\":0,\"ticks\":\"\"},\"type\":\"mesh3d\"}],\"parcoords\":[{\"line\":{\"colorbar\":{\"outlinewidth\":0,\"ticks\":\"\"}},\"type\":\"parcoords\"}],\"pie\":[{\"automargin\":true,\"type\":\"pie\"}],\"scatter3d\":[{\"line\":{\"colorbar\":{\"outlinewidth\":0,\"ticks\":\"\"}},\"marker\":{\"colorbar\":{\"outlinewidth\":0,\"ticks\":\"\"}},\"type\":\"scatter3d\"}],\"scattercarpet\":[{\"marker\":{\"colorbar\":{\"outlinewidth\":0,\"ticks\":\"\"}},\"type\":\"scattercarpet\"}],\"scattergeo\":[{\"marker\":{\"colorbar\":{\"outlinewidth\":0,\"ticks\":\"\"}},\"type\":\"scattergeo\"}],\"scattergl\":[{\"marker\":{\"line\":{\"color\":\"#283442\"}},\"type\":\"scattergl\"}],\"scattermapbox\":[{\"marker\":{\"colorbar\":{\"outlinewidth\":0,\"ticks\":\"\"}},\"type\":\"scattermapbox\"}],\"scatterpolargl\":[{\"marker\":{\"colorbar\":{\"outlinewidth\":0,\"ticks\":\"\"}},\"type\":\"scatterpolargl\"}],\"scatterpolar\":[{\"marker\":{\"colorbar\":{\"outlinewidth\":0,\"ticks\":\"\"}},\"type\":\"scatterpolar\"}],\"scatter\":[{\"marker\":{\"line\":{\"color\":\"#283442\"}},\"type\":\"scatter\"}],\"scatterternary\":[{\"marker\":{\"colorbar\":{\"outlinewidth\":0,\"ticks\":\"\"}},\"type\":\"scatterternary\"}],\"surface\":[{\"colorbar\":{\"outlinewidth\":0,\"ticks\":\"\"},\"colorscale\":[[0.0,\"#0d0887\"],[0.1111111111111111,\"#46039f\"],[0.2222222222222222,\"#7201a8\"],[0.3333333333333333,\"#9c179e\"],[0.4444444444444444,\"#bd3786\"],[0.5555555555555556,\"#d8576b\"],[0.6666666666666666,\"#ed7953\"],[0.7777777777777778,\"#fb9f3a\"],[0.8888888888888888,\"#fdca26\"],[1.0,\"#f0f921\"]],\"type\":\"surface\"}],\"table\":[{\"cells\":{\"fill\":{\"color\":\"#506784\"},\"line\":{\"color\":\"rgb(17,17,17)\"}},\"header\":{\"fill\":{\"color\":\"#2a3f5f\"},\"line\":{\"color\":\"rgb(17,17,17)\"}},\"type\":\"table\"}]},\"layout\":{\"annotationdefaults\":{\"arrowcolor\":\"#f2f5fa\",\"arrowhead\":0,\"arrowwidth\":1},\"autotypenumbers\":\"strict\",\"coloraxis\":{\"colorbar\":{\"outlinewidth\":0,\"ticks\":\"\"}},\"colorscale\":{\"diverging\":[[0,\"#8e0152\"],[0.1,\"#c51b7d\"],[0.2,\"#de77ae\"],[0.3,\"#f1b6da\"],[0.4,\"#fde0ef\"],[0.5,\"#f7f7f7\"],[0.6,\"#e6f5d0\"],[0.7,\"#b8e186\"],[0.8,\"#7fbc41\"],[0.9,\"#4d9221\"],[1,\"#276419\"]],\"sequential\":[[0.0,\"#0d0887\"],[0.1111111111111111,\"#46039f\"],[0.2222222222222222,\"#7201a8\"],[0.3333333333333333,\"#9c179e\"],[0.4444444444444444,\"#bd3786\"],[0.5555555555555556,\"#d8576b\"],[0.6666666666666666,\"#ed7953\"],[0.7777777777777778,\"#fb9f3a\"],[0.8888888888888888,\"#fdca26\"],[1.0,\"#f0f921\"]],\"sequentialminus\":[[0.0,\"#0d0887\"],[0.1111111111111111,\"#46039f\"],[0.2222222222222222,\"#7201a8\"],[0.3333333333333333,\"#9c179e\"],[0.4444444444444444,\"#bd3786\"],[0.5555555555555556,\"#d8576b\"],[0.6666666666666666,\"#ed7953\"],[0.7777777777777778,\"#fb9f3a\"],[0.8888888888888888,\"#fdca26\"],[1.0,\"#f0f921\"]]},\"colorway\":[\"#636efa\",\"#EF553B\",\"#00cc96\",\"#ab63fa\",\"#FFA15A\",\"#19d3f3\",\"#FF6692\",\"#B6E880\",\"#FF97FF\",\"#FECB52\"],\"font\":{\"color\":\"#f2f5fa\"},\"geo\":{\"bgcolor\":\"rgb(17,17,17)\",\"lakecolor\":\"rgb(17,17,17)\",\"landcolor\":\"rgb(17,17,17)\",\"showlakes\":true,\"showland\":true,\"subunitcolor\":\"#506784\"},\"hoverlabel\":{\"align\":\"left\"},\"hovermode\":\"closest\",\"mapbox\":{\"style\":\"dark\"},\"paper_bgcolor\":\"rgb(17,17,17)\",\"plot_bgcolor\":\"rgb(17,17,17)\",\"polar\":{\"angularaxis\":{\"gridcolor\":\"#506784\",\"linecolor\":\"#506784\",\"ticks\":\"\"},\"bgcolor\":\"rgb(17,17,17)\",\"radialaxis\":{\"gridcolor\":\"#506784\",\"linecolor\":\"#506784\",\"ticks\":\"\"}},\"scene\":{\"xaxis\":{\"backgroundcolor\":\"rgb(17,17,17)\",\"gridcolor\":\"#506784\",\"gridwidth\":2,\"linecolor\":\"#506784\",\"showbackground\":true,\"ticks\":\"\",\"zerolinecolor\":\"#C8D4E3\"},\"yaxis\":{\"backgroundcolor\":\"rgb(17,17,17)\",\"gridcolor\":\"#506784\",\"gridwidth\":2,\"linecolor\":\"#506784\",\"showbackground\":true,\"ticks\":\"\",\"zerolinecolor\":\"#C8D4E3\"},\"zaxis\":{\"backgroundcolor\":\"rgb(17,17,17)\",\"gridcolor\":\"#506784\",\"gridwidth\":2,\"linecolor\":\"#506784\",\"showbackground\":true,\"ticks\":\"\",\"zerolinecolor\":\"#C8D4E3\"}},\"shapedefaults\":{\"line\":{\"color\":\"#f2f5fa\"}},\"sliderdefaults\":{\"bgcolor\":\"#C8D4E3\",\"bordercolor\":\"rgb(17,17,17)\",\"borderwidth\":1,\"tickwidth\":0},\"ternary\":{\"aaxis\":{\"gridcolor\":\"#506784\",\"linecolor\":\"#506784\",\"ticks\":\"\"},\"baxis\":{\"gridcolor\":\"#506784\",\"linecolor\":\"#506784\",\"ticks\":\"\"},\"bgcolor\":\"rgb(17,17,17)\",\"caxis\":{\"gridcolor\":\"#506784\",\"linecolor\":\"#506784\",\"ticks\":\"\"}},\"title\":{\"x\":0.05},\"updatemenudefaults\":{\"bgcolor\":\"#506784\",\"borderwidth\":0},\"xaxis\":{\"automargin\":true,\"gridcolor\":\"#283442\",\"linecolor\":\"#506784\",\"ticks\":\"\",\"title\":{\"standoff\":15},\"zerolinecolor\":\"#283442\",\"zerolinewidth\":2},\"yaxis\":{\"automargin\":true,\"gridcolor\":\"#283442\",\"linecolor\":\"#506784\",\"ticks\":\"\",\"title\":{\"standoff\":15},\"zerolinecolor\":\"#283442\",\"zerolinewidth\":2}}},\"xaxis\":{\"anchor\":\"y\",\"domain\":[0.0,1.0],\"title\":{\"text\":\"EV Make\"},\"categoryorder\":\"total descending\",\"categoryarray\":[\"CHEVROLET\",\"NISSAN\",\"TESLA\",\"TOYOTA\",\"KIA\",\"VOLVO\"]},\"yaxis\":{\"anchor\":\"x\",\"domain\":[0.0,1.0],\"title\":{\"text\":\"EV Count\"},\"range\":[0,14625]},\"legend\":{\"title\":{\"text\":\"EV Make\"},\"tracegroupgap\":0},\"title\":{\"text\":\"EV Make Count Over Years\"},\"barmode\":\"relative\",\"updatemenus\":[{\"buttons\":[{\"args\":[null,{\"frame\":{\"duration\":500,\"redraw\":true},\"mode\":\"immediate\",\"fromcurrent\":true,\"transition\":{\"duration\":500,\"easing\":\"linear\"}}],\"label\":\"&#9654;\",\"method\":\"animate\"},{\"args\":[[null],{\"frame\":{\"duration\":0,\"redraw\":true},\"mode\":\"immediate\",\"fromcurrent\":true,\"transition\":{\"duration\":0,\"easing\":\"linear\"}}],\"label\":\"&#9724;\",\"method\":\"animate\"}],\"direction\":\"left\",\"pad\":{\"r\":10,\"t\":70},\"showactive\":false,\"type\":\"buttons\",\"x\":0.1,\"xanchor\":\"right\",\"y\":0,\"yanchor\":\"top\"}],\"sliders\":[{\"active\":0,\"currentvalue\":{\"prefix\":\"Model Year=\"},\"len\":0.9,\"pad\":{\"b\":10,\"t\":60},\"steps\":[{\"args\":[[\"2011\"],{\"frame\":{\"duration\":0,\"redraw\":true},\"mode\":\"immediate\",\"fromcurrent\":true,\"transition\":{\"duration\":0,\"easing\":\"linear\"}}],\"label\":\"2011\",\"method\":\"animate\"},{\"args\":[[\"2012\"],{\"frame\":{\"duration\":0,\"redraw\":true},\"mode\":\"immediate\",\"fromcurrent\":true,\"transition\":{\"duration\":0,\"easing\":\"linear\"}}],\"label\":\"2012\",\"method\":\"animate\"},{\"args\":[[\"2013\"],{\"frame\":{\"duration\":0,\"redraw\":true},\"mode\":\"immediate\",\"fromcurrent\":true,\"transition\":{\"duration\":0,\"easing\":\"linear\"}}],\"label\":\"2013\",\"method\":\"animate\"},{\"args\":[[\"2014\"],{\"frame\":{\"duration\":0,\"redraw\":true},\"mode\":\"immediate\",\"fromcurrent\":true,\"transition\":{\"duration\":0,\"easing\":\"linear\"}}],\"label\":\"2014\",\"method\":\"animate\"},{\"args\":[[\"2015\"],{\"frame\":{\"duration\":0,\"redraw\":true},\"mode\":\"immediate\",\"fromcurrent\":true,\"transition\":{\"duration\":0,\"easing\":\"linear\"}}],\"label\":\"2015\",\"method\":\"animate\"},{\"args\":[[\"2016\"],{\"frame\":{\"duration\":0,\"redraw\":true},\"mode\":\"immediate\",\"fromcurrent\":true,\"transition\":{\"duration\":0,\"easing\":\"linear\"}}],\"label\":\"2016\",\"method\":\"animate\"},{\"args\":[[\"2017\"],{\"frame\":{\"duration\":0,\"redraw\":true},\"mode\":\"immediate\",\"fromcurrent\":true,\"transition\":{\"duration\":0,\"easing\":\"linear\"}}],\"label\":\"2017\",\"method\":\"animate\"},{\"args\":[[\"2018\"],{\"frame\":{\"duration\":0,\"redraw\":true},\"mode\":\"immediate\",\"fromcurrent\":true,\"transition\":{\"duration\":0,\"easing\":\"linear\"}}],\"label\":\"2018\",\"method\":\"animate\"},{\"args\":[[\"2019\"],{\"frame\":{\"duration\":0,\"redraw\":true},\"mode\":\"immediate\",\"fromcurrent\":true,\"transition\":{\"duration\":0,\"easing\":\"linear\"}}],\"label\":\"2019\",\"method\":\"animate\"},{\"args\":[[\"2020\"],{\"frame\":{\"duration\":0,\"redraw\":true},\"mode\":\"immediate\",\"fromcurrent\":true,\"transition\":{\"duration\":0,\"easing\":\"linear\"}}],\"label\":\"2020\",\"method\":\"animate\"},{\"args\":[[\"2021\"],{\"frame\":{\"duration\":0,\"redraw\":true},\"mode\":\"immediate\",\"fromcurrent\":true,\"transition\":{\"duration\":0,\"easing\":\"linear\"}}],\"label\":\"2021\",\"method\":\"animate\"},{\"args\":[[\"2022\"],{\"frame\":{\"duration\":0,\"redraw\":true},\"mode\":\"immediate\",\"fromcurrent\":true,\"transition\":{\"duration\":0,\"easing\":\"linear\"}}],\"label\":\"2022\",\"method\":\"animate\"},{\"args\":[[\"2023\"],{\"frame\":{\"duration\":0,\"redraw\":true},\"mode\":\"immediate\",\"fromcurrent\":true,\"transition\":{\"duration\":0,\"easing\":\"linear\"}}],\"label\":\"2023\",\"method\":\"animate\"}],\"x\":0.1,\"xanchor\":\"left\",\"y\":0,\"yanchor\":\"top\"}],\"showlegend\":false},                        {\"responsive\": true}                    ).then(function(){\n",
       "                            Plotly.addFrames('a9c05b23-7096-4bd7-9c21-232b73f9fb52', [{\"data\":[{\"alignmentgroup\":\"True\",\"hovertemplate\":\"EV Make=%{x}<br>Model Year=2011<br>Number of EV Vehicles=%{y}<extra></extra>\",\"ids\":[\"CHEVROLET\"],\"legendgroup\":\"CHEVROLET\",\"marker\":{\"color\":\"#636efa\",\"pattern\":{\"shape\":\"\"}},\"name\":\"CHEVROLET\",\"offsetgroup\":\"CHEVROLET\",\"orientation\":\"v\",\"showlegend\":true,\"textposition\":\"auto\",\"x\":[\"CHEVROLET\"],\"xaxis\":\"x\",\"y\":[71],\"yaxis\":\"y\",\"type\":\"bar\"},{\"alignmentgroup\":\"True\",\"hovertemplate\":\"EV Make=%{x}<br>Model Year=2011<br>Number of EV Vehicles=%{y}<extra></extra>\",\"ids\":[\"NISSAN\"],\"legendgroup\":\"NISSAN\",\"marker\":{\"color\":\"#EF553B\",\"pattern\":{\"shape\":\"\"}},\"name\":\"NISSAN\",\"offsetgroup\":\"NISSAN\",\"orientation\":\"v\",\"showlegend\":true,\"textposition\":\"auto\",\"x\":[\"NISSAN\"],\"xaxis\":\"x\",\"y\":[754],\"yaxis\":\"y\",\"type\":\"bar\"}],\"name\":\"2011\"},{\"data\":[{\"alignmentgroup\":\"True\",\"hovertemplate\":\"EV Make=%{x}<br>Model Year=2012<br>Number of EV Vehicles=%{y}<extra></extra>\",\"ids\":[\"CHEVROLET\"],\"legendgroup\":\"CHEVROLET\",\"marker\":{\"color\":\"#636efa\",\"pattern\":{\"shape\":\"\"}},\"name\":\"CHEVROLET\",\"offsetgroup\":\"CHEVROLET\",\"orientation\":\"v\",\"showlegend\":true,\"textposition\":\"auto\",\"x\":[\"CHEVROLET\"],\"xaxis\":\"x\",\"y\":[496],\"yaxis\":\"y\",\"type\":\"bar\"},{\"alignmentgroup\":\"True\",\"hovertemplate\":\"EV Make=%{x}<br>Model Year=2012<br>Number of EV Vehicles=%{y}<extra></extra>\",\"ids\":[\"NISSAN\"],\"legendgroup\":\"NISSAN\",\"marker\":{\"color\":\"#EF553B\",\"pattern\":{\"shape\":\"\"}},\"name\":\"NISSAN\",\"offsetgroup\":\"NISSAN\",\"orientation\":\"v\",\"showlegend\":true,\"textposition\":\"auto\",\"x\":[\"NISSAN\"],\"xaxis\":\"x\",\"y\":[610],\"yaxis\":\"y\",\"type\":\"bar\"},{\"alignmentgroup\":\"True\",\"hovertemplate\":\"EV Make=%{x}<br>Model Year=2012<br>Number of EV Vehicles=%{y}<extra></extra>\",\"ids\":[\"TESLA\"],\"legendgroup\":\"TESLA\",\"marker\":{\"color\":\"#00cc96\",\"pattern\":{\"shape\":\"\"}},\"name\":\"TESLA\",\"offsetgroup\":\"TESLA\",\"orientation\":\"v\",\"showlegend\":true,\"textposition\":\"auto\",\"x\":[\"TESLA\"],\"xaxis\":\"x\",\"y\":[134],\"yaxis\":\"y\",\"type\":\"bar\"}],\"name\":\"2012\"},{\"data\":[{\"alignmentgroup\":\"True\",\"hovertemplate\":\"EV Make=%{x}<br>Model Year=2013<br>Number of EV Vehicles=%{y}<extra></extra>\",\"ids\":[\"CHEVROLET\"],\"legendgroup\":\"CHEVROLET\",\"marker\":{\"color\":\"#636efa\",\"pattern\":{\"shape\":\"\"}},\"name\":\"CHEVROLET\",\"offsetgroup\":\"CHEVROLET\",\"orientation\":\"v\",\"showlegend\":true,\"textposition\":\"auto\",\"x\":[\"CHEVROLET\"],\"xaxis\":\"x\",\"y\":[816],\"yaxis\":\"y\",\"type\":\"bar\"},{\"alignmentgroup\":\"True\",\"hovertemplate\":\"EV Make=%{x}<br>Model Year=2013<br>Number of EV Vehicles=%{y}<extra></extra>\",\"ids\":[\"NISSAN\"],\"legendgroup\":\"NISSAN\",\"marker\":{\"color\":\"#EF553B\",\"pattern\":{\"shape\":\"\"}},\"name\":\"NISSAN\",\"offsetgroup\":\"NISSAN\",\"orientation\":\"v\",\"showlegend\":true,\"textposition\":\"auto\",\"x\":[\"NISSAN\"],\"xaxis\":\"x\",\"y\":[1964],\"yaxis\":\"y\",\"type\":\"bar\"},{\"alignmentgroup\":\"True\",\"hovertemplate\":\"EV Make=%{x}<br>Model Year=2013<br>Number of EV Vehicles=%{y}<extra></extra>\",\"ids\":[\"TESLA\"],\"legendgroup\":\"TESLA\",\"marker\":{\"color\":\"#00cc96\",\"pattern\":{\"shape\":\"\"}},\"name\":\"TESLA\",\"offsetgroup\":\"TESLA\",\"orientation\":\"v\",\"showlegend\":true,\"textposition\":\"auto\",\"x\":[\"TESLA\"],\"xaxis\":\"x\",\"y\":[812],\"yaxis\":\"y\",\"type\":\"bar\"}],\"name\":\"2013\"},{\"data\":[{\"alignmentgroup\":\"True\",\"hovertemplate\":\"EV Make=%{x}<br>Model Year=2014<br>Number of EV Vehicles=%{y}<extra></extra>\",\"ids\":[\"CHEVROLET\"],\"legendgroup\":\"CHEVROLET\",\"marker\":{\"color\":\"#636efa\",\"pattern\":{\"shape\":\"\"}},\"name\":\"CHEVROLET\",\"offsetgroup\":\"CHEVROLET\",\"orientation\":\"v\",\"showlegend\":true,\"textposition\":\"auto\",\"x\":[\"CHEVROLET\"],\"xaxis\":\"x\",\"y\":[665],\"yaxis\":\"y\",\"type\":\"bar\"},{\"alignmentgroup\":\"True\",\"hovertemplate\":\"EV Make=%{x}<br>Model Year=2014<br>Number of EV Vehicles=%{y}<extra></extra>\",\"ids\":[\"NISSAN\"],\"legendgroup\":\"NISSAN\",\"marker\":{\"color\":\"#EF553B\",\"pattern\":{\"shape\":\"\"}},\"name\":\"NISSAN\",\"offsetgroup\":\"NISSAN\",\"orientation\":\"v\",\"showlegend\":true,\"textposition\":\"auto\",\"x\":[\"NISSAN\"],\"xaxis\":\"x\",\"y\":[692],\"yaxis\":\"y\",\"type\":\"bar\"},{\"alignmentgroup\":\"True\",\"hovertemplate\":\"EV Make=%{x}<br>Model Year=2014<br>Number of EV Vehicles=%{y}<extra></extra>\",\"ids\":[\"TESLA\"],\"legendgroup\":\"TESLA\",\"marker\":{\"color\":\"#00cc96\",\"pattern\":{\"shape\":\"\"}},\"name\":\"TESLA\",\"offsetgroup\":\"TESLA\",\"orientation\":\"v\",\"showlegend\":true,\"textposition\":\"auto\",\"x\":[\"TESLA\"],\"xaxis\":\"x\",\"y\":[683],\"yaxis\":\"y\",\"type\":\"bar\"}],\"name\":\"2014\"},{\"data\":[{\"alignmentgroup\":\"True\",\"hovertemplate\":\"EV Make=%{x}<br>Model Year=2015<br>Number of EV Vehicles=%{y}<extra></extra>\",\"ids\":[\"CHEVROLET\"],\"legendgroup\":\"CHEVROLET\",\"marker\":{\"color\":\"#636efa\",\"pattern\":{\"shape\":\"\"}},\"name\":\"CHEVROLET\",\"offsetgroup\":\"CHEVROLET\",\"orientation\":\"v\",\"showlegend\":true,\"textposition\":\"auto\",\"x\":[\"CHEVROLET\"],\"xaxis\":\"x\",\"y\":[367],\"yaxis\":\"y\",\"type\":\"bar\"},{\"alignmentgroup\":\"True\",\"hovertemplate\":\"EV Make=%{x}<br>Model Year=2015<br>Number of EV Vehicles=%{y}<extra></extra>\",\"ids\":[\"NISSAN\"],\"legendgroup\":\"NISSAN\",\"marker\":{\"color\":\"#EF553B\",\"pattern\":{\"shape\":\"\"}},\"name\":\"NISSAN\",\"offsetgroup\":\"NISSAN\",\"orientation\":\"v\",\"showlegend\":true,\"textposition\":\"auto\",\"x\":[\"NISSAN\"],\"xaxis\":\"x\",\"y\":[1837],\"yaxis\":\"y\",\"type\":\"bar\"},{\"alignmentgroup\":\"True\",\"hovertemplate\":\"EV Make=%{x}<br>Model Year=2015<br>Number of EV Vehicles=%{y}<extra></extra>\",\"ids\":[\"TESLA\"],\"legendgroup\":\"TESLA\",\"marker\":{\"color\":\"#00cc96\",\"pattern\":{\"shape\":\"\"}},\"name\":\"TESLA\",\"offsetgroup\":\"TESLA\",\"orientation\":\"v\",\"showlegend\":true,\"textposition\":\"auto\",\"x\":[\"TESLA\"],\"xaxis\":\"x\",\"y\":[1086],\"yaxis\":\"y\",\"type\":\"bar\"}],\"name\":\"2015\"},{\"data\":[{\"alignmentgroup\":\"True\",\"hovertemplate\":\"EV Make=%{x}<br>Model Year=2016<br>Number of EV Vehicles=%{y}<extra></extra>\",\"ids\":[\"CHEVROLET\"],\"legendgroup\":\"CHEVROLET\",\"marker\":{\"color\":\"#636efa\",\"pattern\":{\"shape\":\"\"}},\"name\":\"CHEVROLET\",\"offsetgroup\":\"CHEVROLET\",\"orientation\":\"v\",\"showlegend\":true,\"textposition\":\"auto\",\"x\":[\"CHEVROLET\"],\"xaxis\":\"x\",\"y\":[215],\"yaxis\":\"y\",\"type\":\"bar\"},{\"alignmentgroup\":\"True\",\"hovertemplate\":\"EV Make=%{x}<br>Model Year=2016<br>Number of EV Vehicles=%{y}<extra></extra>\",\"ids\":[\"NISSAN\"],\"legendgroup\":\"NISSAN\",\"marker\":{\"color\":\"#EF553B\",\"pattern\":{\"shape\":\"\"}},\"name\":\"NISSAN\",\"offsetgroup\":\"NISSAN\",\"orientation\":\"v\",\"showlegend\":true,\"textposition\":\"auto\",\"x\":[\"NISSAN\"],\"xaxis\":\"x\",\"y\":[1208],\"yaxis\":\"y\",\"type\":\"bar\"},{\"alignmentgroup\":\"True\",\"hovertemplate\":\"EV Make=%{x}<br>Model Year=2016<br>Number of EV Vehicles=%{y}<extra></extra>\",\"ids\":[\"TESLA\"],\"legendgroup\":\"TESLA\",\"marker\":{\"color\":\"#00cc96\",\"pattern\":{\"shape\":\"\"}},\"name\":\"TESLA\",\"offsetgroup\":\"TESLA\",\"orientation\":\"v\",\"showlegend\":true,\"textposition\":\"auto\",\"x\":[\"TESLA\"],\"xaxis\":\"x\",\"y\":[1633],\"yaxis\":\"y\",\"type\":\"bar\"}],\"name\":\"2016\"},{\"data\":[{\"alignmentgroup\":\"True\",\"hovertemplate\":\"EV Make=%{x}<br>Model Year=2017<br>Number of EV Vehicles=%{y}<extra></extra>\",\"ids\":[\"CHEVROLET\"],\"legendgroup\":\"CHEVROLET\",\"marker\":{\"color\":\"#636efa\",\"pattern\":{\"shape\":\"\"}},\"name\":\"CHEVROLET\",\"offsetgroup\":\"CHEVROLET\",\"orientation\":\"v\",\"showlegend\":true,\"textposition\":\"auto\",\"x\":[\"CHEVROLET\"],\"xaxis\":\"x\",\"y\":[2740],\"yaxis\":\"y\",\"type\":\"bar\"},{\"alignmentgroup\":\"True\",\"hovertemplate\":\"EV Make=%{x}<br>Model Year=2017<br>Number of EV Vehicles=%{y}<extra></extra>\",\"ids\":[\"NISSAN\"],\"legendgroup\":\"NISSAN\",\"marker\":{\"color\":\"#EF553B\",\"pattern\":{\"shape\":\"\"}},\"name\":\"NISSAN\",\"offsetgroup\":\"NISSAN\",\"orientation\":\"v\",\"showlegend\":true,\"textposition\":\"auto\",\"x\":[\"NISSAN\"],\"xaxis\":\"x\",\"y\":[933],\"yaxis\":\"y\",\"type\":\"bar\"},{\"alignmentgroup\":\"True\",\"hovertemplate\":\"EV Make=%{x}<br>Model Year=2017<br>Number of EV Vehicles=%{y}<extra></extra>\",\"ids\":[\"TESLA\"],\"legendgroup\":\"TESLA\",\"marker\":{\"color\":\"#00cc96\",\"pattern\":{\"shape\":\"\"}},\"name\":\"TESLA\",\"offsetgroup\":\"TESLA\",\"orientation\":\"v\",\"showlegend\":true,\"textposition\":\"auto\",\"x\":[\"TESLA\"],\"xaxis\":\"x\",\"y\":[1675],\"yaxis\":\"y\",\"type\":\"bar\"},{\"alignmentgroup\":\"True\",\"hovertemplate\":\"EV Make=%{x}<br>Model Year=2017<br>Number of EV Vehicles=%{y}<extra></extra>\",\"ids\":[\"TOYOTA\"],\"legendgroup\":\"TOYOTA\",\"marker\":{\"color\":\"#ab63fa\",\"pattern\":{\"shape\":\"\"}},\"name\":\"TOYOTA\",\"offsetgroup\":\"TOYOTA\",\"orientation\":\"v\",\"showlegend\":true,\"textposition\":\"auto\",\"x\":[\"TOYOTA\"],\"xaxis\":\"x\",\"y\":[895],\"yaxis\":\"y\",\"type\":\"bar\"}],\"name\":\"2017\"},{\"data\":[{\"alignmentgroup\":\"True\",\"hovertemplate\":\"EV Make=%{x}<br>Model Year=2018<br>Number of EV Vehicles=%{y}<extra></extra>\",\"ids\":[\"CHEVROLET\"],\"legendgroup\":\"CHEVROLET\",\"marker\":{\"color\":\"#636efa\",\"pattern\":{\"shape\":\"\"}},\"name\":\"CHEVROLET\",\"offsetgroup\":\"CHEVROLET\",\"orientation\":\"v\",\"showlegend\":true,\"textposition\":\"auto\",\"x\":[\"CHEVROLET\"],\"xaxis\":\"x\",\"y\":[1122],\"yaxis\":\"y\",\"type\":\"bar\"},{\"alignmentgroup\":\"True\",\"hovertemplate\":\"EV Make=%{x}<br>Model Year=2018<br>Number of EV Vehicles=%{y}<extra></extra>\",\"ids\":[\"NISSAN\"],\"legendgroup\":\"NISSAN\",\"marker\":{\"color\":\"#EF553B\",\"pattern\":{\"shape\":\"\"}},\"name\":\"NISSAN\",\"offsetgroup\":\"NISSAN\",\"orientation\":\"v\",\"showlegend\":true,\"textposition\":\"auto\",\"x\":[\"NISSAN\"],\"xaxis\":\"x\",\"y\":[1230],\"yaxis\":\"y\",\"type\":\"bar\"},{\"alignmentgroup\":\"True\",\"hovertemplate\":\"EV Make=%{x}<br>Model Year=2018<br>Number of EV Vehicles=%{y}<extra></extra>\",\"ids\":[\"TESLA\"],\"legendgroup\":\"TESLA\",\"marker\":{\"color\":\"#00cc96\",\"pattern\":{\"shape\":\"\"}},\"name\":\"TESLA\",\"offsetgroup\":\"TESLA\",\"orientation\":\"v\",\"showlegend\":true,\"textposition\":\"auto\",\"x\":[\"TESLA\"],\"xaxis\":\"x\",\"y\":[7901],\"yaxis\":\"y\",\"type\":\"bar\"},{\"alignmentgroup\":\"True\",\"hovertemplate\":\"EV Make=%{x}<br>Model Year=2018<br>Number of EV Vehicles=%{y}<extra></extra>\",\"ids\":[\"TOYOTA\"],\"legendgroup\":\"TOYOTA\",\"marker\":{\"color\":\"#ab63fa\",\"pattern\":{\"shape\":\"\"}},\"name\":\"TOYOTA\",\"offsetgroup\":\"TOYOTA\",\"orientation\":\"v\",\"showlegend\":true,\"textposition\":\"auto\",\"x\":[\"TOYOTA\"],\"xaxis\":\"x\",\"y\":[659],\"yaxis\":\"y\",\"type\":\"bar\"},{\"alignmentgroup\":\"True\",\"hovertemplate\":\"EV Make=%{x}<br>Model Year=2018<br>Number of EV Vehicles=%{y}<extra></extra>\",\"ids\":[\"KIA\"],\"legendgroup\":\"KIA\",\"marker\":{\"color\":\"#FFA15A\",\"pattern\":{\"shape\":\"\"}},\"name\":\"KIA\",\"offsetgroup\":\"KIA\",\"orientation\":\"v\",\"showlegend\":true,\"textposition\":\"auto\",\"x\":[\"KIA\"],\"xaxis\":\"x\",\"y\":[203],\"yaxis\":\"y\",\"type\":\"bar\"}],\"name\":\"2018\"},{\"data\":[{\"alignmentgroup\":\"True\",\"hovertemplate\":\"EV Make=%{x}<br>Model Year=2019<br>Number of EV Vehicles=%{y}<extra></extra>\",\"ids\":[\"CHEVROLET\"],\"legendgroup\":\"CHEVROLET\",\"marker\":{\"color\":\"#636efa\",\"pattern\":{\"shape\":\"\"}},\"name\":\"CHEVROLET\",\"offsetgroup\":\"CHEVROLET\",\"orientation\":\"v\",\"showlegend\":true,\"textposition\":\"auto\",\"x\":[\"CHEVROLET\"],\"xaxis\":\"x\",\"y\":[966],\"yaxis\":\"y\",\"type\":\"bar\"},{\"alignmentgroup\":\"True\",\"hovertemplate\":\"EV Make=%{x}<br>Model Year=2019<br>Number of EV Vehicles=%{y}<extra></extra>\",\"ids\":[\"NISSAN\"],\"legendgroup\":\"NISSAN\",\"marker\":{\"color\":\"#EF553B\",\"pattern\":{\"shape\":\"\"}},\"name\":\"NISSAN\",\"offsetgroup\":\"NISSAN\",\"orientation\":\"v\",\"showlegend\":true,\"textposition\":\"auto\",\"x\":[\"NISSAN\"],\"xaxis\":\"x\",\"y\":[1406],\"yaxis\":\"y\",\"type\":\"bar\"},{\"alignmentgroup\":\"True\",\"hovertemplate\":\"EV Make=%{x}<br>Model Year=2019<br>Number of EV Vehicles=%{y}<extra></extra>\",\"ids\":[\"TESLA\"],\"legendgroup\":\"TESLA\",\"marker\":{\"color\":\"#00cc96\",\"pattern\":{\"shape\":\"\"}},\"name\":\"TESLA\",\"offsetgroup\":\"TESLA\",\"orientation\":\"v\",\"showlegend\":true,\"textposition\":\"auto\",\"x\":[\"TESLA\"],\"xaxis\":\"x\",\"y\":[4571],\"yaxis\":\"y\",\"type\":\"bar\"},{\"alignmentgroup\":\"True\",\"hovertemplate\":\"EV Make=%{x}<br>Model Year=2019<br>Number of EV Vehicles=%{y}<extra></extra>\",\"ids\":[\"TOYOTA\"],\"legendgroup\":\"TOYOTA\",\"marker\":{\"color\":\"#ab63fa\",\"pattern\":{\"shape\":\"\"}},\"name\":\"TOYOTA\",\"offsetgroup\":\"TOYOTA\",\"orientation\":\"v\",\"showlegend\":true,\"textposition\":\"auto\",\"x\":[\"TOYOTA\"],\"xaxis\":\"x\",\"y\":[189],\"yaxis\":\"y\",\"type\":\"bar\"},{\"alignmentgroup\":\"True\",\"hovertemplate\":\"EV Make=%{x}<br>Model Year=2019<br>Number of EV Vehicles=%{y}<extra></extra>\",\"ids\":[\"KIA\"],\"legendgroup\":\"KIA\",\"marker\":{\"color\":\"#FFA15A\",\"pattern\":{\"shape\":\"\"}},\"name\":\"KIA\",\"offsetgroup\":\"KIA\",\"orientation\":\"v\",\"showlegend\":true,\"textposition\":\"auto\",\"x\":[\"KIA\"],\"xaxis\":\"x\",\"y\":[676],\"yaxis\":\"y\",\"type\":\"bar\"}],\"name\":\"2019\"},{\"data\":[{\"alignmentgroup\":\"True\",\"hovertemplate\":\"EV Make=%{x}<br>Model Year=2020<br>Number of EV Vehicles=%{y}<extra></extra>\",\"ids\":[\"CHEVROLET\"],\"legendgroup\":\"CHEVROLET\",\"marker\":{\"color\":\"#636efa\",\"pattern\":{\"shape\":\"\"}},\"name\":\"CHEVROLET\",\"offsetgroup\":\"CHEVROLET\",\"orientation\":\"v\",\"showlegend\":true,\"textposition\":\"auto\",\"x\":[\"CHEVROLET\"],\"xaxis\":\"x\",\"y\":[1013],\"yaxis\":\"y\",\"type\":\"bar\"},{\"alignmentgroup\":\"True\",\"hovertemplate\":\"EV Make=%{x}<br>Model Year=2020<br>Number of EV Vehicles=%{y}<extra></extra>\",\"ids\":[\"NISSAN\"],\"legendgroup\":\"NISSAN\",\"marker\":{\"color\":\"#EF553B\",\"pattern\":{\"shape\":\"\"}},\"name\":\"NISSAN\",\"offsetgroup\":\"NISSAN\",\"orientation\":\"v\",\"showlegend\":true,\"textposition\":\"auto\",\"x\":[\"NISSAN\"],\"xaxis\":\"x\",\"y\":[580],\"yaxis\":\"y\",\"type\":\"bar\"},{\"alignmentgroup\":\"True\",\"hovertemplate\":\"EV Make=%{x}<br>Model Year=2020<br>Number of EV Vehicles=%{y}<extra></extra>\",\"ids\":[\"TESLA\"],\"legendgroup\":\"TESLA\",\"marker\":{\"color\":\"#00cc96\",\"pattern\":{\"shape\":\"\"}},\"name\":\"TESLA\",\"offsetgroup\":\"TESLA\",\"orientation\":\"v\",\"showlegend\":true,\"textposition\":\"auto\",\"x\":[\"TESLA\"],\"xaxis\":\"x\",\"y\":[7000],\"yaxis\":\"y\",\"type\":\"bar\"},{\"alignmentgroup\":\"True\",\"hovertemplate\":\"EV Make=%{x}<br>Model Year=2020<br>Number of EV Vehicles=%{y}<extra></extra>\",\"ids\":[\"TOYOTA\"],\"legendgroup\":\"TOYOTA\",\"marker\":{\"color\":\"#ab63fa\",\"pattern\":{\"shape\":\"\"}},\"name\":\"TOYOTA\",\"offsetgroup\":\"TOYOTA\",\"orientation\":\"v\",\"showlegend\":true,\"textposition\":\"auto\",\"x\":[\"TOYOTA\"],\"xaxis\":\"x\",\"y\":[310],\"yaxis\":\"y\",\"type\":\"bar\"},{\"alignmentgroup\":\"True\",\"hovertemplate\":\"EV Make=%{x}<br>Model Year=2020<br>Number of EV Vehicles=%{y}<extra></extra>\",\"ids\":[\"KIA\"],\"legendgroup\":\"KIA\",\"marker\":{\"color\":\"#FFA15A\",\"pattern\":{\"shape\":\"\"}},\"name\":\"KIA\",\"offsetgroup\":\"KIA\",\"orientation\":\"v\",\"showlegend\":true,\"textposition\":\"auto\",\"x\":[\"KIA\"],\"xaxis\":\"x\",\"y\":[521],\"yaxis\":\"y\",\"type\":\"bar\"}],\"name\":\"2020\"},{\"data\":[{\"alignmentgroup\":\"True\",\"hovertemplate\":\"EV Make=%{x}<br>Model Year=2021<br>Number of EV Vehicles=%{y}<extra></extra>\",\"ids\":[\"CHEVROLET\"],\"legendgroup\":\"CHEVROLET\",\"marker\":{\"color\":\"#636efa\",\"pattern\":{\"shape\":\"\"}},\"name\":\"CHEVROLET\",\"offsetgroup\":\"CHEVROLET\",\"orientation\":\"v\",\"showlegend\":true,\"textposition\":\"auto\",\"x\":[\"CHEVROLET\"],\"xaxis\":\"x\",\"y\":[376],\"yaxis\":\"y\",\"type\":\"bar\"},{\"alignmentgroup\":\"True\",\"hovertemplate\":\"EV Make=%{x}<br>Model Year=2021<br>Number of EV Vehicles=%{y}<extra></extra>\",\"ids\":[\"NISSAN\"],\"legendgroup\":\"NISSAN\",\"marker\":{\"color\":\"#EF553B\",\"pattern\":{\"shape\":\"\"}},\"name\":\"NISSAN\",\"offsetgroup\":\"NISSAN\",\"orientation\":\"v\",\"showlegend\":true,\"textposition\":\"auto\",\"x\":[\"NISSAN\"],\"xaxis\":\"x\",\"y\":[533],\"yaxis\":\"y\",\"type\":\"bar\"},{\"alignmentgroup\":\"True\",\"hovertemplate\":\"EV Make=%{x}<br>Model Year=2021<br>Number of EV Vehicles=%{y}<extra></extra>\",\"ids\":[\"TESLA\"],\"legendgroup\":\"TESLA\",\"marker\":{\"color\":\"#00cc96\",\"pattern\":{\"shape\":\"\"}},\"name\":\"TESLA\",\"offsetgroup\":\"TESLA\",\"orientation\":\"v\",\"showlegend\":true,\"textposition\":\"auto\",\"x\":[\"TESLA\"],\"xaxis\":\"x\",\"y\":[10997],\"yaxis\":\"y\",\"type\":\"bar\"},{\"alignmentgroup\":\"True\",\"hovertemplate\":\"EV Make=%{x}<br>Model Year=2021<br>Number of EV Vehicles=%{y}<extra></extra>\",\"ids\":[\"TOYOTA\"],\"legendgroup\":\"TOYOTA\",\"marker\":{\"color\":\"#ab63fa\",\"pattern\":{\"shape\":\"\"}},\"name\":\"TOYOTA\",\"offsetgroup\":\"TOYOTA\",\"orientation\":\"v\",\"showlegend\":true,\"textposition\":\"auto\",\"x\":[\"TOYOTA\"],\"xaxis\":\"x\",\"y\":[205],\"yaxis\":\"y\",\"type\":\"bar\"},{\"alignmentgroup\":\"True\",\"hovertemplate\":\"EV Make=%{x}<br>Model Year=2021<br>Number of EV Vehicles=%{y}<extra></extra>\",\"ids\":[\"KIA\"],\"legendgroup\":\"KIA\",\"marker\":{\"color\":\"#FFA15A\",\"pattern\":{\"shape\":\"\"}},\"name\":\"KIA\",\"offsetgroup\":\"KIA\",\"orientation\":\"v\",\"showlegend\":true,\"textposition\":\"auto\",\"x\":[\"KIA\"],\"xaxis\":\"x\",\"y\":[73],\"yaxis\":\"y\",\"type\":\"bar\"}],\"name\":\"2021\"},{\"data\":[{\"alignmentgroup\":\"True\",\"hovertemplate\":\"EV Make=%{x}<br>Model Year=2022<br>Number of EV Vehicles=%{y}<extra></extra>\",\"ids\":[\"CHEVROLET\"],\"legendgroup\":\"CHEVROLET\",\"marker\":{\"color\":\"#636efa\",\"pattern\":{\"shape\":\"\"}},\"name\":\"CHEVROLET\",\"offsetgroup\":\"CHEVROLET\",\"orientation\":\"v\",\"showlegend\":true,\"textposition\":\"auto\",\"x\":[\"CHEVROLET\"],\"xaxis\":\"x\",\"y\":[890],\"yaxis\":\"y\",\"type\":\"bar\"},{\"alignmentgroup\":\"True\",\"hovertemplate\":\"EV Make=%{x}<br>Model Year=2022<br>Number of EV Vehicles=%{y}<extra></extra>\",\"ids\":[\"NISSAN\"],\"legendgroup\":\"NISSAN\",\"marker\":{\"color\":\"#EF553B\",\"pattern\":{\"shape\":\"\"}},\"name\":\"NISSAN\",\"offsetgroup\":\"NISSAN\",\"orientation\":\"v\",\"showlegend\":true,\"textposition\":\"auto\",\"x\":[\"NISSAN\"],\"xaxis\":\"x\",\"y\":[968],\"yaxis\":\"y\",\"type\":\"bar\"},{\"alignmentgroup\":\"True\",\"hovertemplate\":\"EV Make=%{x}<br>Model Year=2022<br>Number of EV Vehicles=%{y}<extra></extra>\",\"ids\":[\"TESLA\"],\"legendgroup\":\"TESLA\",\"marker\":{\"color\":\"#00cc96\",\"pattern\":{\"shape\":\"\"}},\"name\":\"TESLA\",\"offsetgroup\":\"TESLA\",\"orientation\":\"v\",\"showlegend\":true,\"textposition\":\"auto\",\"x\":[\"TESLA\"],\"xaxis\":\"x\",\"y\":[14525],\"yaxis\":\"y\",\"type\":\"bar\"},{\"alignmentgroup\":\"True\",\"hovertemplate\":\"EV Make=%{x}<br>Model Year=2022<br>Number of EV Vehicles=%{y}<extra></extra>\",\"ids\":[\"TOYOTA\"],\"legendgroup\":\"TOYOTA\",\"marker\":{\"color\":\"#ab63fa\",\"pattern\":{\"shape\":\"\"}},\"name\":\"TOYOTA\",\"offsetgroup\":\"TOYOTA\",\"orientation\":\"v\",\"showlegend\":true,\"textposition\":\"auto\",\"x\":[\"TOYOTA\"],\"xaxis\":\"x\",\"y\":[115],\"yaxis\":\"y\",\"type\":\"bar\"},{\"alignmentgroup\":\"True\",\"hovertemplate\":\"EV Make=%{x}<br>Model Year=2022<br>Number of EV Vehicles=%{y}<extra></extra>\",\"ids\":[\"KIA\"],\"legendgroup\":\"KIA\",\"marker\":{\"color\":\"#FFA15A\",\"pattern\":{\"shape\":\"\"}},\"name\":\"KIA\",\"offsetgroup\":\"KIA\",\"orientation\":\"v\",\"showlegend\":true,\"textposition\":\"auto\",\"x\":[\"KIA\"],\"xaxis\":\"x\",\"y\":[749],\"yaxis\":\"y\",\"type\":\"bar\"}],\"name\":\"2022\"},{\"data\":[{\"alignmentgroup\":\"True\",\"hovertemplate\":\"EV Make=%{x}<br>Model Year=2023<br>Number of EV Vehicles=%{y}<extra></extra>\",\"ids\":[\"CHEVROLET\"],\"legendgroup\":\"CHEVROLET\",\"marker\":{\"color\":\"#636efa\",\"pattern\":{\"shape\":\"\"}},\"name\":\"CHEVROLET\",\"offsetgroup\":\"CHEVROLET\",\"orientation\":\"v\",\"showlegend\":true,\"textposition\":\"auto\",\"x\":[\"CHEVROLET\"],\"xaxis\":\"x\",\"y\":[51],\"yaxis\":\"y\",\"type\":\"bar\"},{\"alignmentgroup\":\"True\",\"hovertemplate\":\"EV Make=%{x}<br>Model Year=2023<br>Number of EV Vehicles=%{y}<extra></extra>\",\"ids\":[\"NISSAN\"],\"legendgroup\":\"NISSAN\",\"marker\":{\"color\":\"#EF553B\",\"pattern\":{\"shape\":\"\"}},\"name\":\"NISSAN\",\"offsetgroup\":\"NISSAN\",\"orientation\":\"v\",\"showlegend\":true,\"textposition\":\"auto\",\"x\":[\"NISSAN\"],\"xaxis\":\"x\",\"y\":[149],\"yaxis\":\"y\",\"type\":\"bar\"},{\"alignmentgroup\":\"True\",\"hovertemplate\":\"EV Make=%{x}<br>Model Year=2023<br>Number of EV Vehicles=%{y}<extra></extra>\",\"ids\":[\"TESLA\"],\"legendgroup\":\"TESLA\",\"marker\":{\"color\":\"#00cc96\",\"pattern\":{\"shape\":\"\"}},\"name\":\"TESLA\",\"offsetgroup\":\"TESLA\",\"orientation\":\"v\",\"showlegend\":true,\"textposition\":\"auto\",\"x\":[\"TESLA\"],\"xaxis\":\"x\",\"y\":[890],\"yaxis\":\"y\",\"type\":\"bar\"},{\"alignmentgroup\":\"True\",\"hovertemplate\":\"EV Make=%{x}<br>Model Year=2023<br>Number of EV Vehicles=%{y}<extra></extra>\",\"ids\":[\"KIA\"],\"legendgroup\":\"KIA\",\"marker\":{\"color\":\"#FFA15A\",\"pattern\":{\"shape\":\"\"}},\"name\":\"KIA\",\"offsetgroup\":\"KIA\",\"orientation\":\"v\",\"showlegend\":true,\"textposition\":\"auto\",\"x\":[\"KIA\"],\"xaxis\":\"x\",\"y\":[33],\"yaxis\":\"y\",\"type\":\"bar\"},{\"alignmentgroup\":\"True\",\"hovertemplate\":\"EV Make=%{x}<br>Model Year=2023<br>Number of EV Vehicles=%{y}<extra></extra>\",\"ids\":[\"VOLVO\"],\"legendgroup\":\"VOLVO\",\"marker\":{\"color\":\"#19d3f3\",\"pattern\":{\"shape\":\"\"}},\"name\":\"VOLVO\",\"offsetgroup\":\"VOLVO\",\"orientation\":\"v\",\"showlegend\":true,\"textposition\":\"auto\",\"x\":[\"VOLVO\"],\"xaxis\":\"x\",\"y\":[20],\"yaxis\":\"y\",\"type\":\"bar\"}],\"name\":\"2023\"}]);\n",
       "                        }).then(function(){\n",
       "                            \n",
       "var gd = document.getElementById('a9c05b23-7096-4bd7-9c21-232b73f9fb52');\n",
       "var x = new MutationObserver(function (mutations, observer) {{\n",
       "        var display = window.getComputedStyle(gd).display;\n",
       "        if (!display || display === 'none') {{\n",
       "            console.log([gd, 'removed!']);\n",
       "            Plotly.purge(gd);\n",
       "            observer.disconnect();\n",
       "        }}\n",
       "}});\n",
       "\n",
       "// Listen for the removal of the full notebook cells\n",
       "var notebookContainer = gd.closest('#notebook-container');\n",
       "if (notebookContainer) {{\n",
       "    x.observe(notebookContainer, {childList: true});\n",
       "}}\n",
       "\n",
       "// Listen for the clearing of the current output cell\n",
       "var outputEl = gd.closest('.output');\n",
       "if (outputEl) {{\n",
       "    x.observe(outputEl, {childList: true});\n",
       "}}\n",
       "\n",
       "                        })                };                });            </script>        </div>"
      ]
     },
     "metadata": {},
     "output_type": "display_data"
    }
   ],
   "source": [
    "import pandas as pd\n",
    "import plotly.express as px\n",
    "\n",
    "ev_make_year_counts = df.groupby(['Model Year', 'Make']).size().reset_index(name='Count')\n",
    "\n",
    "\n",
    "fig = px.bar(\n",
    "    ev_make_year_counts,\n",
    "    x='Make',                \n",
    "    y='Count',               \n",
    "    color='Make',            \n",
    "    animation_frame='Model Year',  \n",
    "    animation_group='Make',  \n",
    "    range_y=[0, ev_make_year_counts['Count'].max() + 100],  \n",
    "    title='EV Make Count Over Years',\n",
    "    labels={'Count': 'Number of EV Vehicles', 'Make': 'EV Make'},\n",
    "    template='plotly_dark'  \n",
    ")\n",
    "\n",
    "\n",
    "fig.update_layout(\n",
    "    xaxis={'categoryorder': 'total descending'},  \n",
    "    yaxis_title='EV Count',\n",
    "    xaxis_title='EV Make',\n",
    "    showlegend=False  \n",
    ")\n",
    "\n",
    "fig.show()\n"
   ]
  },
  {
   "cell_type": "code",
   "execution_count": 94,
   "id": "42bf4eea",
   "metadata": {},
   "outputs": [],
   "source": [
    "df.to_csv('Cleaned_file.csv', index=False) "
   ]
  },
  {
   "cell_type": "code",
   "execution_count": null,
   "id": "f2783e29",
   "metadata": {},
   "outputs": [],
   "source": []
  }
 ],
 "metadata": {
  "kernelspec": {
   "display_name": "Python 3 (ipykernel)",
   "language": "python",
   "name": "python3"
  },
  "language_info": {
   "codemirror_mode": {
    "name": "ipython",
    "version": 3
   },
   "file_extension": ".py",
   "mimetype": "text/x-python",
   "name": "python",
   "nbconvert_exporter": "python",
   "pygments_lexer": "ipython3",
   "version": "3.9.12"
  }
 },
 "nbformat": 4,
 "nbformat_minor": 5
}
